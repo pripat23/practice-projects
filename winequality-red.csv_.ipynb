{
 "cells": [
  {
   "cell_type": "code",
   "execution_count": 632,
   "id": "44d3e158",
   "metadata": {},
   "outputs": [],
   "source": [
    "import pandas as pd\n",
    "import numpy as np\n",
    "import matplotlib.pyplot as plt\n",
    "import pickle\n",
    "import matplotlib_inline\n",
    "from sklearn.neighbors import KNeighborsRegressor,KNeighborsClassifier\n",
    "from sklearn.preprocessing import StandardScaler\n",
    "from sklearn.naive_bayes import GaussianNB\n",
    "from sklearn.model_selection import train_test_split\n",
    "from sklearn.model_selection import cross_val_score\n",
    "from sklearn.linear_model import LinearRegression\n",
    "from sklearn.linear_model import LogisticRegression\n",
    "from sklearn.tree import DecisionTreeClassifier\n",
    "from sklearn.tree import DecisionTreeRegressor\n",
    "from sklearn.svm import SVC\n",
    "from sklearn.svm import SVR\n",
    "from sklearn.metrics import r2_score\n",
    "import seaborn as sns\n",
    "from sklearn.metrics import mean_squared_error,mean_absolute_error\n",
    "from sklearn.metrics import confusion_matrix,accuracy_score,classification_report\n",
    "from sklearn.datasets import load_boston\n",
    "from sklearn.datasets import load_breast_cancer\n",
    "\n",
    "from sklearn.preprocessing import OneHotEncoder,LabelEncoder\n",
    "from sklearn.impute import SimpleImputer\n",
    "from sklearn.metrics import roc_curve,roc_auc_score\n",
    "from sklearn.linear_model import Lasso,Ridge,ElasticNet\n",
    "from sklearn.svm import SVR\n",
    "import statsmodels.api as sm\n",
    "from scipy import stats\n",
    "from statsmodels.stats.outliers_influence import variance_inflation_factor\n",
    "import warnings\n",
    "warnings.filterwarnings('ignore')\n",
    "from sklearn.decomposition import PCA\n",
    "from sklearn.ensemble import RandomForestClassifier,RandomForestRegressor\n",
    "from sklearn.ensemble import AdaBoostRegressor,AdaBoostClassifier\n",
    "from sklearn.ensemble import VotingRegressor,VotingClassifier\n",
    "from sklearn.naive_bayes import MultinomialNB\n",
    "from imblearn.over_sampling import SMOTE,SMOTEN,SMOTENC,SVMSMOTE\n",
    "from sklearn.preprocessing import power_transform,PowerTransformer\n",
    "from sklearn.model_selection import cross_val_score\n",
    "from sklearn.model_selection import GridSearchCV"
   ]
  },
  {
   "cell_type": "code",
   "execution_count": 633,
   "id": "ce10caa3",
   "metadata": {},
   "outputs": [
    {
     "data": {
      "text/html": [
       "<div>\n",
       "<style scoped>\n",
       "    .dataframe tbody tr th:only-of-type {\n",
       "        vertical-align: middle;\n",
       "    }\n",
       "\n",
       "    .dataframe tbody tr th {\n",
       "        vertical-align: top;\n",
       "    }\n",
       "\n",
       "    .dataframe thead th {\n",
       "        text-align: right;\n",
       "    }\n",
       "</style>\n",
       "<table border=\"1\" class=\"dataframe\">\n",
       "  <thead>\n",
       "    <tr style=\"text-align: right;\">\n",
       "      <th></th>\n",
       "      <th>fixed acidity</th>\n",
       "      <th>volatile acidity</th>\n",
       "      <th>citric acid</th>\n",
       "      <th>residual sugar</th>\n",
       "      <th>chlorides</th>\n",
       "      <th>free sulfur dioxide</th>\n",
       "      <th>total sulfur dioxide</th>\n",
       "      <th>density</th>\n",
       "      <th>pH</th>\n",
       "      <th>sulphates</th>\n",
       "      <th>alcohol</th>\n",
       "      <th>quality</th>\n",
       "    </tr>\n",
       "  </thead>\n",
       "  <tbody>\n",
       "    <tr>\n",
       "      <th>0</th>\n",
       "      <td>7.4</td>\n",
       "      <td>0.700</td>\n",
       "      <td>0.00</td>\n",
       "      <td>1.9</td>\n",
       "      <td>0.076</td>\n",
       "      <td>11.0</td>\n",
       "      <td>34.0</td>\n",
       "      <td>0.99780</td>\n",
       "      <td>3.51</td>\n",
       "      <td>0.56</td>\n",
       "      <td>9.4</td>\n",
       "      <td>5</td>\n",
       "    </tr>\n",
       "    <tr>\n",
       "      <th>1</th>\n",
       "      <td>7.8</td>\n",
       "      <td>0.880</td>\n",
       "      <td>0.00</td>\n",
       "      <td>2.6</td>\n",
       "      <td>0.098</td>\n",
       "      <td>25.0</td>\n",
       "      <td>67.0</td>\n",
       "      <td>0.99680</td>\n",
       "      <td>3.20</td>\n",
       "      <td>0.68</td>\n",
       "      <td>9.8</td>\n",
       "      <td>5</td>\n",
       "    </tr>\n",
       "    <tr>\n",
       "      <th>2</th>\n",
       "      <td>7.8</td>\n",
       "      <td>0.760</td>\n",
       "      <td>0.04</td>\n",
       "      <td>2.3</td>\n",
       "      <td>0.092</td>\n",
       "      <td>15.0</td>\n",
       "      <td>54.0</td>\n",
       "      <td>0.99700</td>\n",
       "      <td>3.26</td>\n",
       "      <td>0.65</td>\n",
       "      <td>9.8</td>\n",
       "      <td>5</td>\n",
       "    </tr>\n",
       "    <tr>\n",
       "      <th>3</th>\n",
       "      <td>11.2</td>\n",
       "      <td>0.280</td>\n",
       "      <td>0.56</td>\n",
       "      <td>1.9</td>\n",
       "      <td>0.075</td>\n",
       "      <td>17.0</td>\n",
       "      <td>60.0</td>\n",
       "      <td>0.99800</td>\n",
       "      <td>3.16</td>\n",
       "      <td>0.58</td>\n",
       "      <td>9.8</td>\n",
       "      <td>6</td>\n",
       "    </tr>\n",
       "    <tr>\n",
       "      <th>4</th>\n",
       "      <td>7.4</td>\n",
       "      <td>0.700</td>\n",
       "      <td>0.00</td>\n",
       "      <td>1.9</td>\n",
       "      <td>0.076</td>\n",
       "      <td>11.0</td>\n",
       "      <td>34.0</td>\n",
       "      <td>0.99780</td>\n",
       "      <td>3.51</td>\n",
       "      <td>0.56</td>\n",
       "      <td>9.4</td>\n",
       "      <td>5</td>\n",
       "    </tr>\n",
       "    <tr>\n",
       "      <th>...</th>\n",
       "      <td>...</td>\n",
       "      <td>...</td>\n",
       "      <td>...</td>\n",
       "      <td>...</td>\n",
       "      <td>...</td>\n",
       "      <td>...</td>\n",
       "      <td>...</td>\n",
       "      <td>...</td>\n",
       "      <td>...</td>\n",
       "      <td>...</td>\n",
       "      <td>...</td>\n",
       "      <td>...</td>\n",
       "    </tr>\n",
       "    <tr>\n",
       "      <th>1594</th>\n",
       "      <td>6.2</td>\n",
       "      <td>0.600</td>\n",
       "      <td>0.08</td>\n",
       "      <td>2.0</td>\n",
       "      <td>0.090</td>\n",
       "      <td>32.0</td>\n",
       "      <td>44.0</td>\n",
       "      <td>0.99490</td>\n",
       "      <td>3.45</td>\n",
       "      <td>0.58</td>\n",
       "      <td>10.5</td>\n",
       "      <td>5</td>\n",
       "    </tr>\n",
       "    <tr>\n",
       "      <th>1595</th>\n",
       "      <td>5.9</td>\n",
       "      <td>0.550</td>\n",
       "      <td>0.10</td>\n",
       "      <td>2.2</td>\n",
       "      <td>0.062</td>\n",
       "      <td>39.0</td>\n",
       "      <td>51.0</td>\n",
       "      <td>0.99512</td>\n",
       "      <td>3.52</td>\n",
       "      <td>0.76</td>\n",
       "      <td>11.2</td>\n",
       "      <td>6</td>\n",
       "    </tr>\n",
       "    <tr>\n",
       "      <th>1596</th>\n",
       "      <td>6.3</td>\n",
       "      <td>0.510</td>\n",
       "      <td>0.13</td>\n",
       "      <td>2.3</td>\n",
       "      <td>0.076</td>\n",
       "      <td>29.0</td>\n",
       "      <td>40.0</td>\n",
       "      <td>0.99574</td>\n",
       "      <td>3.42</td>\n",
       "      <td>0.75</td>\n",
       "      <td>11.0</td>\n",
       "      <td>6</td>\n",
       "    </tr>\n",
       "    <tr>\n",
       "      <th>1597</th>\n",
       "      <td>5.9</td>\n",
       "      <td>0.645</td>\n",
       "      <td>0.12</td>\n",
       "      <td>2.0</td>\n",
       "      <td>0.075</td>\n",
       "      <td>32.0</td>\n",
       "      <td>44.0</td>\n",
       "      <td>0.99547</td>\n",
       "      <td>3.57</td>\n",
       "      <td>0.71</td>\n",
       "      <td>10.2</td>\n",
       "      <td>5</td>\n",
       "    </tr>\n",
       "    <tr>\n",
       "      <th>1598</th>\n",
       "      <td>6.0</td>\n",
       "      <td>0.310</td>\n",
       "      <td>0.47</td>\n",
       "      <td>3.6</td>\n",
       "      <td>0.067</td>\n",
       "      <td>18.0</td>\n",
       "      <td>42.0</td>\n",
       "      <td>0.99549</td>\n",
       "      <td>3.39</td>\n",
       "      <td>0.66</td>\n",
       "      <td>11.0</td>\n",
       "      <td>6</td>\n",
       "    </tr>\n",
       "  </tbody>\n",
       "</table>\n",
       "<p>1599 rows × 12 columns</p>\n",
       "</div>"
      ],
      "text/plain": [
       "      fixed acidity  volatile acidity  citric acid  residual sugar  chlorides  \\\n",
       "0               7.4             0.700         0.00             1.9      0.076   \n",
       "1               7.8             0.880         0.00             2.6      0.098   \n",
       "2               7.8             0.760         0.04             2.3      0.092   \n",
       "3              11.2             0.280         0.56             1.9      0.075   \n",
       "4               7.4             0.700         0.00             1.9      0.076   \n",
       "...             ...               ...          ...             ...        ...   \n",
       "1594            6.2             0.600         0.08             2.0      0.090   \n",
       "1595            5.9             0.550         0.10             2.2      0.062   \n",
       "1596            6.3             0.510         0.13             2.3      0.076   \n",
       "1597            5.9             0.645         0.12             2.0      0.075   \n",
       "1598            6.0             0.310         0.47             3.6      0.067   \n",
       "\n",
       "      free sulfur dioxide  total sulfur dioxide  density    pH  sulphates  \\\n",
       "0                    11.0                  34.0  0.99780  3.51       0.56   \n",
       "1                    25.0                  67.0  0.99680  3.20       0.68   \n",
       "2                    15.0                  54.0  0.99700  3.26       0.65   \n",
       "3                    17.0                  60.0  0.99800  3.16       0.58   \n",
       "4                    11.0                  34.0  0.99780  3.51       0.56   \n",
       "...                   ...                   ...      ...   ...        ...   \n",
       "1594                 32.0                  44.0  0.99490  3.45       0.58   \n",
       "1595                 39.0                  51.0  0.99512  3.52       0.76   \n",
       "1596                 29.0                  40.0  0.99574  3.42       0.75   \n",
       "1597                 32.0                  44.0  0.99547  3.57       0.71   \n",
       "1598                 18.0                  42.0  0.99549  3.39       0.66   \n",
       "\n",
       "      alcohol  quality  \n",
       "0         9.4        5  \n",
       "1         9.8        5  \n",
       "2         9.8        5  \n",
       "3         9.8        6  \n",
       "4         9.4        5  \n",
       "...       ...      ...  \n",
       "1594     10.5        5  \n",
       "1595     11.2        6  \n",
       "1596     11.0        6  \n",
       "1597     10.2        5  \n",
       "1598     11.0        6  \n",
       "\n",
       "[1599 rows x 12 columns]"
      ]
     },
     "execution_count": 633,
     "metadata": {},
     "output_type": "execute_result"
    }
   ],
   "source": [
    "df=pd.read_csv('winequality-red.csv')\n",
    "df"
   ]
  },
  {
   "cell_type": "code",
   "execution_count": 634,
   "id": "443b2d7c",
   "metadata": {},
   "outputs": [
    {
     "data": {
      "text/plain": [
       "(1599, 12)"
      ]
     },
     "execution_count": 634,
     "metadata": {},
     "output_type": "execute_result"
    }
   ],
   "source": [
    "df.shape"
   ]
  },
  {
   "cell_type": "code",
   "execution_count": 635,
   "id": "e1626479",
   "metadata": {},
   "outputs": [
    {
     "data": {
      "text/html": [
       "<div>\n",
       "<style scoped>\n",
       "    .dataframe tbody tr th:only-of-type {\n",
       "        vertical-align: middle;\n",
       "    }\n",
       "\n",
       "    .dataframe tbody tr th {\n",
       "        vertical-align: top;\n",
       "    }\n",
       "\n",
       "    .dataframe thead th {\n",
       "        text-align: right;\n",
       "    }\n",
       "</style>\n",
       "<table border=\"1\" class=\"dataframe\">\n",
       "  <thead>\n",
       "    <tr style=\"text-align: right;\">\n",
       "      <th></th>\n",
       "      <th>fixed acidity</th>\n",
       "      <th>volatile acidity</th>\n",
       "      <th>citric acid</th>\n",
       "      <th>residual sugar</th>\n",
       "      <th>chlorides</th>\n",
       "      <th>free sulfur dioxide</th>\n",
       "      <th>total sulfur dioxide</th>\n",
       "      <th>density</th>\n",
       "      <th>pH</th>\n",
       "      <th>sulphates</th>\n",
       "      <th>alcohol</th>\n",
       "      <th>quality</th>\n",
       "    </tr>\n",
       "  </thead>\n",
       "  <tbody>\n",
       "    <tr>\n",
       "      <th>0</th>\n",
       "      <td>7.4</td>\n",
       "      <td>0.70</td>\n",
       "      <td>0.00</td>\n",
       "      <td>1.9</td>\n",
       "      <td>0.076</td>\n",
       "      <td>11.0</td>\n",
       "      <td>34.0</td>\n",
       "      <td>0.9978</td>\n",
       "      <td>3.51</td>\n",
       "      <td>0.56</td>\n",
       "      <td>9.4</td>\n",
       "      <td>5</td>\n",
       "    </tr>\n",
       "    <tr>\n",
       "      <th>1</th>\n",
       "      <td>7.8</td>\n",
       "      <td>0.88</td>\n",
       "      <td>0.00</td>\n",
       "      <td>2.6</td>\n",
       "      <td>0.098</td>\n",
       "      <td>25.0</td>\n",
       "      <td>67.0</td>\n",
       "      <td>0.9968</td>\n",
       "      <td>3.20</td>\n",
       "      <td>0.68</td>\n",
       "      <td>9.8</td>\n",
       "      <td>5</td>\n",
       "    </tr>\n",
       "    <tr>\n",
       "      <th>2</th>\n",
       "      <td>7.8</td>\n",
       "      <td>0.76</td>\n",
       "      <td>0.04</td>\n",
       "      <td>2.3</td>\n",
       "      <td>0.092</td>\n",
       "      <td>15.0</td>\n",
       "      <td>54.0</td>\n",
       "      <td>0.9970</td>\n",
       "      <td>3.26</td>\n",
       "      <td>0.65</td>\n",
       "      <td>9.8</td>\n",
       "      <td>5</td>\n",
       "    </tr>\n",
       "    <tr>\n",
       "      <th>3</th>\n",
       "      <td>11.2</td>\n",
       "      <td>0.28</td>\n",
       "      <td>0.56</td>\n",
       "      <td>1.9</td>\n",
       "      <td>0.075</td>\n",
       "      <td>17.0</td>\n",
       "      <td>60.0</td>\n",
       "      <td>0.9980</td>\n",
       "      <td>3.16</td>\n",
       "      <td>0.58</td>\n",
       "      <td>9.8</td>\n",
       "      <td>6</td>\n",
       "    </tr>\n",
       "    <tr>\n",
       "      <th>4</th>\n",
       "      <td>7.4</td>\n",
       "      <td>0.70</td>\n",
       "      <td>0.00</td>\n",
       "      <td>1.9</td>\n",
       "      <td>0.076</td>\n",
       "      <td>11.0</td>\n",
       "      <td>34.0</td>\n",
       "      <td>0.9978</td>\n",
       "      <td>3.51</td>\n",
       "      <td>0.56</td>\n",
       "      <td>9.4</td>\n",
       "      <td>5</td>\n",
       "    </tr>\n",
       "  </tbody>\n",
       "</table>\n",
       "</div>"
      ],
      "text/plain": [
       "   fixed acidity  volatile acidity  citric acid  residual sugar  chlorides  \\\n",
       "0            7.4              0.70         0.00             1.9      0.076   \n",
       "1            7.8              0.88         0.00             2.6      0.098   \n",
       "2            7.8              0.76         0.04             2.3      0.092   \n",
       "3           11.2              0.28         0.56             1.9      0.075   \n",
       "4            7.4              0.70         0.00             1.9      0.076   \n",
       "\n",
       "   free sulfur dioxide  total sulfur dioxide  density    pH  sulphates  \\\n",
       "0                 11.0                  34.0   0.9978  3.51       0.56   \n",
       "1                 25.0                  67.0   0.9968  3.20       0.68   \n",
       "2                 15.0                  54.0   0.9970  3.26       0.65   \n",
       "3                 17.0                  60.0   0.9980  3.16       0.58   \n",
       "4                 11.0                  34.0   0.9978  3.51       0.56   \n",
       "\n",
       "   alcohol  quality  \n",
       "0      9.4        5  \n",
       "1      9.8        5  \n",
       "2      9.8        5  \n",
       "3      9.8        6  \n",
       "4      9.4        5  "
      ]
     },
     "execution_count": 635,
     "metadata": {},
     "output_type": "execute_result"
    }
   ],
   "source": [
    "df.head()"
   ]
  },
  {
   "cell_type": "code",
   "execution_count": 636,
   "id": "8986197a",
   "metadata": {},
   "outputs": [
    {
     "data": {
      "text/html": [
       "<div>\n",
       "<style scoped>\n",
       "    .dataframe tbody tr th:only-of-type {\n",
       "        vertical-align: middle;\n",
       "    }\n",
       "\n",
       "    .dataframe tbody tr th {\n",
       "        vertical-align: top;\n",
       "    }\n",
       "\n",
       "    .dataframe thead th {\n",
       "        text-align: right;\n",
       "    }\n",
       "</style>\n",
       "<table border=\"1\" class=\"dataframe\">\n",
       "  <thead>\n",
       "    <tr style=\"text-align: right;\">\n",
       "      <th></th>\n",
       "      <th>fixed acidity</th>\n",
       "      <th>volatile acidity</th>\n",
       "      <th>citric acid</th>\n",
       "      <th>residual sugar</th>\n",
       "      <th>chlorides</th>\n",
       "      <th>free sulfur dioxide</th>\n",
       "      <th>total sulfur dioxide</th>\n",
       "      <th>density</th>\n",
       "      <th>pH</th>\n",
       "      <th>sulphates</th>\n",
       "      <th>alcohol</th>\n",
       "      <th>quality</th>\n",
       "    </tr>\n",
       "  </thead>\n",
       "  <tbody>\n",
       "    <tr>\n",
       "      <th>1594</th>\n",
       "      <td>6.2</td>\n",
       "      <td>0.600</td>\n",
       "      <td>0.08</td>\n",
       "      <td>2.0</td>\n",
       "      <td>0.090</td>\n",
       "      <td>32.0</td>\n",
       "      <td>44.0</td>\n",
       "      <td>0.99490</td>\n",
       "      <td>3.45</td>\n",
       "      <td>0.58</td>\n",
       "      <td>10.5</td>\n",
       "      <td>5</td>\n",
       "    </tr>\n",
       "    <tr>\n",
       "      <th>1595</th>\n",
       "      <td>5.9</td>\n",
       "      <td>0.550</td>\n",
       "      <td>0.10</td>\n",
       "      <td>2.2</td>\n",
       "      <td>0.062</td>\n",
       "      <td>39.0</td>\n",
       "      <td>51.0</td>\n",
       "      <td>0.99512</td>\n",
       "      <td>3.52</td>\n",
       "      <td>0.76</td>\n",
       "      <td>11.2</td>\n",
       "      <td>6</td>\n",
       "    </tr>\n",
       "    <tr>\n",
       "      <th>1596</th>\n",
       "      <td>6.3</td>\n",
       "      <td>0.510</td>\n",
       "      <td>0.13</td>\n",
       "      <td>2.3</td>\n",
       "      <td>0.076</td>\n",
       "      <td>29.0</td>\n",
       "      <td>40.0</td>\n",
       "      <td>0.99574</td>\n",
       "      <td>3.42</td>\n",
       "      <td>0.75</td>\n",
       "      <td>11.0</td>\n",
       "      <td>6</td>\n",
       "    </tr>\n",
       "    <tr>\n",
       "      <th>1597</th>\n",
       "      <td>5.9</td>\n",
       "      <td>0.645</td>\n",
       "      <td>0.12</td>\n",
       "      <td>2.0</td>\n",
       "      <td>0.075</td>\n",
       "      <td>32.0</td>\n",
       "      <td>44.0</td>\n",
       "      <td>0.99547</td>\n",
       "      <td>3.57</td>\n",
       "      <td>0.71</td>\n",
       "      <td>10.2</td>\n",
       "      <td>5</td>\n",
       "    </tr>\n",
       "    <tr>\n",
       "      <th>1598</th>\n",
       "      <td>6.0</td>\n",
       "      <td>0.310</td>\n",
       "      <td>0.47</td>\n",
       "      <td>3.6</td>\n",
       "      <td>0.067</td>\n",
       "      <td>18.0</td>\n",
       "      <td>42.0</td>\n",
       "      <td>0.99549</td>\n",
       "      <td>3.39</td>\n",
       "      <td>0.66</td>\n",
       "      <td>11.0</td>\n",
       "      <td>6</td>\n",
       "    </tr>\n",
       "  </tbody>\n",
       "</table>\n",
       "</div>"
      ],
      "text/plain": [
       "      fixed acidity  volatile acidity  citric acid  residual sugar  chlorides  \\\n",
       "1594            6.2             0.600         0.08             2.0      0.090   \n",
       "1595            5.9             0.550         0.10             2.2      0.062   \n",
       "1596            6.3             0.510         0.13             2.3      0.076   \n",
       "1597            5.9             0.645         0.12             2.0      0.075   \n",
       "1598            6.0             0.310         0.47             3.6      0.067   \n",
       "\n",
       "      free sulfur dioxide  total sulfur dioxide  density    pH  sulphates  \\\n",
       "1594                 32.0                  44.0  0.99490  3.45       0.58   \n",
       "1595                 39.0                  51.0  0.99512  3.52       0.76   \n",
       "1596                 29.0                  40.0  0.99574  3.42       0.75   \n",
       "1597                 32.0                  44.0  0.99547  3.57       0.71   \n",
       "1598                 18.0                  42.0  0.99549  3.39       0.66   \n",
       "\n",
       "      alcohol  quality  \n",
       "1594     10.5        5  \n",
       "1595     11.2        6  \n",
       "1596     11.0        6  \n",
       "1597     10.2        5  \n",
       "1598     11.0        6  "
      ]
     },
     "execution_count": 636,
     "metadata": {},
     "output_type": "execute_result"
    }
   ],
   "source": [
    "df.tail()"
   ]
  },
  {
   "cell_type": "code",
   "execution_count": 637,
   "id": "8b0be3ff",
   "metadata": {},
   "outputs": [
    {
     "data": {
      "text/html": [
       "<div>\n",
       "<style scoped>\n",
       "    .dataframe tbody tr th:only-of-type {\n",
       "        vertical-align: middle;\n",
       "    }\n",
       "\n",
       "    .dataframe tbody tr th {\n",
       "        vertical-align: top;\n",
       "    }\n",
       "\n",
       "    .dataframe thead th {\n",
       "        text-align: right;\n",
       "    }\n",
       "</style>\n",
       "<table border=\"1\" class=\"dataframe\">\n",
       "  <thead>\n",
       "    <tr style=\"text-align: right;\">\n",
       "      <th></th>\n",
       "      <th>fixed acidity</th>\n",
       "      <th>volatile acidity</th>\n",
       "      <th>citric acid</th>\n",
       "      <th>residual sugar</th>\n",
       "      <th>chlorides</th>\n",
       "      <th>free sulfur dioxide</th>\n",
       "      <th>total sulfur dioxide</th>\n",
       "      <th>density</th>\n",
       "      <th>pH</th>\n",
       "      <th>sulphates</th>\n",
       "      <th>alcohol</th>\n",
       "      <th>quality</th>\n",
       "    </tr>\n",
       "  </thead>\n",
       "  <tbody>\n",
       "    <tr>\n",
       "      <th>149</th>\n",
       "      <td>8.2</td>\n",
       "      <td>0.400</td>\n",
       "      <td>0.44</td>\n",
       "      <td>2.8</td>\n",
       "      <td>0.089</td>\n",
       "      <td>11.0</td>\n",
       "      <td>43.0</td>\n",
       "      <td>0.99750</td>\n",
       "      <td>3.53</td>\n",
       "      <td>0.61</td>\n",
       "      <td>10.5</td>\n",
       "      <td>6</td>\n",
       "    </tr>\n",
       "    <tr>\n",
       "      <th>572</th>\n",
       "      <td>10.2</td>\n",
       "      <td>0.240</td>\n",
       "      <td>0.49</td>\n",
       "      <td>2.4</td>\n",
       "      <td>0.075</td>\n",
       "      <td>10.0</td>\n",
       "      <td>28.0</td>\n",
       "      <td>0.99780</td>\n",
       "      <td>3.14</td>\n",
       "      <td>0.61</td>\n",
       "      <td>10.4</td>\n",
       "      <td>5</td>\n",
       "    </tr>\n",
       "    <tr>\n",
       "      <th>979</th>\n",
       "      <td>12.2</td>\n",
       "      <td>0.450</td>\n",
       "      <td>0.49</td>\n",
       "      <td>1.4</td>\n",
       "      <td>0.075</td>\n",
       "      <td>3.0</td>\n",
       "      <td>6.0</td>\n",
       "      <td>0.99690</td>\n",
       "      <td>3.13</td>\n",
       "      <td>0.63</td>\n",
       "      <td>10.4</td>\n",
       "      <td>5</td>\n",
       "    </tr>\n",
       "    <tr>\n",
       "      <th>346</th>\n",
       "      <td>6.6</td>\n",
       "      <td>0.815</td>\n",
       "      <td>0.02</td>\n",
       "      <td>2.7</td>\n",
       "      <td>0.072</td>\n",
       "      <td>17.0</td>\n",
       "      <td>34.0</td>\n",
       "      <td>0.99550</td>\n",
       "      <td>3.58</td>\n",
       "      <td>0.89</td>\n",
       "      <td>12.3</td>\n",
       "      <td>7</td>\n",
       "    </tr>\n",
       "    <tr>\n",
       "      <th>885</th>\n",
       "      <td>8.9</td>\n",
       "      <td>0.750</td>\n",
       "      <td>0.14</td>\n",
       "      <td>2.5</td>\n",
       "      <td>0.086</td>\n",
       "      <td>9.0</td>\n",
       "      <td>30.0</td>\n",
       "      <td>0.99824</td>\n",
       "      <td>3.34</td>\n",
       "      <td>0.64</td>\n",
       "      <td>10.5</td>\n",
       "      <td>5</td>\n",
       "    </tr>\n",
       "    <tr>\n",
       "      <th>32</th>\n",
       "      <td>8.3</td>\n",
       "      <td>0.655</td>\n",
       "      <td>0.12</td>\n",
       "      <td>2.3</td>\n",
       "      <td>0.083</td>\n",
       "      <td>15.0</td>\n",
       "      <td>113.0</td>\n",
       "      <td>0.99660</td>\n",
       "      <td>3.17</td>\n",
       "      <td>0.66</td>\n",
       "      <td>9.8</td>\n",
       "      <td>5</td>\n",
       "    </tr>\n",
       "    <tr>\n",
       "      <th>696</th>\n",
       "      <td>7.0</td>\n",
       "      <td>0.650</td>\n",
       "      <td>0.02</td>\n",
       "      <td>2.1</td>\n",
       "      <td>0.066</td>\n",
       "      <td>8.0</td>\n",
       "      <td>25.0</td>\n",
       "      <td>0.99720</td>\n",
       "      <td>3.47</td>\n",
       "      <td>0.67</td>\n",
       "      <td>9.5</td>\n",
       "      <td>6</td>\n",
       "    </tr>\n",
       "    <tr>\n",
       "      <th>660</th>\n",
       "      <td>7.2</td>\n",
       "      <td>0.520</td>\n",
       "      <td>0.07</td>\n",
       "      <td>1.4</td>\n",
       "      <td>0.074</td>\n",
       "      <td>5.0</td>\n",
       "      <td>20.0</td>\n",
       "      <td>0.99730</td>\n",
       "      <td>3.32</td>\n",
       "      <td>0.81</td>\n",
       "      <td>9.6</td>\n",
       "      <td>6</td>\n",
       "    </tr>\n",
       "  </tbody>\n",
       "</table>\n",
       "</div>"
      ],
      "text/plain": [
       "     fixed acidity  volatile acidity  citric acid  residual sugar  chlorides  \\\n",
       "149            8.2             0.400         0.44             2.8      0.089   \n",
       "572           10.2             0.240         0.49             2.4      0.075   \n",
       "979           12.2             0.450         0.49             1.4      0.075   \n",
       "346            6.6             0.815         0.02             2.7      0.072   \n",
       "885            8.9             0.750         0.14             2.5      0.086   \n",
       "32             8.3             0.655         0.12             2.3      0.083   \n",
       "696            7.0             0.650         0.02             2.1      0.066   \n",
       "660            7.2             0.520         0.07             1.4      0.074   \n",
       "\n",
       "     free sulfur dioxide  total sulfur dioxide  density    pH  sulphates  \\\n",
       "149                 11.0                  43.0  0.99750  3.53       0.61   \n",
       "572                 10.0                  28.0  0.99780  3.14       0.61   \n",
       "979                  3.0                   6.0  0.99690  3.13       0.63   \n",
       "346                 17.0                  34.0  0.99550  3.58       0.89   \n",
       "885                  9.0                  30.0  0.99824  3.34       0.64   \n",
       "32                  15.0                 113.0  0.99660  3.17       0.66   \n",
       "696                  8.0                  25.0  0.99720  3.47       0.67   \n",
       "660                  5.0                  20.0  0.99730  3.32       0.81   \n",
       "\n",
       "     alcohol  quality  \n",
       "149     10.5        6  \n",
       "572     10.4        5  \n",
       "979     10.4        5  \n",
       "346     12.3        7  \n",
       "885     10.5        5  \n",
       "32       9.8        5  \n",
       "696      9.5        6  \n",
       "660      9.6        6  "
      ]
     },
     "execution_count": 637,
     "metadata": {},
     "output_type": "execute_result"
    }
   ],
   "source": [
    "df.sample(8)"
   ]
  },
  {
   "cell_type": "code",
   "execution_count": 638,
   "id": "75f369d8",
   "metadata": {},
   "outputs": [
    {
     "data": {
      "text/plain": [
       "fixed acidity           float64\n",
       "volatile acidity        float64\n",
       "citric acid             float64\n",
       "residual sugar          float64\n",
       "chlorides               float64\n",
       "free sulfur dioxide     float64\n",
       "total sulfur dioxide    float64\n",
       "density                 float64\n",
       "pH                      float64\n",
       "sulphates               float64\n",
       "alcohol                 float64\n",
       "quality                   int64\n",
       "dtype: object"
      ]
     },
     "execution_count": 638,
     "metadata": {},
     "output_type": "execute_result"
    }
   ],
   "source": [
    "df.dtypes"
   ]
  },
  {
   "cell_type": "code",
   "execution_count": 639,
   "id": "337104b9",
   "metadata": {},
   "outputs": [
    {
     "name": "stdout",
     "output_type": "stream",
     "text": [
      "<class 'pandas.core.frame.DataFrame'>\n",
      "RangeIndex: 1599 entries, 0 to 1598\n",
      "Data columns (total 12 columns):\n",
      " #   Column                Non-Null Count  Dtype  \n",
      "---  ------                --------------  -----  \n",
      " 0   fixed acidity         1599 non-null   float64\n",
      " 1   volatile acidity      1599 non-null   float64\n",
      " 2   citric acid           1599 non-null   float64\n",
      " 3   residual sugar        1599 non-null   float64\n",
      " 4   chlorides             1599 non-null   float64\n",
      " 5   free sulfur dioxide   1599 non-null   float64\n",
      " 6   total sulfur dioxide  1599 non-null   float64\n",
      " 7   density               1599 non-null   float64\n",
      " 8   pH                    1599 non-null   float64\n",
      " 9   sulphates             1599 non-null   float64\n",
      " 10  alcohol               1599 non-null   float64\n",
      " 11  quality               1599 non-null   int64  \n",
      "dtypes: float64(11), int64(1)\n",
      "memory usage: 150.0 KB\n"
     ]
    }
   ],
   "source": [
    "df.info()"
   ]
  },
  {
   "cell_type": "code",
   "execution_count": 640,
   "id": "695283ff",
   "metadata": {},
   "outputs": [
    {
     "data": {
      "text/html": [
       "<div>\n",
       "<style scoped>\n",
       "    .dataframe tbody tr th:only-of-type {\n",
       "        vertical-align: middle;\n",
       "    }\n",
       "\n",
       "    .dataframe tbody tr th {\n",
       "        vertical-align: top;\n",
       "    }\n",
       "\n",
       "    .dataframe thead th {\n",
       "        text-align: right;\n",
       "    }\n",
       "</style>\n",
       "<table border=\"1\" class=\"dataframe\">\n",
       "  <thead>\n",
       "    <tr style=\"text-align: right;\">\n",
       "      <th></th>\n",
       "      <th>fixed acidity</th>\n",
       "      <th>volatile acidity</th>\n",
       "      <th>citric acid</th>\n",
       "      <th>residual sugar</th>\n",
       "      <th>chlorides</th>\n",
       "      <th>free sulfur dioxide</th>\n",
       "      <th>total sulfur dioxide</th>\n",
       "      <th>density</th>\n",
       "      <th>pH</th>\n",
       "      <th>sulphates</th>\n",
       "      <th>alcohol</th>\n",
       "      <th>quality</th>\n",
       "    </tr>\n",
       "  </thead>\n",
       "  <tbody>\n",
       "    <tr>\n",
       "      <th>count</th>\n",
       "      <td>1599.000000</td>\n",
       "      <td>1599.000000</td>\n",
       "      <td>1599.000000</td>\n",
       "      <td>1599.000000</td>\n",
       "      <td>1599.000000</td>\n",
       "      <td>1599.000000</td>\n",
       "      <td>1599.000000</td>\n",
       "      <td>1599.000000</td>\n",
       "      <td>1599.000000</td>\n",
       "      <td>1599.000000</td>\n",
       "      <td>1599.000000</td>\n",
       "      <td>1599.000000</td>\n",
       "    </tr>\n",
       "    <tr>\n",
       "      <th>mean</th>\n",
       "      <td>8.319637</td>\n",
       "      <td>0.527821</td>\n",
       "      <td>0.270976</td>\n",
       "      <td>2.538806</td>\n",
       "      <td>0.087467</td>\n",
       "      <td>15.874922</td>\n",
       "      <td>46.467792</td>\n",
       "      <td>0.996747</td>\n",
       "      <td>3.311113</td>\n",
       "      <td>0.658149</td>\n",
       "      <td>10.422983</td>\n",
       "      <td>5.636023</td>\n",
       "    </tr>\n",
       "    <tr>\n",
       "      <th>std</th>\n",
       "      <td>1.741096</td>\n",
       "      <td>0.179060</td>\n",
       "      <td>0.194801</td>\n",
       "      <td>1.409928</td>\n",
       "      <td>0.047065</td>\n",
       "      <td>10.460157</td>\n",
       "      <td>32.895324</td>\n",
       "      <td>0.001887</td>\n",
       "      <td>0.154386</td>\n",
       "      <td>0.169507</td>\n",
       "      <td>1.065668</td>\n",
       "      <td>0.807569</td>\n",
       "    </tr>\n",
       "    <tr>\n",
       "      <th>min</th>\n",
       "      <td>4.600000</td>\n",
       "      <td>0.120000</td>\n",
       "      <td>0.000000</td>\n",
       "      <td>0.900000</td>\n",
       "      <td>0.012000</td>\n",
       "      <td>1.000000</td>\n",
       "      <td>6.000000</td>\n",
       "      <td>0.990070</td>\n",
       "      <td>2.740000</td>\n",
       "      <td>0.330000</td>\n",
       "      <td>8.400000</td>\n",
       "      <td>3.000000</td>\n",
       "    </tr>\n",
       "    <tr>\n",
       "      <th>25%</th>\n",
       "      <td>7.100000</td>\n",
       "      <td>0.390000</td>\n",
       "      <td>0.090000</td>\n",
       "      <td>1.900000</td>\n",
       "      <td>0.070000</td>\n",
       "      <td>7.000000</td>\n",
       "      <td>22.000000</td>\n",
       "      <td>0.995600</td>\n",
       "      <td>3.210000</td>\n",
       "      <td>0.550000</td>\n",
       "      <td>9.500000</td>\n",
       "      <td>5.000000</td>\n",
       "    </tr>\n",
       "    <tr>\n",
       "      <th>50%</th>\n",
       "      <td>7.900000</td>\n",
       "      <td>0.520000</td>\n",
       "      <td>0.260000</td>\n",
       "      <td>2.200000</td>\n",
       "      <td>0.079000</td>\n",
       "      <td>14.000000</td>\n",
       "      <td>38.000000</td>\n",
       "      <td>0.996750</td>\n",
       "      <td>3.310000</td>\n",
       "      <td>0.620000</td>\n",
       "      <td>10.200000</td>\n",
       "      <td>6.000000</td>\n",
       "    </tr>\n",
       "    <tr>\n",
       "      <th>75%</th>\n",
       "      <td>9.200000</td>\n",
       "      <td>0.640000</td>\n",
       "      <td>0.420000</td>\n",
       "      <td>2.600000</td>\n",
       "      <td>0.090000</td>\n",
       "      <td>21.000000</td>\n",
       "      <td>62.000000</td>\n",
       "      <td>0.997835</td>\n",
       "      <td>3.400000</td>\n",
       "      <td>0.730000</td>\n",
       "      <td>11.100000</td>\n",
       "      <td>6.000000</td>\n",
       "    </tr>\n",
       "    <tr>\n",
       "      <th>max</th>\n",
       "      <td>15.900000</td>\n",
       "      <td>1.580000</td>\n",
       "      <td>1.000000</td>\n",
       "      <td>15.500000</td>\n",
       "      <td>0.611000</td>\n",
       "      <td>72.000000</td>\n",
       "      <td>289.000000</td>\n",
       "      <td>1.003690</td>\n",
       "      <td>4.010000</td>\n",
       "      <td>2.000000</td>\n",
       "      <td>14.900000</td>\n",
       "      <td>8.000000</td>\n",
       "    </tr>\n",
       "  </tbody>\n",
       "</table>\n",
       "</div>"
      ],
      "text/plain": [
       "       fixed acidity  volatile acidity  citric acid  residual sugar  \\\n",
       "count    1599.000000       1599.000000  1599.000000     1599.000000   \n",
       "mean        8.319637          0.527821     0.270976        2.538806   \n",
       "std         1.741096          0.179060     0.194801        1.409928   \n",
       "min         4.600000          0.120000     0.000000        0.900000   \n",
       "25%         7.100000          0.390000     0.090000        1.900000   \n",
       "50%         7.900000          0.520000     0.260000        2.200000   \n",
       "75%         9.200000          0.640000     0.420000        2.600000   \n",
       "max        15.900000          1.580000     1.000000       15.500000   \n",
       "\n",
       "         chlorides  free sulfur dioxide  total sulfur dioxide      density  \\\n",
       "count  1599.000000          1599.000000           1599.000000  1599.000000   \n",
       "mean      0.087467            15.874922             46.467792     0.996747   \n",
       "std       0.047065            10.460157             32.895324     0.001887   \n",
       "min       0.012000             1.000000              6.000000     0.990070   \n",
       "25%       0.070000             7.000000             22.000000     0.995600   \n",
       "50%       0.079000            14.000000             38.000000     0.996750   \n",
       "75%       0.090000            21.000000             62.000000     0.997835   \n",
       "max       0.611000            72.000000            289.000000     1.003690   \n",
       "\n",
       "                pH    sulphates      alcohol      quality  \n",
       "count  1599.000000  1599.000000  1599.000000  1599.000000  \n",
       "mean      3.311113     0.658149    10.422983     5.636023  \n",
       "std       0.154386     0.169507     1.065668     0.807569  \n",
       "min       2.740000     0.330000     8.400000     3.000000  \n",
       "25%       3.210000     0.550000     9.500000     5.000000  \n",
       "50%       3.310000     0.620000    10.200000     6.000000  \n",
       "75%       3.400000     0.730000    11.100000     6.000000  \n",
       "max       4.010000     2.000000    14.900000     8.000000  "
      ]
     },
     "execution_count": 640,
     "metadata": {},
     "output_type": "execute_result"
    }
   ],
   "source": [
    "df.describe()"
   ]
  },
  {
   "cell_type": "code",
   "execution_count": 641,
   "id": "3790cb9d",
   "metadata": {},
   "outputs": [
    {
     "data": {
      "image/png": "[encoded data removed]",
      "text/plain": [
       "<Figure size 720x720 with 12 Axes>"
      ]
     },
     "metadata": {
      "needs_background": "light"
     },
     "output_type": "display_data"
    }
   ],
   "source": [
    "df.hist(bins=25,figsize=(10,10))\n",
    "plt.show()"
   ]
  },
  {
   "cell_type": "code",
   "execution_count": 642,
   "id": "f08feed7",
   "metadata": {},
   "outputs": [
    {
     "data": {
      "text/plain": [
       "<BarContainer object of 1599 artists>"
      ]
     },
     "execution_count": 642,
     "metadata": {},
     "output_type": "execute_result"
    },
    {
     "data": {
      "image/png": "[encoded data removed]",
      "text/plain": [
       "<Figure size 720x432 with 1 Axes>"
      ]
     },
     "metadata": {
      "needs_background": "light"
     },
     "output_type": "display_data"
    }
   ],
   "source": [
    "plt.figure(figsize=[10,6])\n",
    "# plot bar graph\n",
    "plt.bar(df['quality'],df['alcohol'],color='green')"
   ]
  },
  {
   "cell_type": "code",
   "execution_count": 643,
   "id": "2be6d00a",
   "metadata": {},
   "outputs": [
    {
     "data": {
      "image/png": "[encoded data removed]",
      "text/plain": [
       "<Figure size 1008x1152 with 12 Axes>"
      ]
     },
     "metadata": {
      "needs_background": "light"
     },
     "output_type": "display_data"
    }
   ],
   "source": [
    "plt.figure(figsize=(14,16))\n",
    "cols=df.columns\n",
    "cnt=1\n",
    "for col in cols:\n",
    "    plt.subplot(4,3,cnt)\n",
    "    sns.boxplot(x='quality',y=col,data=df,palette='rainbow_r')\n",
    "    cnt=cnt+1\n",
    "plt.show()    "
   ]
  },
  {
   "cell_type": "code",
   "execution_count": 644,
   "id": "b92041cf",
   "metadata": {},
   "outputs": [
    {
     "data": {
      "text/plain": [
       "Index(['fixed acidity', 'volatile acidity', 'citric acid', 'residual sugar',\n",
       "       'chlorides', 'free sulfur dioxide', 'total sulfur dioxide', 'density',\n",
       "       'pH', 'sulphates', 'alcohol', 'quality'],\n",
       "      dtype='object')"
      ]
     },
     "execution_count": 644,
     "metadata": {},
     "output_type": "execute_result"
    }
   ],
   "source": [
    "df.columns"
   ]
  },
  {
   "cell_type": "code",
   "execution_count": 645,
   "id": "6e2649a3",
   "metadata": {},
   "outputs": [
    {
     "data": {
      "image/png": "[encoded data removed]",
      "text/plain": [
       "<Figure size 1440x360 with 3 Axes>"
      ]
     },
     "metadata": {
      "needs_background": "light"
     },
     "output_type": "display_data"
    }
   ],
   "source": [
    "fig,axs=plt.subplots(nrows=1,ncols=3,figsize=(20,5))\n",
    "cols=['volatile acidity','sulphates','alcohol']\n",
    "for col, ax in zip(cols,axs.flat):\n",
    "    sns.regplot(x=df[col],y=df['quality'],color='orange',ax=ax)"
   ]
  },
  {
   "cell_type": "code",
   "execution_count": 646,
   "id": "e8ba1edf",
   "metadata": {},
   "outputs": [
    {
     "data": {
      "text/html": [
       "<div>\n",
       "<style scoped>\n",
       "    .dataframe tbody tr th:only-of-type {\n",
       "        vertical-align: middle;\n",
       "    }\n",
       "\n",
       "    .dataframe tbody tr th {\n",
       "        vertical-align: top;\n",
       "    }\n",
       "\n",
       "    .dataframe thead th {\n",
       "        text-align: right;\n",
       "    }\n",
       "</style>\n",
       "<table border=\"1\" class=\"dataframe\">\n",
       "  <thead>\n",
       "    <tr style=\"text-align: right;\">\n",
       "      <th></th>\n",
       "      <th>fixed acidity</th>\n",
       "      <th>volatile acidity</th>\n",
       "      <th>citric acid</th>\n",
       "      <th>residual sugar</th>\n",
       "      <th>chlorides</th>\n",
       "      <th>free sulfur dioxide</th>\n",
       "      <th>total sulfur dioxide</th>\n",
       "      <th>density</th>\n",
       "      <th>pH</th>\n",
       "      <th>sulphates</th>\n",
       "      <th>alcohol</th>\n",
       "      <th>quality</th>\n",
       "    </tr>\n",
       "  </thead>\n",
       "  <tbody>\n",
       "    <tr>\n",
       "      <th>fixed acidity</th>\n",
       "      <td>1.000000</td>\n",
       "      <td>-0.256131</td>\n",
       "      <td>0.671703</td>\n",
       "      <td>0.114777</td>\n",
       "      <td>0.093705</td>\n",
       "      <td>-0.153794</td>\n",
       "      <td>-0.113181</td>\n",
       "      <td>0.668047</td>\n",
       "      <td>-0.682978</td>\n",
       "      <td>0.183006</td>\n",
       "      <td>-0.061668</td>\n",
       "      <td>0.124052</td>\n",
       "    </tr>\n",
       "    <tr>\n",
       "      <th>volatile acidity</th>\n",
       "      <td>-0.256131</td>\n",
       "      <td>1.000000</td>\n",
       "      <td>-0.552496</td>\n",
       "      <td>0.001918</td>\n",
       "      <td>0.061298</td>\n",
       "      <td>-0.010504</td>\n",
       "      <td>0.076470</td>\n",
       "      <td>0.022026</td>\n",
       "      <td>0.234937</td>\n",
       "      <td>-0.260987</td>\n",
       "      <td>-0.202288</td>\n",
       "      <td>-0.390558</td>\n",
       "    </tr>\n",
       "    <tr>\n",
       "      <th>citric acid</th>\n",
       "      <td>0.671703</td>\n",
       "      <td>-0.552496</td>\n",
       "      <td>1.000000</td>\n",
       "      <td>0.143577</td>\n",
       "      <td>0.203823</td>\n",
       "      <td>-0.060978</td>\n",
       "      <td>0.035533</td>\n",
       "      <td>0.364947</td>\n",
       "      <td>-0.541904</td>\n",
       "      <td>0.312770</td>\n",
       "      <td>0.109903</td>\n",
       "      <td>0.226373</td>\n",
       "    </tr>\n",
       "    <tr>\n",
       "      <th>residual sugar</th>\n",
       "      <td>0.114777</td>\n",
       "      <td>0.001918</td>\n",
       "      <td>0.143577</td>\n",
       "      <td>1.000000</td>\n",
       "      <td>0.055610</td>\n",
       "      <td>0.187049</td>\n",
       "      <td>0.203028</td>\n",
       "      <td>0.355283</td>\n",
       "      <td>-0.085652</td>\n",
       "      <td>0.005527</td>\n",
       "      <td>0.042075</td>\n",
       "      <td>0.013732</td>\n",
       "    </tr>\n",
       "    <tr>\n",
       "      <th>chlorides</th>\n",
       "      <td>0.093705</td>\n",
       "      <td>0.061298</td>\n",
       "      <td>0.203823</td>\n",
       "      <td>0.055610</td>\n",
       "      <td>1.000000</td>\n",
       "      <td>0.005562</td>\n",
       "      <td>0.047400</td>\n",
       "      <td>0.200632</td>\n",
       "      <td>-0.265026</td>\n",
       "      <td>0.371260</td>\n",
       "      <td>-0.221141</td>\n",
       "      <td>-0.128907</td>\n",
       "    </tr>\n",
       "    <tr>\n",
       "      <th>free sulfur dioxide</th>\n",
       "      <td>-0.153794</td>\n",
       "      <td>-0.010504</td>\n",
       "      <td>-0.060978</td>\n",
       "      <td>0.187049</td>\n",
       "      <td>0.005562</td>\n",
       "      <td>1.000000</td>\n",
       "      <td>0.667666</td>\n",
       "      <td>-0.021946</td>\n",
       "      <td>0.070377</td>\n",
       "      <td>0.051658</td>\n",
       "      <td>-0.069408</td>\n",
       "      <td>-0.050656</td>\n",
       "    </tr>\n",
       "    <tr>\n",
       "      <th>total sulfur dioxide</th>\n",
       "      <td>-0.113181</td>\n",
       "      <td>0.076470</td>\n",
       "      <td>0.035533</td>\n",
       "      <td>0.203028</td>\n",
       "      <td>0.047400</td>\n",
       "      <td>0.667666</td>\n",
       "      <td>1.000000</td>\n",
       "      <td>0.071269</td>\n",
       "      <td>-0.066495</td>\n",
       "      <td>0.042947</td>\n",
       "      <td>-0.205654</td>\n",
       "      <td>-0.185100</td>\n",
       "    </tr>\n",
       "    <tr>\n",
       "      <th>density</th>\n",
       "      <td>0.668047</td>\n",
       "      <td>0.022026</td>\n",
       "      <td>0.364947</td>\n",
       "      <td>0.355283</td>\n",
       "      <td>0.200632</td>\n",
       "      <td>-0.021946</td>\n",
       "      <td>0.071269</td>\n",
       "      <td>1.000000</td>\n",
       "      <td>-0.341699</td>\n",
       "      <td>0.148506</td>\n",
       "      <td>-0.496180</td>\n",
       "      <td>-0.174919</td>\n",
       "    </tr>\n",
       "    <tr>\n",
       "      <th>pH</th>\n",
       "      <td>-0.682978</td>\n",
       "      <td>0.234937</td>\n",
       "      <td>-0.541904</td>\n",
       "      <td>-0.085652</td>\n",
       "      <td>-0.265026</td>\n",
       "      <td>0.070377</td>\n",
       "      <td>-0.066495</td>\n",
       "      <td>-0.341699</td>\n",
       "      <td>1.000000</td>\n",
       "      <td>-0.196648</td>\n",
       "      <td>0.205633</td>\n",
       "      <td>-0.057731</td>\n",
       "    </tr>\n",
       "    <tr>\n",
       "      <th>sulphates</th>\n",
       "      <td>0.183006</td>\n",
       "      <td>-0.260987</td>\n",
       "      <td>0.312770</td>\n",
       "      <td>0.005527</td>\n",
       "      <td>0.371260</td>\n",
       "      <td>0.051658</td>\n",
       "      <td>0.042947</td>\n",
       "      <td>0.148506</td>\n",
       "      <td>-0.196648</td>\n",
       "      <td>1.000000</td>\n",
       "      <td>0.093595</td>\n",
       "      <td>0.251397</td>\n",
       "    </tr>\n",
       "    <tr>\n",
       "      <th>alcohol</th>\n",
       "      <td>-0.061668</td>\n",
       "      <td>-0.202288</td>\n",
       "      <td>0.109903</td>\n",
       "      <td>0.042075</td>\n",
       "      <td>-0.221141</td>\n",
       "      <td>-0.069408</td>\n",
       "      <td>-0.205654</td>\n",
       "      <td>-0.496180</td>\n",
       "      <td>0.205633</td>\n",
       "      <td>0.093595</td>\n",
       "      <td>1.000000</td>\n",
       "      <td>0.476166</td>\n",
       "    </tr>\n",
       "    <tr>\n",
       "      <th>quality</th>\n",
       "      <td>0.124052</td>\n",
       "      <td>-0.390558</td>\n",
       "      <td>0.226373</td>\n",
       "      <td>0.013732</td>\n",
       "      <td>-0.128907</td>\n",
       "      <td>-0.050656</td>\n",
       "      <td>-0.185100</td>\n",
       "      <td>-0.174919</td>\n",
       "      <td>-0.057731</td>\n",
       "      <td>0.251397</td>\n",
       "      <td>0.476166</td>\n",
       "      <td>1.000000</td>\n",
       "    </tr>\n",
       "  </tbody>\n",
       "</table>\n",
       "</div>"
      ],
      "text/plain": [
       "                      fixed acidity  volatile acidity  citric acid  \\\n",
       "fixed acidity              1.000000         -0.256131     0.671703   \n",
       "volatile acidity          -0.256131          1.000000    -0.552496   \n",
       "citric acid                0.671703         -0.552496     1.000000   \n",
       "residual sugar             0.114777          0.001918     0.143577   \n",
       "chlorides                  0.093705          0.061298     0.203823   \n",
       "free sulfur dioxide       -0.153794         -0.010504    -0.060978   \n",
       "total sulfur dioxide      -0.113181          0.076470     0.035533   \n",
       "density                    0.668047          0.022026     0.364947   \n",
       "pH                        -0.682978          0.234937    -0.541904   \n",
       "sulphates                  0.183006         -0.260987     0.312770   \n",
       "alcohol                   -0.061668         -0.202288     0.109903   \n",
       "quality                    0.124052         -0.390558     0.226373   \n",
       "\n",
       "                      residual sugar  chlorides  free sulfur dioxide  \\\n",
       "fixed acidity               0.114777   0.093705            -0.153794   \n",
       "volatile acidity            0.001918   0.061298            -0.010504   \n",
       "citric acid                 0.143577   0.203823            -0.060978   \n",
       "residual sugar              1.000000   0.055610             0.187049   \n",
       "chlorides                   0.055610   1.000000             0.005562   \n",
       "free sulfur dioxide         0.187049   0.005562             1.000000   \n",
       "total sulfur dioxide        0.203028   0.047400             0.667666   \n",
       "density                     0.355283   0.200632            -0.021946   \n",
       "pH                         -0.085652  -0.265026             0.070377   \n",
       "sulphates                   0.005527   0.371260             0.051658   \n",
       "alcohol                     0.042075  -0.221141            -0.069408   \n",
       "quality                     0.013732  -0.128907            -0.050656   \n",
       "\n",
       "                      total sulfur dioxide   density        pH  sulphates  \\\n",
       "fixed acidity                    -0.113181  0.668047 -0.682978   0.183006   \n",
       "volatile acidity                  0.076470  0.022026  0.234937  -0.260987   \n",
       "citric acid                       0.035533  0.364947 -0.541904   0.312770   \n",
       "residual sugar                    0.203028  0.355283 -0.085652   0.005527   \n",
       "chlorides                         0.047400  0.200632 -0.265026   0.371260   \n",
       "free sulfur dioxide               0.667666 -0.021946  0.070377   0.051658   \n",
       "total sulfur dioxide              1.000000  0.071269 -0.066495   0.042947   \n",
       "density                           0.071269  1.000000 -0.341699   0.148506   \n",
       "pH                               -0.066495 -0.341699  1.000000  -0.196648   \n",
       "sulphates                         0.042947  0.148506 -0.196648   1.000000   \n",
       "alcohol                          -0.205654 -0.496180  0.205633   0.093595   \n",
       "quality                          -0.185100 -0.174919 -0.057731   0.251397   \n",
       "\n",
       "                       alcohol   quality  \n",
       "fixed acidity        -0.061668  0.124052  \n",
       "volatile acidity     -0.202288 -0.390558  \n",
       "citric acid           0.109903  0.226373  \n",
       "residual sugar        0.042075  0.013732  \n",
       "chlorides            -0.221141 -0.128907  \n",
       "free sulfur dioxide  -0.069408 -0.050656  \n",
       "total sulfur dioxide -0.205654 -0.185100  \n",
       "density              -0.496180 -0.174919  \n",
       "pH                    0.205633 -0.057731  \n",
       "sulphates             0.093595  0.251397  \n",
       "alcohol               1.000000  0.476166  \n",
       "quality               0.476166  1.000000  "
      ]
     },
     "execution_count": 646,
     "metadata": {},
     "output_type": "execute_result"
    }
   ],
   "source": [
    "dfcor=df.corr()\n",
    "dfcor"
   ]
  },
  {
   "cell_type": "code",
   "execution_count": 647,
   "id": "dbc84ce4",
   "metadata": {},
   "outputs": [
    {
     "data": {
      "text/plain": [
       "<AxesSubplot:>"
      ]
     },
     "execution_count": 647,
     "metadata": {},
     "output_type": "execute_result"
    },
    {
     "data": {
      "image/png": "[encoded data removed]",
      "text/plain": [
       "<Figure size 1152x864 with 2 Axes>"
      ]
     },
     "metadata": {
      "needs_background": "light"
     },
     "output_type": "display_data"
    }
   ],
   "source": [
    "plt.figure(figsize=(16,12))\n",
    "sns.heatmap(dfcor,annot=True,cmap='coolwarm')"
   ]
  },
  {
   "cell_type": "code",
   "execution_count": 648,
   "id": "4f92ec38",
   "metadata": {},
   "outputs": [
    {
     "name": "stdout",
     "output_type": "stream",
     "text": [
      "citric acid\n",
      "citric acid\n",
      "total sulfur dioxide\n",
      "density\n",
      "pH\n",
      "pH\n"
     ]
    }
   ],
   "source": [
    "for a in range(len(df.corr().columns)):\n",
    "    for b in range(a):\n",
    "        if abs(df.corr().iloc[a,b]) >0.5:\n",
    "            name = df.corr().columns[a]\n",
    "            print(name)"
   ]
  },
  {
   "cell_type": "code",
   "execution_count": 649,
   "id": "5e506605",
   "metadata": {},
   "outputs": [
    {
     "data": {
      "text/plain": [
       "array([5, 6, 7, 4, 8, 3], dtype=int64)"
      ]
     },
     "execution_count": 649,
     "metadata": {},
     "output_type": "execute_result"
    }
   ],
   "source": [
    "df['quality'].unique()"
   ]
  },
  {
   "cell_type": "code",
   "execution_count": 650,
   "id": "90c28059",
   "metadata": {},
   "outputs": [
    {
     "data": {
      "text/plain": [
       "5    681\n",
       "6    638\n",
       "7    199\n",
       "4     53\n",
       "8     18\n",
       "3     10\n",
       "Name: quality, dtype: int64"
      ]
     },
     "execution_count": 650,
     "metadata": {},
     "output_type": "execute_result"
    }
   ],
   "source": [
    "df['quality'].value_counts()"
   ]
  },
  {
   "cell_type": "code",
   "execution_count": 651,
   "id": "35451010",
   "metadata": {},
   "outputs": [
    {
     "data": {
      "text/plain": [
       "<AxesSubplot:xlabel='quality', ylabel='count'>"
      ]
     },
     "execution_count": 651,
     "metadata": {},
     "output_type": "execute_result"
    },
    {
     "data": {
      "image/png": "[encoded data removed]",
      "text/plain": [
       "<Figure size 432x288 with 1 Axes>"
      ]
     },
     "metadata": {
      "needs_background": "light"
     },
     "output_type": "display_data"
    }
   ],
   "source": [
    "sns.countplot(x='quality',data=df)"
   ]
  },
  {
   "cell_type": "code",
   "execution_count": 652,
   "id": "bf33c28e",
   "metadata": {},
   "outputs": [
    {
     "data": {
      "image/png": "[encoded data removed]",
      "text/plain": [
       "<Figure size 432x288 with 1 Axes>"
      ]
     },
     "metadata": {
      "needs_background": "light"
     },
     "output_type": "display_data"
    },
    {
     "data": {
      "image/png": "[encoded data removed]",
      "text/plain": [
       "<Figure size 432x288 with 1 Axes>"
      ]
     },
     "metadata": {
      "needs_background": "light"
     },
     "output_type": "display_data"
    },
    {
     "data": {
      "image/png": "[encoded data removed]",
      "text/plain": [
       "<Figure size 432x288 with 1 Axes>"
      ]
     },
     "metadata": {
      "needs_background": "light"
     },
     "output_type": "display_data"
    },
    {
     "data": {
      "image/png": "[encoded data removed]",
      "text/plain": [
       "<Figure size 432x288 with 1 Axes>"
      ]
     },
     "metadata": {
      "needs_background": "light"
     },
     "output_type": "display_data"
    },
    {
     "data": {
      "image/png": "[encoded data removed]",
      "text/plain": [
       "<Figure size 432x288 with 1 Axes>"
      ]
     },
     "metadata": {
      "needs_background": "light"
     },
     "output_type": "display_data"
    },
    {
     "data": {
      "image/png": "[encoded data removed]",
      "text/plain": [
       "<Figure size 432x288 with 1 Axes>"
      ]
     },
     "metadata": {
      "needs_background": "light"
     },
     "output_type": "display_data"
    },
    {
     "data": {
      "image/png": "[encoded data removed]",
      "text/plain": [
       "<Figure size 432x288 with 1 Axes>"
      ]
     },
     "metadata": {
      "needs_background": "light"
     },
     "output_type": "display_data"
    },
    {
     "data": {
      "image/png": "[encoded data removed]",
      "text/plain": [
       "<Figure size 432x288 with 1 Axes>"
      ]
     },
     "metadata": {
      "needs_background": "light"
     },
     "output_type": "display_data"
    },
    {
     "data": {
      "image/png": "[encoded data removed]",
      "text/plain": [
       "<Figure size 432x288 with 1 Axes>"
      ]
     },
     "metadata": {
      "needs_background": "light"
     },
     "output_type": "display_data"
    },
    {
     "data": {
      "image/png": "[encoded data removed]",
      "text/plain": [
       "<Figure size 432x288 with 1 Axes>"
      ]
     },
     "metadata": {
      "needs_background": "light"
     },
     "output_type": "display_data"
    },
    {
     "data": {
      "image/png": "[encoded data removed]",
      "text/plain": [
       "<Figure size 432x288 with 1 Axes>"
      ]
     },
     "metadata": {
      "needs_background": "light"
     },
     "output_type": "display_data"
    },
    {
     "data": {
      "image/png": "[encoded data removed]",
      "text/plain": [
       "<Figure size 432x288 with 1 Axes>"
      ]
     },
     "metadata": {
      "needs_background": "light"
     },
     "output_type": "display_data"
    }
   ],
   "source": [
    "df1=df.select_dtypes([np.int,np.float])\n",
    "for i,col in enumerate(df1.columns):\n",
    "    plt.figure(i)\n",
    "    sns.barplot(x='quality',y=col,data=df1)"
   ]
  },
  {
   "cell_type": "code",
   "execution_count": 653,
   "id": "3f112778",
   "metadata": {},
   "outputs": [],
   "source": [
    "bins=(2,6,8)\n",
    "group_names=['bad','good']\n",
    "df['quality']=pd.cut(df['quality'],bins=bins,labels=group_names)"
   ]
  },
  {
   "cell_type": "code",
   "execution_count": 654,
   "id": "a4b388b6",
   "metadata": {},
   "outputs": [
    {
     "data": {
      "text/plain": [
       "bad     1382\n",
       "good     217\n",
       "Name: quality, dtype: int64"
      ]
     },
     "execution_count": 654,
     "metadata": {},
     "output_type": "execute_result"
    }
   ],
   "source": [
    "df['quality'].value_counts()"
   ]
  },
  {
   "cell_type": "code",
   "execution_count": 655,
   "id": "758e0217",
   "metadata": {},
   "outputs": [],
   "source": [
    "le=LabelEncoder()\n",
    "list1=['quality']\n",
    "for val in list1:\n",
    "    df[val]=le.fit_transform(df[val].astype(str))"
   ]
  },
  {
   "cell_type": "code",
   "execution_count": 656,
   "id": "e9a88fee",
   "metadata": {},
   "outputs": [
    {
     "data": {
      "text/html": [
       "<div>\n",
       "<style scoped>\n",
       "    .dataframe tbody tr th:only-of-type {\n",
       "        vertical-align: middle;\n",
       "    }\n",
       "\n",
       "    .dataframe tbody tr th {\n",
       "        vertical-align: top;\n",
       "    }\n",
       "\n",
       "    .dataframe thead th {\n",
       "        text-align: right;\n",
       "    }\n",
       "</style>\n",
       "<table border=\"1\" class=\"dataframe\">\n",
       "  <thead>\n",
       "    <tr style=\"text-align: right;\">\n",
       "      <th></th>\n",
       "      <th>fixed acidity</th>\n",
       "      <th>volatile acidity</th>\n",
       "      <th>citric acid</th>\n",
       "      <th>residual sugar</th>\n",
       "      <th>chlorides</th>\n",
       "      <th>free sulfur dioxide</th>\n",
       "      <th>total sulfur dioxide</th>\n",
       "      <th>density</th>\n",
       "      <th>pH</th>\n",
       "      <th>sulphates</th>\n",
       "      <th>alcohol</th>\n",
       "      <th>quality</th>\n",
       "    </tr>\n",
       "  </thead>\n",
       "  <tbody>\n",
       "    <tr>\n",
       "      <th>0</th>\n",
       "      <td>7.4</td>\n",
       "      <td>0.700</td>\n",
       "      <td>0.00</td>\n",
       "      <td>1.9</td>\n",
       "      <td>0.076</td>\n",
       "      <td>11.0</td>\n",
       "      <td>34.0</td>\n",
       "      <td>0.99780</td>\n",
       "      <td>3.51</td>\n",
       "      <td>0.56</td>\n",
       "      <td>9.4</td>\n",
       "      <td>0</td>\n",
       "    </tr>\n",
       "    <tr>\n",
       "      <th>1</th>\n",
       "      <td>7.8</td>\n",
       "      <td>0.880</td>\n",
       "      <td>0.00</td>\n",
       "      <td>2.6</td>\n",
       "      <td>0.098</td>\n",
       "      <td>25.0</td>\n",
       "      <td>67.0</td>\n",
       "      <td>0.99680</td>\n",
       "      <td>3.20</td>\n",
       "      <td>0.68</td>\n",
       "      <td>9.8</td>\n",
       "      <td>0</td>\n",
       "    </tr>\n",
       "    <tr>\n",
       "      <th>2</th>\n",
       "      <td>7.8</td>\n",
       "      <td>0.760</td>\n",
       "      <td>0.04</td>\n",
       "      <td>2.3</td>\n",
       "      <td>0.092</td>\n",
       "      <td>15.0</td>\n",
       "      <td>54.0</td>\n",
       "      <td>0.99700</td>\n",
       "      <td>3.26</td>\n",
       "      <td>0.65</td>\n",
       "      <td>9.8</td>\n",
       "      <td>0</td>\n",
       "    </tr>\n",
       "    <tr>\n",
       "      <th>3</th>\n",
       "      <td>11.2</td>\n",
       "      <td>0.280</td>\n",
       "      <td>0.56</td>\n",
       "      <td>1.9</td>\n",
       "      <td>0.075</td>\n",
       "      <td>17.0</td>\n",
       "      <td>60.0</td>\n",
       "      <td>0.99800</td>\n",
       "      <td>3.16</td>\n",
       "      <td>0.58</td>\n",
       "      <td>9.8</td>\n",
       "      <td>0</td>\n",
       "    </tr>\n",
       "    <tr>\n",
       "      <th>4</th>\n",
       "      <td>7.4</td>\n",
       "      <td>0.700</td>\n",
       "      <td>0.00</td>\n",
       "      <td>1.9</td>\n",
       "      <td>0.076</td>\n",
       "      <td>11.0</td>\n",
       "      <td>34.0</td>\n",
       "      <td>0.99780</td>\n",
       "      <td>3.51</td>\n",
       "      <td>0.56</td>\n",
       "      <td>9.4</td>\n",
       "      <td>0</td>\n",
       "    </tr>\n",
       "    <tr>\n",
       "      <th>...</th>\n",
       "      <td>...</td>\n",
       "      <td>...</td>\n",
       "      <td>...</td>\n",
       "      <td>...</td>\n",
       "      <td>...</td>\n",
       "      <td>...</td>\n",
       "      <td>...</td>\n",
       "      <td>...</td>\n",
       "      <td>...</td>\n",
       "      <td>...</td>\n",
       "      <td>...</td>\n",
       "      <td>...</td>\n",
       "    </tr>\n",
       "    <tr>\n",
       "      <th>1594</th>\n",
       "      <td>6.2</td>\n",
       "      <td>0.600</td>\n",
       "      <td>0.08</td>\n",
       "      <td>2.0</td>\n",
       "      <td>0.090</td>\n",
       "      <td>32.0</td>\n",
       "      <td>44.0</td>\n",
       "      <td>0.99490</td>\n",
       "      <td>3.45</td>\n",
       "      <td>0.58</td>\n",
       "      <td>10.5</td>\n",
       "      <td>0</td>\n",
       "    </tr>\n",
       "    <tr>\n",
       "      <th>1595</th>\n",
       "      <td>5.9</td>\n",
       "      <td>0.550</td>\n",
       "      <td>0.10</td>\n",
       "      <td>2.2</td>\n",
       "      <td>0.062</td>\n",
       "      <td>39.0</td>\n",
       "      <td>51.0</td>\n",
       "      <td>0.99512</td>\n",
       "      <td>3.52</td>\n",
       "      <td>0.76</td>\n",
       "      <td>11.2</td>\n",
       "      <td>0</td>\n",
       "    </tr>\n",
       "    <tr>\n",
       "      <th>1596</th>\n",
       "      <td>6.3</td>\n",
       "      <td>0.510</td>\n",
       "      <td>0.13</td>\n",
       "      <td>2.3</td>\n",
       "      <td>0.076</td>\n",
       "      <td>29.0</td>\n",
       "      <td>40.0</td>\n",
       "      <td>0.99574</td>\n",
       "      <td>3.42</td>\n",
       "      <td>0.75</td>\n",
       "      <td>11.0</td>\n",
       "      <td>0</td>\n",
       "    </tr>\n",
       "    <tr>\n",
       "      <th>1597</th>\n",
       "      <td>5.9</td>\n",
       "      <td>0.645</td>\n",
       "      <td>0.12</td>\n",
       "      <td>2.0</td>\n",
       "      <td>0.075</td>\n",
       "      <td>32.0</td>\n",
       "      <td>44.0</td>\n",
       "      <td>0.99547</td>\n",
       "      <td>3.57</td>\n",
       "      <td>0.71</td>\n",
       "      <td>10.2</td>\n",
       "      <td>0</td>\n",
       "    </tr>\n",
       "    <tr>\n",
       "      <th>1598</th>\n",
       "      <td>6.0</td>\n",
       "      <td>0.310</td>\n",
       "      <td>0.47</td>\n",
       "      <td>3.6</td>\n",
       "      <td>0.067</td>\n",
       "      <td>18.0</td>\n",
       "      <td>42.0</td>\n",
       "      <td>0.99549</td>\n",
       "      <td>3.39</td>\n",
       "      <td>0.66</td>\n",
       "      <td>11.0</td>\n",
       "      <td>0</td>\n",
       "    </tr>\n",
       "  </tbody>\n",
       "</table>\n",
       "<p>1599 rows × 12 columns</p>\n",
       "</div>"
      ],
      "text/plain": [
       "      fixed acidity  volatile acidity  citric acid  residual sugar  chlorides  \\\n",
       "0               7.4             0.700         0.00             1.9      0.076   \n",
       "1               7.8             0.880         0.00             2.6      0.098   \n",
       "2               7.8             0.760         0.04             2.3      0.092   \n",
       "3              11.2             0.280         0.56             1.9      0.075   \n",
       "4               7.4             0.700         0.00             1.9      0.076   \n",
       "...             ...               ...          ...             ...        ...   \n",
       "1594            6.2             0.600         0.08             2.0      0.090   \n",
       "1595            5.9             0.550         0.10             2.2      0.062   \n",
       "1596            6.3             0.510         0.13             2.3      0.076   \n",
       "1597            5.9             0.645         0.12             2.0      0.075   \n",
       "1598            6.0             0.310         0.47             3.6      0.067   \n",
       "\n",
       "      free sulfur dioxide  total sulfur dioxide  density    pH  sulphates  \\\n",
       "0                    11.0                  34.0  0.99780  3.51       0.56   \n",
       "1                    25.0                  67.0  0.99680  3.20       0.68   \n",
       "2                    15.0                  54.0  0.99700  3.26       0.65   \n",
       "3                    17.0                  60.0  0.99800  3.16       0.58   \n",
       "4                    11.0                  34.0  0.99780  3.51       0.56   \n",
       "...                   ...                   ...      ...   ...        ...   \n",
       "1594                 32.0                  44.0  0.99490  3.45       0.58   \n",
       "1595                 39.0                  51.0  0.99512  3.52       0.76   \n",
       "1596                 29.0                  40.0  0.99574  3.42       0.75   \n",
       "1597                 32.0                  44.0  0.99547  3.57       0.71   \n",
       "1598                 18.0                  42.0  0.99549  3.39       0.66   \n",
       "\n",
       "      alcohol  quality  \n",
       "0         9.4        0  \n",
       "1         9.8        0  \n",
       "2         9.8        0  \n",
       "3         9.8        0  \n",
       "4         9.4        0  \n",
       "...       ...      ...  \n",
       "1594     10.5        0  \n",
       "1595     11.2        0  \n",
       "1596     11.0        0  \n",
       "1597     10.2        0  \n",
       "1598     11.0        0  \n",
       "\n",
       "[1599 rows x 12 columns]"
      ]
     },
     "execution_count": 656,
     "metadata": {},
     "output_type": "execute_result"
    }
   ],
   "source": [
    "df"
   ]
  },
  {
   "cell_type": "code",
   "execution_count": 657,
   "id": "8a7f5fb1",
   "metadata": {},
   "outputs": [
    {
     "data": {
      "text/html": [
       "<div>\n",
       "<style scoped>\n",
       "    .dataframe tbody tr th:only-of-type {\n",
       "        vertical-align: middle;\n",
       "    }\n",
       "\n",
       "    .dataframe tbody tr th {\n",
       "        vertical-align: top;\n",
       "    }\n",
       "\n",
       "    .dataframe thead th {\n",
       "        text-align: right;\n",
       "    }\n",
       "</style>\n",
       "<table border=\"1\" class=\"dataframe\">\n",
       "  <thead>\n",
       "    <tr style=\"text-align: right;\">\n",
       "      <th></th>\n",
       "      <th>fixed acidity</th>\n",
       "      <th>volatile acidity</th>\n",
       "      <th>citric acid</th>\n",
       "      <th>residual sugar</th>\n",
       "      <th>chlorides</th>\n",
       "      <th>free sulfur dioxide</th>\n",
       "      <th>total sulfur dioxide</th>\n",
       "      <th>density</th>\n",
       "      <th>pH</th>\n",
       "      <th>sulphates</th>\n",
       "      <th>alcohol</th>\n",
       "    </tr>\n",
       "  </thead>\n",
       "  <tbody>\n",
       "    <tr>\n",
       "      <th>0</th>\n",
       "      <td>7.4</td>\n",
       "      <td>0.700</td>\n",
       "      <td>0.00</td>\n",
       "      <td>1.9</td>\n",
       "      <td>0.076</td>\n",
       "      <td>11.0</td>\n",
       "      <td>34.0</td>\n",
       "      <td>0.99780</td>\n",
       "      <td>3.51</td>\n",
       "      <td>0.56</td>\n",
       "      <td>9.4</td>\n",
       "    </tr>\n",
       "    <tr>\n",
       "      <th>1</th>\n",
       "      <td>7.8</td>\n",
       "      <td>0.880</td>\n",
       "      <td>0.00</td>\n",
       "      <td>2.6</td>\n",
       "      <td>0.098</td>\n",
       "      <td>25.0</td>\n",
       "      <td>67.0</td>\n",
       "      <td>0.99680</td>\n",
       "      <td>3.20</td>\n",
       "      <td>0.68</td>\n",
       "      <td>9.8</td>\n",
       "    </tr>\n",
       "    <tr>\n",
       "      <th>2</th>\n",
       "      <td>7.8</td>\n",
       "      <td>0.760</td>\n",
       "      <td>0.04</td>\n",
       "      <td>2.3</td>\n",
       "      <td>0.092</td>\n",
       "      <td>15.0</td>\n",
       "      <td>54.0</td>\n",
       "      <td>0.99700</td>\n",
       "      <td>3.26</td>\n",
       "      <td>0.65</td>\n",
       "      <td>9.8</td>\n",
       "    </tr>\n",
       "    <tr>\n",
       "      <th>3</th>\n",
       "      <td>11.2</td>\n",
       "      <td>0.280</td>\n",
       "      <td>0.56</td>\n",
       "      <td>1.9</td>\n",
       "      <td>0.075</td>\n",
       "      <td>17.0</td>\n",
       "      <td>60.0</td>\n",
       "      <td>0.99800</td>\n",
       "      <td>3.16</td>\n",
       "      <td>0.58</td>\n",
       "      <td>9.8</td>\n",
       "    </tr>\n",
       "    <tr>\n",
       "      <th>4</th>\n",
       "      <td>7.4</td>\n",
       "      <td>0.700</td>\n",
       "      <td>0.00</td>\n",
       "      <td>1.9</td>\n",
       "      <td>0.076</td>\n",
       "      <td>11.0</td>\n",
       "      <td>34.0</td>\n",
       "      <td>0.99780</td>\n",
       "      <td>3.51</td>\n",
       "      <td>0.56</td>\n",
       "      <td>9.4</td>\n",
       "    </tr>\n",
       "    <tr>\n",
       "      <th>...</th>\n",
       "      <td>...</td>\n",
       "      <td>...</td>\n",
       "      <td>...</td>\n",
       "      <td>...</td>\n",
       "      <td>...</td>\n",
       "      <td>...</td>\n",
       "      <td>...</td>\n",
       "      <td>...</td>\n",
       "      <td>...</td>\n",
       "      <td>...</td>\n",
       "      <td>...</td>\n",
       "    </tr>\n",
       "    <tr>\n",
       "      <th>1594</th>\n",
       "      <td>6.2</td>\n",
       "      <td>0.600</td>\n",
       "      <td>0.08</td>\n",
       "      <td>2.0</td>\n",
       "      <td>0.090</td>\n",
       "      <td>32.0</td>\n",
       "      <td>44.0</td>\n",
       "      <td>0.99490</td>\n",
       "      <td>3.45</td>\n",
       "      <td>0.58</td>\n",
       "      <td>10.5</td>\n",
       "    </tr>\n",
       "    <tr>\n",
       "      <th>1595</th>\n",
       "      <td>5.9</td>\n",
       "      <td>0.550</td>\n",
       "      <td>0.10</td>\n",
       "      <td>2.2</td>\n",
       "      <td>0.062</td>\n",
       "      <td>39.0</td>\n",
       "      <td>51.0</td>\n",
       "      <td>0.99512</td>\n",
       "      <td>3.52</td>\n",
       "      <td>0.76</td>\n",
       "      <td>11.2</td>\n",
       "    </tr>\n",
       "    <tr>\n",
       "      <th>1596</th>\n",
       "      <td>6.3</td>\n",
       "      <td>0.510</td>\n",
       "      <td>0.13</td>\n",
       "      <td>2.3</td>\n",
       "      <td>0.076</td>\n",
       "      <td>29.0</td>\n",
       "      <td>40.0</td>\n",
       "      <td>0.99574</td>\n",
       "      <td>3.42</td>\n",
       "      <td>0.75</td>\n",
       "      <td>11.0</td>\n",
       "    </tr>\n",
       "    <tr>\n",
       "      <th>1597</th>\n",
       "      <td>5.9</td>\n",
       "      <td>0.645</td>\n",
       "      <td>0.12</td>\n",
       "      <td>2.0</td>\n",
       "      <td>0.075</td>\n",
       "      <td>32.0</td>\n",
       "      <td>44.0</td>\n",
       "      <td>0.99547</td>\n",
       "      <td>3.57</td>\n",
       "      <td>0.71</td>\n",
       "      <td>10.2</td>\n",
       "    </tr>\n",
       "    <tr>\n",
       "      <th>1598</th>\n",
       "      <td>6.0</td>\n",
       "      <td>0.310</td>\n",
       "      <td>0.47</td>\n",
       "      <td>3.6</td>\n",
       "      <td>0.067</td>\n",
       "      <td>18.0</td>\n",
       "      <td>42.0</td>\n",
       "      <td>0.99549</td>\n",
       "      <td>3.39</td>\n",
       "      <td>0.66</td>\n",
       "      <td>11.0</td>\n",
       "    </tr>\n",
       "  </tbody>\n",
       "</table>\n",
       "<p>1599 rows × 11 columns</p>\n",
       "</div>"
      ],
      "text/plain": [
       "      fixed acidity  volatile acidity  citric acid  residual sugar  chlorides  \\\n",
       "0               7.4             0.700         0.00             1.9      0.076   \n",
       "1               7.8             0.880         0.00             2.6      0.098   \n",
       "2               7.8             0.760         0.04             2.3      0.092   \n",
       "3              11.2             0.280         0.56             1.9      0.075   \n",
       "4               7.4             0.700         0.00             1.9      0.076   \n",
       "...             ...               ...          ...             ...        ...   \n",
       "1594            6.2             0.600         0.08             2.0      0.090   \n",
       "1595            5.9             0.550         0.10             2.2      0.062   \n",
       "1596            6.3             0.510         0.13             2.3      0.076   \n",
       "1597            5.9             0.645         0.12             2.0      0.075   \n",
       "1598            6.0             0.310         0.47             3.6      0.067   \n",
       "\n",
       "      free sulfur dioxide  total sulfur dioxide  density    pH  sulphates  \\\n",
       "0                    11.0                  34.0  0.99780  3.51       0.56   \n",
       "1                    25.0                  67.0  0.99680  3.20       0.68   \n",
       "2                    15.0                  54.0  0.99700  3.26       0.65   \n",
       "3                    17.0                  60.0  0.99800  3.16       0.58   \n",
       "4                    11.0                  34.0  0.99780  3.51       0.56   \n",
       "...                   ...                   ...      ...   ...        ...   \n",
       "1594                 32.0                  44.0  0.99490  3.45       0.58   \n",
       "1595                 39.0                  51.0  0.99512  3.52       0.76   \n",
       "1596                 29.0                  40.0  0.99574  3.42       0.75   \n",
       "1597                 32.0                  44.0  0.99547  3.57       0.71   \n",
       "1598                 18.0                  42.0  0.99549  3.39       0.66   \n",
       "\n",
       "      alcohol  \n",
       "0         9.4  \n",
       "1         9.8  \n",
       "2         9.8  \n",
       "3         9.8  \n",
       "4         9.4  \n",
       "...       ...  \n",
       "1594     10.5  \n",
       "1595     11.2  \n",
       "1596     11.0  \n",
       "1597     10.2  \n",
       "1598     11.0  \n",
       "\n",
       "[1599 rows x 11 columns]"
      ]
     },
     "execution_count": 657,
     "metadata": {},
     "output_type": "execute_result"
    }
   ],
   "source": [
    "x=df.iloc[:,:-1]\n",
    "x"
   ]
  },
  {
   "cell_type": "code",
   "execution_count": 658,
   "id": "c0291f5f",
   "metadata": {},
   "outputs": [
    {
     "data": {
      "text/plain": [
       "(1599, 11)"
      ]
     },
     "execution_count": 658,
     "metadata": {},
     "output_type": "execute_result"
    }
   ],
   "source": [
    "x.shape"
   ]
  },
  {
   "cell_type": "code",
   "execution_count": 659,
   "id": "ccc433e5",
   "metadata": {},
   "outputs": [
    {
     "data": {
      "text/plain": [
       "0       0\n",
       "1       0\n",
       "2       0\n",
       "3       0\n",
       "4       0\n",
       "       ..\n",
       "1594    0\n",
       "1595    0\n",
       "1596    0\n",
       "1597    0\n",
       "1598    0\n",
       "Name: quality, Length: 1599, dtype: int32"
      ]
     },
     "execution_count": 659,
     "metadata": {},
     "output_type": "execute_result"
    }
   ],
   "source": [
    "y=df.iloc[:,-1]\n",
    "y"
   ]
  },
  {
   "cell_type": "code",
   "execution_count": 660,
   "id": "2a8f9374",
   "metadata": {},
   "outputs": [
    {
     "data": {
      "text/plain": [
       "(1599,)"
      ]
     },
     "execution_count": 660,
     "metadata": {},
     "output_type": "execute_result"
    }
   ],
   "source": [
    "y.shape"
   ]
  },
  {
   "cell_type": "code",
   "execution_count": 661,
   "id": "3c6f6184",
   "metadata": {},
   "outputs": [
    {
     "data": {
      "image/png": "[encoded data removed]",
      "text/plain": [
       "<Figure size 432x288 with 1 Axes>"
      ]
     },
     "metadata": {
      "needs_background": "light"
     },
     "output_type": "display_data"
    }
   ],
   "source": [
    "df['quality'].hist(grid=False)\n",
    "plt.title('good Vs bad')\n",
    "plt.show()"
   ]
  },
  {
   "cell_type": "code",
   "execution_count": 662,
   "id": "ecde2674",
   "metadata": {},
   "outputs": [],
   "source": [
    "from collections import Counter\n",
    "# transform the dataset\n",
    "sm = SMOTE()\n",
    "train_x, train_y= sm.fit_resample(x, y)"
   ]
  },
  {
   "cell_type": "code",
   "execution_count": 663,
   "id": "0befaa45",
   "metadata": {},
   "outputs": [
    {
     "name": "stdout",
     "output_type": "stream",
     "text": [
      "Resampled dataset shape Counter({0: 1382, 1: 1382})\n"
     ]
    }
   ],
   "source": [
    "print('Resampled dataset shape %s' % Counter(train_y))"
   ]
  },
  {
   "cell_type": "code",
   "execution_count": 664,
   "id": "8c407a6b",
   "metadata": {},
   "outputs": [
    {
     "data": {
      "text/plain": [
       "(2764, 11)"
      ]
     },
     "execution_count": 664,
     "metadata": {},
     "output_type": "execute_result"
    }
   ],
   "source": [
    "train_x.shape"
   ]
  },
  {
   "cell_type": "code",
   "execution_count": 665,
   "id": "195d1bf5",
   "metadata": {},
   "outputs": [
    {
     "data": {
      "text/plain": [
       "(2764,)"
      ]
     },
     "execution_count": 665,
     "metadata": {},
     "output_type": "execute_result"
    }
   ],
   "source": [
    "train_y.shape"
   ]
  },
  {
   "cell_type": "code",
   "execution_count": 666,
   "id": "bebf613d",
   "metadata": {},
   "outputs": [
    {
     "data": {
      "image/png": "[encoded data removed]",
      "text/plain": [
       "<Figure size 432x288 with 1 Axes>"
      ]
     },
     "metadata": {
      "needs_background": "light"
     },
     "output_type": "display_data"
    }
   ],
   "source": [
    "train_y.hist(grid=False)\n",
    "plt.title('good Vs bad')\n",
    "plt.show()"
   ]
  },
  {
   "cell_type": "code",
   "execution_count": 667,
   "id": "43ca7277",
   "metadata": {},
   "outputs": [
    {
     "data": {
      "text/plain": [
       "(2764, 11)"
      ]
     },
     "execution_count": 667,
     "metadata": {},
     "output_type": "execute_result"
    }
   ],
   "source": [
    "train_x.shape"
   ]
  },
  {
   "cell_type": "code",
   "execution_count": 668,
   "id": "fc704723",
   "metadata": {},
   "outputs": [
    {
     "data": {
      "text/plain": [
       "(2764,)"
      ]
     },
     "execution_count": 668,
     "metadata": {},
     "output_type": "execute_result"
    }
   ],
   "source": [
    "train_y.shape"
   ]
  },
  {
   "cell_type": "code",
   "execution_count": 669,
   "id": "aaf7d3d8",
   "metadata": {},
   "outputs": [
    {
     "data": {
      "text/plain": [
       "fixed acidity           0.375060\n",
       "volatile acidity        0.411530\n",
       "citric acid            -0.833453\n",
       "residual sugar          2.562198\n",
       "chlorides               3.549195\n",
       "free sulfur dioxide     0.626383\n",
       "total sulfur dioxide    0.964933\n",
       "density                 0.103627\n",
       "pH                      0.203467\n",
       "sulphates               0.823540\n",
       "alcohol                 0.161248\n",
       "dtype: float64"
      ]
     },
     "execution_count": 669,
     "metadata": {},
     "output_type": "execute_result"
    }
   ],
   "source": [
    "x=np.sqrt(train_x)\n",
    "x.skew()"
   ]
  },
  {
   "cell_type": "code",
   "execution_count": 670,
   "id": "3fbeefc7",
   "metadata": {},
   "outputs": [],
   "source": [
    "PowerTransformer()\n",
    "x_new=power_transform(train_x)"
   ]
  },
  {
   "cell_type": "code",
   "execution_count": 671,
   "id": "94bc5c7d",
   "metadata": {},
   "outputs": [
    {
     "data": {
      "text/plain": [
       "array([[-0.60407782,  1.32482874, -1.66158804, ...,  1.40865347,\n",
       "        -0.94883196, -1.40024429],\n",
       "       [-0.34204527,  1.96913564, -1.66158804, ..., -0.66280439,\n",
       "         0.02676522, -0.98080442],\n",
       "       [-0.34204527,  1.56081489, -1.4506189 , ..., -0.23562651,\n",
       "        -0.1961137 , -0.98080442],\n",
       "       ...,\n",
       "       [-0.12415189,  0.31106281,  0.4236211 , ..., -0.20778731,\n",
       "         0.06999974, -0.27623351],\n",
       "       [-0.74119194, -0.62503912,  0.71966913, ...,  0.71080417,\n",
       "         1.08087956,  0.15294041],\n",
       "       [ 0.89796005,  0.26726894,  1.42854011, ..., -0.84206313,\n",
       "         0.62520843,  1.27066106]])"
      ]
     },
     "execution_count": 671,
     "metadata": {},
     "output_type": "execute_result"
    }
   ],
   "source": [
    "x_new"
   ]
  },
  {
   "cell_type": "code",
   "execution_count": 672,
   "id": "34adfcdd",
   "metadata": {},
   "outputs": [
    {
     "data": {
      "text/plain": [
       "numpy.ndarray"
      ]
     },
     "execution_count": 672,
     "metadata": {},
     "output_type": "execute_result"
    }
   ],
   "source": [
    "type(x_new)"
   ]
  },
  {
   "cell_type": "code",
   "execution_count": 673,
   "id": "157efeb0",
   "metadata": {},
   "outputs": [
    {
     "data": {
      "text/plain": [
       "Index(['fixed acidity', 'volatile acidity', 'citric acid', 'residual sugar',\n",
       "       'chlorides', 'free sulfur dioxide', 'total sulfur dioxide', 'density',\n",
       "       'pH', 'sulphates', 'alcohol'],\n",
       "      dtype='object')"
      ]
     },
     "execution_count": 673,
     "metadata": {},
     "output_type": "execute_result"
    }
   ],
   "source": [
    "x.columns"
   ]
  },
  {
   "cell_type": "code",
   "execution_count": 674,
   "id": "d6f10ac6",
   "metadata": {},
   "outputs": [
    {
     "data": {
      "text/html": [
       "<div>\n",
       "<style scoped>\n",
       "    .dataframe tbody tr th:only-of-type {\n",
       "        vertical-align: middle;\n",
       "    }\n",
       "\n",
       "    .dataframe tbody tr th {\n",
       "        vertical-align: top;\n",
       "    }\n",
       "\n",
       "    .dataframe thead th {\n",
       "        text-align: right;\n",
       "    }\n",
       "</style>\n",
       "<table border=\"1\" class=\"dataframe\">\n",
       "  <thead>\n",
       "    <tr style=\"text-align: right;\">\n",
       "      <th></th>\n",
       "      <th>fixed acidity</th>\n",
       "      <th>volatile acidity</th>\n",
       "      <th>citric acid</th>\n",
       "      <th>residual sugar</th>\n",
       "      <th>chlorides</th>\n",
       "      <th>free sulfur dioxide</th>\n",
       "      <th>total sulfur dioxide</th>\n",
       "      <th>density</th>\n",
       "      <th>pH</th>\n",
       "      <th>sulphates</th>\n",
       "      <th>alcohol</th>\n",
       "    </tr>\n",
       "  </thead>\n",
       "  <tbody>\n",
       "    <tr>\n",
       "      <th>0</th>\n",
       "      <td>-0.604078</td>\n",
       "      <td>1.324829</td>\n",
       "      <td>-1.661588</td>\n",
       "      <td>-0.712596</td>\n",
       "      <td>-0.034257</td>\n",
       "      <td>-0.143332</td>\n",
       "      <td>0.108698</td>\n",
       "      <td>0.701103</td>\n",
       "      <td>1.408653</td>\n",
       "      <td>-0.948832</td>\n",
       "      <td>-1.400244</td>\n",
       "    </tr>\n",
       "    <tr>\n",
       "      <th>1</th>\n",
       "      <td>-0.342045</td>\n",
       "      <td>1.969136</td>\n",
       "      <td>-1.661588</td>\n",
       "      <td>0.487603</td>\n",
       "      <td>0.909576</td>\n",
       "      <td>1.084571</td>\n",
       "      <td>1.054428</td>\n",
       "      <td>0.202119</td>\n",
       "      <td>-0.662804</td>\n",
       "      <td>0.026765</td>\n",
       "      <td>-0.980804</td>\n",
       "    </tr>\n",
       "    <tr>\n",
       "      <th>2</th>\n",
       "      <td>-0.342045</td>\n",
       "      <td>1.560815</td>\n",
       "      <td>-1.450619</td>\n",
       "      <td>0.067990</td>\n",
       "      <td>0.683111</td>\n",
       "      <td>0.318911</td>\n",
       "      <td>0.760294</td>\n",
       "      <td>0.302497</td>\n",
       "      <td>-0.235627</td>\n",
       "      <td>-0.196114</td>\n",
       "      <td>-0.980804</td>\n",
       "    </tr>\n",
       "    <tr>\n",
       "      <th>3</th>\n",
       "      <td>1.402835</td>\n",
       "      <td>-1.312566</td>\n",
       "      <td>1.226152</td>\n",
       "      <td>-0.712596</td>\n",
       "      <td>-0.085302</td>\n",
       "      <td>0.506314</td>\n",
       "      <td>0.904748</td>\n",
       "      <td>0.800033</td>\n",
       "      <td>-0.955225</td>\n",
       "      <td>-0.769691</td>\n",
       "      <td>-0.980804</td>\n",
       "    </tr>\n",
       "    <tr>\n",
       "      <th>4</th>\n",
       "      <td>-0.604078</td>\n",
       "      <td>1.324829</td>\n",
       "      <td>-1.661588</td>\n",
       "      <td>-0.712596</td>\n",
       "      <td>-0.034257</td>\n",
       "      <td>-0.143332</td>\n",
       "      <td>0.108698</td>\n",
       "      <td>0.701103</td>\n",
       "      <td>1.408653</td>\n",
       "      <td>-0.948832</td>\n",
       "      <td>-1.400244</td>\n",
       "    </tr>\n",
       "    <tr>\n",
       "      <th>...</th>\n",
       "      <td>...</td>\n",
       "      <td>...</td>\n",
       "      <td>...</td>\n",
       "      <td>...</td>\n",
       "      <td>...</td>\n",
       "      <td>...</td>\n",
       "      <td>...</td>\n",
       "      <td>...</td>\n",
       "      <td>...</td>\n",
       "      <td>...</td>\n",
       "      <td>...</td>\n",
       "    </tr>\n",
       "    <tr>\n",
       "      <th>2759</th>\n",
       "      <td>1.054841</td>\n",
       "      <td>-1.692507</td>\n",
       "      <td>0.725444</td>\n",
       "      <td>-0.949553</td>\n",
       "      <td>-0.078932</td>\n",
       "      <td>-1.026896</td>\n",
       "      <td>-0.598457</td>\n",
       "      <td>0.597576</td>\n",
       "      <td>-0.313897</td>\n",
       "      <td>1.854235</td>\n",
       "      <td>-0.021531</td>\n",
       "    </tr>\n",
       "    <tr>\n",
       "      <th>2760</th>\n",
       "      <td>-2.224362</td>\n",
       "      <td>0.745976</td>\n",
       "      <td>-1.169923</td>\n",
       "      <td>-0.531392</td>\n",
       "      <td>-1.882900</td>\n",
       "      <td>0.308683</td>\n",
       "      <td>1.427857</td>\n",
       "      <td>-2.307697</td>\n",
       "      <td>1.625918</td>\n",
       "      <td>1.151576</td>\n",
       "      <td>1.996317</td>\n",
       "    </tr>\n",
       "    <tr>\n",
       "      <th>2761</th>\n",
       "      <td>-0.124152</td>\n",
       "      <td>0.311063</td>\n",
       "      <td>0.423621</td>\n",
       "      <td>-0.102519</td>\n",
       "      <td>-0.235132</td>\n",
       "      <td>1.390697</td>\n",
       "      <td>0.743467</td>\n",
       "      <td>0.413103</td>\n",
       "      <td>-0.207787</td>\n",
       "      <td>0.070000</td>\n",
       "      <td>-0.276234</td>\n",
       "    </tr>\n",
       "    <tr>\n",
       "      <th>2762</th>\n",
       "      <td>-0.741192</td>\n",
       "      <td>-0.625039</td>\n",
       "      <td>0.719669</td>\n",
       "      <td>-0.283724</td>\n",
       "      <td>-0.137152</td>\n",
       "      <td>1.023384</td>\n",
       "      <td>0.475272</td>\n",
       "      <td>-0.539568</td>\n",
       "      <td>0.710804</td>\n",
       "      <td>1.080880</td>\n",
       "      <td>0.152940</td>\n",
       "    </tr>\n",
       "    <tr>\n",
       "      <th>2763</th>\n",
       "      <td>0.897960</td>\n",
       "      <td>0.267269</td>\n",
       "      <td>1.428540</td>\n",
       "      <td>0.803602</td>\n",
       "      <td>-0.272712</td>\n",
       "      <td>-0.284413</td>\n",
       "      <td>-0.271188</td>\n",
       "      <td>0.183927</td>\n",
       "      <td>-0.842063</td>\n",
       "      <td>0.625208</td>\n",
       "      <td>1.270661</td>\n",
       "    </tr>\n",
       "  </tbody>\n",
       "</table>\n",
       "<p>2764 rows × 11 columns</p>\n",
       "</div>"
      ],
      "text/plain": [
       "      fixed acidity  volatile acidity  citric acid  residual sugar  chlorides  \\\n",
       "0         -0.604078          1.324829    -1.661588       -0.712596  -0.034257   \n",
       "1         -0.342045          1.969136    -1.661588        0.487603   0.909576   \n",
       "2         -0.342045          1.560815    -1.450619        0.067990   0.683111   \n",
       "3          1.402835         -1.312566     1.226152       -0.712596  -0.085302   \n",
       "4         -0.604078          1.324829    -1.661588       -0.712596  -0.034257   \n",
       "...             ...               ...          ...             ...        ...   \n",
       "2759       1.054841         -1.692507     0.725444       -0.949553  -0.078932   \n",
       "2760      -2.224362          0.745976    -1.169923       -0.531392  -1.882900   \n",
       "2761      -0.124152          0.311063     0.423621       -0.102519  -0.235132   \n",
       "2762      -0.741192         -0.625039     0.719669       -0.283724  -0.137152   \n",
       "2763       0.897960          0.267269     1.428540        0.803602  -0.272712   \n",
       "\n",
       "      free sulfur dioxide  total sulfur dioxide   density        pH  \\\n",
       "0               -0.143332              0.108698  0.701103  1.408653   \n",
       "1                1.084571              1.054428  0.202119 -0.662804   \n",
       "2                0.318911              0.760294  0.302497 -0.235627   \n",
       "3                0.506314              0.904748  0.800033 -0.955225   \n",
       "4               -0.143332              0.108698  0.701103  1.408653   \n",
       "...                   ...                   ...       ...       ...   \n",
       "2759            -1.026896             -0.598457  0.597576 -0.313897   \n",
       "2760             0.308683              1.427857 -2.307697  1.625918   \n",
       "2761             1.390697              0.743467  0.413103 -0.207787   \n",
       "2762             1.023384              0.475272 -0.539568  0.710804   \n",
       "2763            -0.284413             -0.271188  0.183927 -0.842063   \n",
       "\n",
       "      sulphates   alcohol  \n",
       "0     -0.948832 -1.400244  \n",
       "1      0.026765 -0.980804  \n",
       "2     -0.196114 -0.980804  \n",
       "3     -0.769691 -0.980804  \n",
       "4     -0.948832 -1.400244  \n",
       "...         ...       ...  \n",
       "2759   1.854235 -0.021531  \n",
       "2760   1.151576  1.996317  \n",
       "2761   0.070000 -0.276234  \n",
       "2762   1.080880  0.152940  \n",
       "2763   0.625208  1.270661  \n",
       "\n",
       "[2764 rows x 11 columns]"
      ]
     },
     "execution_count": 674,
     "metadata": {},
     "output_type": "execute_result"
    }
   ],
   "source": [
    "x=pd.DataFrame(x_new,columns=x.columns)\n",
    "x"
   ]
  },
  {
   "cell_type": "code",
   "execution_count": 675,
   "id": "ae6bad54",
   "metadata": {},
   "outputs": [
    {
     "data": {
      "text/plain": [
       "volatile acidity        0.025576\n",
       "total sulfur dioxide    0.017249\n",
       "alcohol                 0.012539\n",
       "free sulfur dioxide     0.007283\n",
       "residual sugar          0.005485\n",
       "fixed acidity           0.002216\n",
       "density                -0.005291\n",
       "pH                     -0.008610\n",
       "sulphates              -0.027117\n",
       "citric acid            -0.042436\n",
       "chlorides              -0.328883\n",
       "dtype: float64"
      ]
     },
     "execution_count": 675,
     "metadata": {},
     "output_type": "execute_result"
    }
   ],
   "source": [
    "x.skew().sort_values(ascending=False)"
   ]
  },
  {
   "cell_type": "code",
   "execution_count": 676,
   "id": "20ba2323",
   "metadata": {},
   "outputs": [
    {
     "data": {
      "text/plain": [
       "fixed acidity           0.002216\n",
       "volatile acidity        0.025576\n",
       "citric acid            -0.042436\n",
       "residual sugar          0.005485\n",
       "chlorides              -0.328883\n",
       "free sulfur dioxide     0.007283\n",
       "total sulfur dioxide    0.017249\n",
       "density                -0.005291\n",
       "pH                     -0.008610\n",
       "sulphates              -0.027117\n",
       "alcohol                 0.012539\n",
       "dtype: float64"
      ]
     },
     "execution_count": 676,
     "metadata": {},
     "output_type": "execute_result"
    }
   ],
   "source": [
    "sk=x.skew()\n",
    "sk"
   ]
  },
  {
   "cell_type": "code",
   "execution_count": 677,
   "id": "1bb2d57c",
   "metadata": {},
   "outputs": [
    {
     "data": {
      "text/plain": [
       "fixed acidity            True\n",
       "volatile acidity         True\n",
       "citric acid              True\n",
       "residual sugar           True\n",
       "chlorides               False\n",
       "free sulfur dioxide      True\n",
       "total sulfur dioxide     True\n",
       "density                  True\n",
       "pH                       True\n",
       "sulphates                True\n",
       "alcohol                  True\n",
       "dtype: bool"
      ]
     },
     "execution_count": 677,
     "metadata": {},
     "output_type": "execute_result"
    }
   ],
   "source": [
    "round(np.abs(x.skew()),2)<=.22"
   ]
  },
  {
   "cell_type": "code",
   "execution_count": 678,
   "id": "caaf9276",
   "metadata": {},
   "outputs": [],
   "source": [
    "# identify outliers"
   ]
  },
  {
   "cell_type": "code",
   "execution_count": 679,
   "id": "b68be61b",
   "metadata": {},
   "outputs": [
    {
     "data": {
      "image/png": "[encoded data removed]",
      "text/plain": [
       "<Figure size 1080x432 with 1 Axes>"
      ]
     },
     "metadata": {
      "needs_background": "light"
     },
     "output_type": "display_data"
    }
   ],
   "source": [
    "x.iloc[:,:].boxplot(figsize=[15,6])\n",
    "plt.subplots_adjust(bottom=0.25)\n",
    "plt.show()"
   ]
  },
  {
   "cell_type": "code",
   "execution_count": 680,
   "id": "ddd565e9",
   "metadata": {},
   "outputs": [
    {
     "name": "stdout",
     "output_type": "stream",
     "text": [
      "(array([   7,   13,   17,   19,   42,   45,   45,   81,   83,   86,   91,\n",
      "         92,   95,  106,  147,  151,  151,  151,  151,  169,  169,  170,\n",
      "        181,  198,  226,  226,  240,  258,  281,  291,  440,  442,  451,\n",
      "        469,  530,  535,  544,  554,  555,  557,  568,  614,  650,  656,\n",
      "        692,  695,  695,  723,  730,  754,  773,  776,  777,  836,  836,\n",
      "        837,  837,  889,  909,  914,  948,  949,  950, 1017, 1017, 1017,\n",
      "       1018, 1018, 1018, 1051, 1114, 1165, 1260, 1287, 1299, 1316, 1316,\n",
      "       1319, 1319, 1321, 1321, 1369, 1370, 1372, 1374, 1374, 1434, 1435,\n",
      "       1470, 1558, 1605, 1630, 1720, 1788, 1875, 1875, 1891, 1917, 1917,\n",
      "       1918, 1918, 1924, 1924, 2067, 2114, 2170, 2193, 2203, 2226, 2333,\n",
      "       2348, 2350, 2390, 2442, 2449, 2569, 2662, 2670, 2714, 2729],\n",
      "      dtype=int64), array([3, 9, 4, 4, 4, 0, 8, 4, 4, 9, 9, 9, 8, 4, 4, 2, 4, 8, 9, 4, 9, 9,\n",
      "       4, 3, 4, 9, 4, 4, 4, 4, 8, 7, 4, 3, 5, 5, 8, 7, 7, 7, 4, 8, 8, 8,\n",
      "       4, 4, 8, 9, 4, 4, 5, 4, 4, 4, 7, 4, 7, 7, 3, 3, 1, 1, 1, 3, 7, 8,\n",
      "       3, 7, 8, 4, 7, 4, 4, 9, 1, 3, 8, 4, 8, 3, 8, 9, 4, 4, 3, 4, 7, 7,\n",
      "       8, 4, 7, 4, 1, 4, 4, 7, 4, 4, 7, 4, 7, 4, 7, 4, 4, 4, 1, 8, 4, 4,\n",
      "       1, 1, 4, 4, 1, 4, 1, 4, 7, 4], dtype=int64))\n"
     ]
    }
   ],
   "source": [
    "from scipy.stats import zscore\n",
    "dfscore=np.abs(zscore(x))\n",
    "\n",
    "print(np.where(dfscore>3))"
   ]
  },
  {
   "cell_type": "code",
   "execution_count": 681,
   "id": "ce7f8020",
   "metadata": {},
   "outputs": [
    {
     "name": "stdout",
     "output_type": "stream",
     "text": [
      "dfnew.shape= (1526, 12)\n"
     ]
    }
   ],
   "source": [
    "dfnew=df[(dfscore<3).all(axis=1)]\n",
    "print('dfnew.shape=',dfnew.shape)\n",
    "df=dfnew"
   ]
  },
  {
   "cell_type": "markdown",
   "id": "deaff9bb",
   "metadata": {},
   "source": [
    "df=print(np.where(dfscore<3))\n",
    "df"
   ]
  },
  {
   "cell_type": "markdown",
   "id": "d4fa34ab",
   "metadata": {},
   "source": [
    "dfnew=(dfscore<3)\n",
    "dfnew"
   ]
  },
  {
   "cell_type": "code",
   "execution_count": 682,
   "id": "b1863b7a",
   "metadata": {},
   "outputs": [
    {
     "data": {
      "text/html": [
       "<div>\n",
       "<style scoped>\n",
       "    .dataframe tbody tr th:only-of-type {\n",
       "        vertical-align: middle;\n",
       "    }\n",
       "\n",
       "    .dataframe tbody tr th {\n",
       "        vertical-align: top;\n",
       "    }\n",
       "\n",
       "    .dataframe thead th {\n",
       "        text-align: right;\n",
       "    }\n",
       "</style>\n",
       "<table border=\"1\" class=\"dataframe\">\n",
       "  <thead>\n",
       "    <tr style=\"text-align: right;\">\n",
       "      <th></th>\n",
       "      <th>fixed acidity</th>\n",
       "      <th>volatile acidity</th>\n",
       "      <th>citric acid</th>\n",
       "      <th>residual sugar</th>\n",
       "      <th>chlorides</th>\n",
       "      <th>free sulfur dioxide</th>\n",
       "      <th>total sulfur dioxide</th>\n",
       "      <th>density</th>\n",
       "      <th>pH</th>\n",
       "      <th>sulphates</th>\n",
       "      <th>alcohol</th>\n",
       "      <th>quality</th>\n",
       "    </tr>\n",
       "  </thead>\n",
       "  <tbody>\n",
       "    <tr>\n",
       "      <th>0</th>\n",
       "      <td>7.4</td>\n",
       "      <td>0.700</td>\n",
       "      <td>0.00</td>\n",
       "      <td>1.9</td>\n",
       "      <td>0.076</td>\n",
       "      <td>11.0</td>\n",
       "      <td>34.0</td>\n",
       "      <td>0.99780</td>\n",
       "      <td>3.51</td>\n",
       "      <td>0.56</td>\n",
       "      <td>9.4</td>\n",
       "      <td>0</td>\n",
       "    </tr>\n",
       "    <tr>\n",
       "      <th>1</th>\n",
       "      <td>7.8</td>\n",
       "      <td>0.880</td>\n",
       "      <td>0.00</td>\n",
       "      <td>2.6</td>\n",
       "      <td>0.098</td>\n",
       "      <td>25.0</td>\n",
       "      <td>67.0</td>\n",
       "      <td>0.99680</td>\n",
       "      <td>3.20</td>\n",
       "      <td>0.68</td>\n",
       "      <td>9.8</td>\n",
       "      <td>0</td>\n",
       "    </tr>\n",
       "    <tr>\n",
       "      <th>2</th>\n",
       "      <td>7.8</td>\n",
       "      <td>0.760</td>\n",
       "      <td>0.04</td>\n",
       "      <td>2.3</td>\n",
       "      <td>0.092</td>\n",
       "      <td>15.0</td>\n",
       "      <td>54.0</td>\n",
       "      <td>0.99700</td>\n",
       "      <td>3.26</td>\n",
       "      <td>0.65</td>\n",
       "      <td>9.8</td>\n",
       "      <td>0</td>\n",
       "    </tr>\n",
       "    <tr>\n",
       "      <th>3</th>\n",
       "      <td>11.2</td>\n",
       "      <td>0.280</td>\n",
       "      <td>0.56</td>\n",
       "      <td>1.9</td>\n",
       "      <td>0.075</td>\n",
       "      <td>17.0</td>\n",
       "      <td>60.0</td>\n",
       "      <td>0.99800</td>\n",
       "      <td>3.16</td>\n",
       "      <td>0.58</td>\n",
       "      <td>9.8</td>\n",
       "      <td>0</td>\n",
       "    </tr>\n",
       "    <tr>\n",
       "      <th>4</th>\n",
       "      <td>7.4</td>\n",
       "      <td>0.700</td>\n",
       "      <td>0.00</td>\n",
       "      <td>1.9</td>\n",
       "      <td>0.076</td>\n",
       "      <td>11.0</td>\n",
       "      <td>34.0</td>\n",
       "      <td>0.99780</td>\n",
       "      <td>3.51</td>\n",
       "      <td>0.56</td>\n",
       "      <td>9.4</td>\n",
       "      <td>0</td>\n",
       "    </tr>\n",
       "    <tr>\n",
       "      <th>...</th>\n",
       "      <td>...</td>\n",
       "      <td>...</td>\n",
       "      <td>...</td>\n",
       "      <td>...</td>\n",
       "      <td>...</td>\n",
       "      <td>...</td>\n",
       "      <td>...</td>\n",
       "      <td>...</td>\n",
       "      <td>...</td>\n",
       "      <td>...</td>\n",
       "      <td>...</td>\n",
       "      <td>...</td>\n",
       "    </tr>\n",
       "    <tr>\n",
       "      <th>1594</th>\n",
       "      <td>6.2</td>\n",
       "      <td>0.600</td>\n",
       "      <td>0.08</td>\n",
       "      <td>2.0</td>\n",
       "      <td>0.090</td>\n",
       "      <td>32.0</td>\n",
       "      <td>44.0</td>\n",
       "      <td>0.99490</td>\n",
       "      <td>3.45</td>\n",
       "      <td>0.58</td>\n",
       "      <td>10.5</td>\n",
       "      <td>0</td>\n",
       "    </tr>\n",
       "    <tr>\n",
       "      <th>1595</th>\n",
       "      <td>5.9</td>\n",
       "      <td>0.550</td>\n",
       "      <td>0.10</td>\n",
       "      <td>2.2</td>\n",
       "      <td>0.062</td>\n",
       "      <td>39.0</td>\n",
       "      <td>51.0</td>\n",
       "      <td>0.99512</td>\n",
       "      <td>3.52</td>\n",
       "      <td>0.76</td>\n",
       "      <td>11.2</td>\n",
       "      <td>0</td>\n",
       "    </tr>\n",
       "    <tr>\n",
       "      <th>1596</th>\n",
       "      <td>6.3</td>\n",
       "      <td>0.510</td>\n",
       "      <td>0.13</td>\n",
       "      <td>2.3</td>\n",
       "      <td>0.076</td>\n",
       "      <td>29.0</td>\n",
       "      <td>40.0</td>\n",
       "      <td>0.99574</td>\n",
       "      <td>3.42</td>\n",
       "      <td>0.75</td>\n",
       "      <td>11.0</td>\n",
       "      <td>0</td>\n",
       "    </tr>\n",
       "    <tr>\n",
       "      <th>1597</th>\n",
       "      <td>5.9</td>\n",
       "      <td>0.645</td>\n",
       "      <td>0.12</td>\n",
       "      <td>2.0</td>\n",
       "      <td>0.075</td>\n",
       "      <td>32.0</td>\n",
       "      <td>44.0</td>\n",
       "      <td>0.99547</td>\n",
       "      <td>3.57</td>\n",
       "      <td>0.71</td>\n",
       "      <td>10.2</td>\n",
       "      <td>0</td>\n",
       "    </tr>\n",
       "    <tr>\n",
       "      <th>1598</th>\n",
       "      <td>6.0</td>\n",
       "      <td>0.310</td>\n",
       "      <td>0.47</td>\n",
       "      <td>3.6</td>\n",
       "      <td>0.067</td>\n",
       "      <td>18.0</td>\n",
       "      <td>42.0</td>\n",
       "      <td>0.99549</td>\n",
       "      <td>3.39</td>\n",
       "      <td>0.66</td>\n",
       "      <td>11.0</td>\n",
       "      <td>0</td>\n",
       "    </tr>\n",
       "  </tbody>\n",
       "</table>\n",
       "<p>1526 rows × 12 columns</p>\n",
       "</div>"
      ],
      "text/plain": [
       "      fixed acidity  volatile acidity  citric acid  residual sugar  chlorides  \\\n",
       "0               7.4             0.700         0.00             1.9      0.076   \n",
       "1               7.8             0.880         0.00             2.6      0.098   \n",
       "2               7.8             0.760         0.04             2.3      0.092   \n",
       "3              11.2             0.280         0.56             1.9      0.075   \n",
       "4               7.4             0.700         0.00             1.9      0.076   \n",
       "...             ...               ...          ...             ...        ...   \n",
       "1594            6.2             0.600         0.08             2.0      0.090   \n",
       "1595            5.9             0.550         0.10             2.2      0.062   \n",
       "1596            6.3             0.510         0.13             2.3      0.076   \n",
       "1597            5.9             0.645         0.12             2.0      0.075   \n",
       "1598            6.0             0.310         0.47             3.6      0.067   \n",
       "\n",
       "      free sulfur dioxide  total sulfur dioxide  density    pH  sulphates  \\\n",
       "0                    11.0                  34.0  0.99780  3.51       0.56   \n",
       "1                    25.0                  67.0  0.99680  3.20       0.68   \n",
       "2                    15.0                  54.0  0.99700  3.26       0.65   \n",
       "3                    17.0                  60.0  0.99800  3.16       0.58   \n",
       "4                    11.0                  34.0  0.99780  3.51       0.56   \n",
       "...                   ...                   ...      ...   ...        ...   \n",
       "1594                 32.0                  44.0  0.99490  3.45       0.58   \n",
       "1595                 39.0                  51.0  0.99512  3.52       0.76   \n",
       "1596                 29.0                  40.0  0.99574  3.42       0.75   \n",
       "1597                 32.0                  44.0  0.99547  3.57       0.71   \n",
       "1598                 18.0                  42.0  0.99549  3.39       0.66   \n",
       "\n",
       "      alcohol  quality  \n",
       "0         9.4        0  \n",
       "1         9.8        0  \n",
       "2         9.8        0  \n",
       "3         9.8        0  \n",
       "4         9.4        0  \n",
       "...       ...      ...  \n",
       "1594     10.5        0  \n",
       "1595     11.2        0  \n",
       "1596     11.0        0  \n",
       "1597     10.2        0  \n",
       "1598     11.0        0  \n",
       "\n",
       "[1526 rows x 12 columns]"
      ]
     },
     "execution_count": 682,
     "metadata": {},
     "output_type": "execute_result"
    }
   ],
   "source": [
    "df"
   ]
  },
  {
   "cell_type": "code",
   "execution_count": 685,
   "id": "f1cbd209",
   "metadata": {},
   "outputs": [
    {
     "data": {
      "text/html": [
       "<div>\n",
       "<style scoped>\n",
       "    .dataframe tbody tr th:only-of-type {\n",
       "        vertical-align: middle;\n",
       "    }\n",
       "\n",
       "    .dataframe tbody tr th {\n",
       "        vertical-align: top;\n",
       "    }\n",
       "\n",
       "    .dataframe thead th {\n",
       "        text-align: right;\n",
       "    }\n",
       "</style>\n",
       "<table border=\"1\" class=\"dataframe\">\n",
       "  <thead>\n",
       "    <tr style=\"text-align: right;\">\n",
       "      <th></th>\n",
       "      <th>fixed acidity</th>\n",
       "      <th>volatile acidity</th>\n",
       "      <th>citric acid</th>\n",
       "      <th>residual sugar</th>\n",
       "      <th>chlorides</th>\n",
       "      <th>free sulfur dioxide</th>\n",
       "      <th>total sulfur dioxide</th>\n",
       "      <th>density</th>\n",
       "      <th>pH</th>\n",
       "      <th>sulphates</th>\n",
       "      <th>alcohol</th>\n",
       "    </tr>\n",
       "  </thead>\n",
       "  <tbody>\n",
       "    <tr>\n",
       "      <th>0</th>\n",
       "      <td>7.4</td>\n",
       "      <td>0.700</td>\n",
       "      <td>0.00</td>\n",
       "      <td>1.9</td>\n",
       "      <td>0.076</td>\n",
       "      <td>11.0</td>\n",
       "      <td>34.0</td>\n",
       "      <td>0.99780</td>\n",
       "      <td>3.51</td>\n",
       "      <td>0.56</td>\n",
       "      <td>9.4</td>\n",
       "    </tr>\n",
       "    <tr>\n",
       "      <th>1</th>\n",
       "      <td>7.8</td>\n",
       "      <td>0.880</td>\n",
       "      <td>0.00</td>\n",
       "      <td>2.6</td>\n",
       "      <td>0.098</td>\n",
       "      <td>25.0</td>\n",
       "      <td>67.0</td>\n",
       "      <td>0.99680</td>\n",
       "      <td>3.20</td>\n",
       "      <td>0.68</td>\n",
       "      <td>9.8</td>\n",
       "    </tr>\n",
       "    <tr>\n",
       "      <th>2</th>\n",
       "      <td>7.8</td>\n",
       "      <td>0.760</td>\n",
       "      <td>0.04</td>\n",
       "      <td>2.3</td>\n",
       "      <td>0.092</td>\n",
       "      <td>15.0</td>\n",
       "      <td>54.0</td>\n",
       "      <td>0.99700</td>\n",
       "      <td>3.26</td>\n",
       "      <td>0.65</td>\n",
       "      <td>9.8</td>\n",
       "    </tr>\n",
       "    <tr>\n",
       "      <th>3</th>\n",
       "      <td>11.2</td>\n",
       "      <td>0.280</td>\n",
       "      <td>0.56</td>\n",
       "      <td>1.9</td>\n",
       "      <td>0.075</td>\n",
       "      <td>17.0</td>\n",
       "      <td>60.0</td>\n",
       "      <td>0.99800</td>\n",
       "      <td>3.16</td>\n",
       "      <td>0.58</td>\n",
       "      <td>9.8</td>\n",
       "    </tr>\n",
       "    <tr>\n",
       "      <th>4</th>\n",
       "      <td>7.4</td>\n",
       "      <td>0.700</td>\n",
       "      <td>0.00</td>\n",
       "      <td>1.9</td>\n",
       "      <td>0.076</td>\n",
       "      <td>11.0</td>\n",
       "      <td>34.0</td>\n",
       "      <td>0.99780</td>\n",
       "      <td>3.51</td>\n",
       "      <td>0.56</td>\n",
       "      <td>9.4</td>\n",
       "    </tr>\n",
       "    <tr>\n",
       "      <th>...</th>\n",
       "      <td>...</td>\n",
       "      <td>...</td>\n",
       "      <td>...</td>\n",
       "      <td>...</td>\n",
       "      <td>...</td>\n",
       "      <td>...</td>\n",
       "      <td>...</td>\n",
       "      <td>...</td>\n",
       "      <td>...</td>\n",
       "      <td>...</td>\n",
       "      <td>...</td>\n",
       "    </tr>\n",
       "    <tr>\n",
       "      <th>1594</th>\n",
       "      <td>6.2</td>\n",
       "      <td>0.600</td>\n",
       "      <td>0.08</td>\n",
       "      <td>2.0</td>\n",
       "      <td>0.090</td>\n",
       "      <td>32.0</td>\n",
       "      <td>44.0</td>\n",
       "      <td>0.99490</td>\n",
       "      <td>3.45</td>\n",
       "      <td>0.58</td>\n",
       "      <td>10.5</td>\n",
       "    </tr>\n",
       "    <tr>\n",
       "      <th>1595</th>\n",
       "      <td>5.9</td>\n",
       "      <td>0.550</td>\n",
       "      <td>0.10</td>\n",
       "      <td>2.2</td>\n",
       "      <td>0.062</td>\n",
       "      <td>39.0</td>\n",
       "      <td>51.0</td>\n",
       "      <td>0.99512</td>\n",
       "      <td>3.52</td>\n",
       "      <td>0.76</td>\n",
       "      <td>11.2</td>\n",
       "    </tr>\n",
       "    <tr>\n",
       "      <th>1596</th>\n",
       "      <td>6.3</td>\n",
       "      <td>0.510</td>\n",
       "      <td>0.13</td>\n",
       "      <td>2.3</td>\n",
       "      <td>0.076</td>\n",
       "      <td>29.0</td>\n",
       "      <td>40.0</td>\n",
       "      <td>0.99574</td>\n",
       "      <td>3.42</td>\n",
       "      <td>0.75</td>\n",
       "      <td>11.0</td>\n",
       "    </tr>\n",
       "    <tr>\n",
       "      <th>1597</th>\n",
       "      <td>5.9</td>\n",
       "      <td>0.645</td>\n",
       "      <td>0.12</td>\n",
       "      <td>2.0</td>\n",
       "      <td>0.075</td>\n",
       "      <td>32.0</td>\n",
       "      <td>44.0</td>\n",
       "      <td>0.99547</td>\n",
       "      <td>3.57</td>\n",
       "      <td>0.71</td>\n",
       "      <td>10.2</td>\n",
       "    </tr>\n",
       "    <tr>\n",
       "      <th>1598</th>\n",
       "      <td>6.0</td>\n",
       "      <td>0.310</td>\n",
       "      <td>0.47</td>\n",
       "      <td>3.6</td>\n",
       "      <td>0.067</td>\n",
       "      <td>18.0</td>\n",
       "      <td>42.0</td>\n",
       "      <td>0.99549</td>\n",
       "      <td>3.39</td>\n",
       "      <td>0.66</td>\n",
       "      <td>11.0</td>\n",
       "    </tr>\n",
       "  </tbody>\n",
       "</table>\n",
       "<p>1526 rows × 11 columns</p>\n",
       "</div>"
      ],
      "text/plain": [
       "      fixed acidity  volatile acidity  citric acid  residual sugar  chlorides  \\\n",
       "0               7.4             0.700         0.00             1.9      0.076   \n",
       "1               7.8             0.880         0.00             2.6      0.098   \n",
       "2               7.8             0.760         0.04             2.3      0.092   \n",
       "3              11.2             0.280         0.56             1.9      0.075   \n",
       "4               7.4             0.700         0.00             1.9      0.076   \n",
       "...             ...               ...          ...             ...        ...   \n",
       "1594            6.2             0.600         0.08             2.0      0.090   \n",
       "1595            5.9             0.550         0.10             2.2      0.062   \n",
       "1596            6.3             0.510         0.13             2.3      0.076   \n",
       "1597            5.9             0.645         0.12             2.0      0.075   \n",
       "1598            6.0             0.310         0.47             3.6      0.067   \n",
       "\n",
       "      free sulfur dioxide  total sulfur dioxide  density    pH  sulphates  \\\n",
       "0                    11.0                  34.0  0.99780  3.51       0.56   \n",
       "1                    25.0                  67.0  0.99680  3.20       0.68   \n",
       "2                    15.0                  54.0  0.99700  3.26       0.65   \n",
       "3                    17.0                  60.0  0.99800  3.16       0.58   \n",
       "4                    11.0                  34.0  0.99780  3.51       0.56   \n",
       "...                   ...                   ...      ...   ...        ...   \n",
       "1594                 32.0                  44.0  0.99490  3.45       0.58   \n",
       "1595                 39.0                  51.0  0.99512  3.52       0.76   \n",
       "1596                 29.0                  40.0  0.99574  3.42       0.75   \n",
       "1597                 32.0                  44.0  0.99547  3.57       0.71   \n",
       "1598                 18.0                  42.0  0.99549  3.39       0.66   \n",
       "\n",
       "      alcohol  \n",
       "0         9.4  \n",
       "1         9.8  \n",
       "2         9.8  \n",
       "3         9.8  \n",
       "4         9.4  \n",
       "...       ...  \n",
       "1594     10.5  \n",
       "1595     11.2  \n",
       "1596     11.0  \n",
       "1597     10.2  \n",
       "1598     11.0  \n",
       "\n",
       "[1526 rows x 11 columns]"
      ]
     },
     "execution_count": 685,
     "metadata": {},
     "output_type": "execute_result"
    }
   ],
   "source": [
    "x=df.iloc[:,:-1]\n",
    "x"
   ]
  },
  {
   "cell_type": "code",
   "execution_count": 709,
   "id": "ca0a4c05",
   "metadata": {},
   "outputs": [
    {
     "data": {
      "text/plain": [
       "(1526,)"
      ]
     },
     "execution_count": 709,
     "metadata": {},
     "output_type": "execute_result"
    }
   ],
   "source": [
    "y=df.iloc[:,-1]\n",
    "y.shape"
   ]
  },
  {
   "cell_type": "code",
   "execution_count": 687,
   "id": "403eac0c",
   "metadata": {},
   "outputs": [],
   "source": [
    "lg=LogisticRegression()\n",
    "dtc=DecisionTreeClassifier()\n",
    "gnb=GaussianNB()\n",
    "svc=SVC()\n",
    "knn=KNeighborsClassifier()"
   ]
  },
  {
   "cell_type": "code",
   "execution_count": 688,
   "id": "71cfbcd6",
   "metadata": {},
   "outputs": [
    {
     "name": "stdout",
     "output_type": "stream",
     "text": [
      "LogisticRegression() accuracy 0.8758169934640523 random_state 1\n",
      "max_accuracy 0.8758169934640523 max_random_state 1\n",
      "DecisionTreeClassifier() accuracy 0.8431372549019608 random_state 1\n",
      "LogisticRegression() accuracy 0.8856209150326797 random_state 2\n",
      "max_accuracy 0.8856209150326797 max_random_state 2\n",
      "DecisionTreeClassifier() accuracy 0.8627450980392157 random_state 2\n",
      "LogisticRegression() accuracy 0.8986928104575164 random_state 3\n",
      "max_accuracy 0.8986928104575164 max_random_state 3\n",
      "DecisionTreeClassifier() accuracy 0.8725490196078431 random_state 3\n",
      "LogisticRegression() accuracy 0.8986928104575164 random_state 4\n",
      "DecisionTreeClassifier() accuracy 0.8921568627450981 random_state 4\n",
      "LogisticRegression() accuracy 0.8790849673202614 random_state 5\n",
      "DecisionTreeClassifier() accuracy 0.9019607843137255 random_state 5\n",
      "max_accuracy 0.9019607843137255 max_random_state 5\n",
      "LogisticRegression() accuracy 0.8725490196078431 random_state 6\n",
      "DecisionTreeClassifier() accuracy 0.8823529411764706 random_state 6\n",
      "LogisticRegression() accuracy 0.8954248366013072 random_state 7\n",
      "DecisionTreeClassifier() accuracy 0.9052287581699346 random_state 7\n",
      "max_accuracy 0.9052287581699346 max_random_state 7\n",
      "LogisticRegression() accuracy 0.8758169934640523 random_state 8\n",
      "DecisionTreeClassifier() accuracy 0.8594771241830066 random_state 8\n",
      "LogisticRegression() accuracy 0.8856209150326797 random_state 9\n",
      "DecisionTreeClassifier() accuracy 0.8921568627450981 random_state 9\n",
      "LogisticRegression() accuracy 0.8594771241830066 random_state 10\n",
      "DecisionTreeClassifier() accuracy 0.8954248366013072 random_state 10\n",
      "LogisticRegression() accuracy 0.9019607843137255 random_state 11\n",
      "DecisionTreeClassifier() accuracy 0.9019607843137255 random_state 11\n",
      "LogisticRegression() accuracy 0.8627450980392157 random_state 12\n",
      "DecisionTreeClassifier() accuracy 0.8333333333333334 random_state 12\n",
      "LogisticRegression() accuracy 0.8627450980392157 random_state 13\n",
      "DecisionTreeClassifier() accuracy 0.8464052287581699 random_state 13\n",
      "LogisticRegression() accuracy 0.9052287581699346 random_state 14\n",
      "DecisionTreeClassifier() accuracy 0.8496732026143791 random_state 14\n",
      "LogisticRegression() accuracy 0.8888888888888888 random_state 15\n",
      "DecisionTreeClassifier() accuracy 0.8823529411764706 random_state 15\n",
      "LogisticRegression() accuracy 0.8627450980392157 random_state 16\n",
      "DecisionTreeClassifier() accuracy 0.8594771241830066 random_state 16\n",
      "LogisticRegression() accuracy 0.8888888888888888 random_state 17\n",
      "DecisionTreeClassifier() accuracy 0.8758169934640523 random_state 17\n",
      "LogisticRegression() accuracy 0.8856209150326797 random_state 18\n",
      "DecisionTreeClassifier() accuracy 0.8660130718954249 random_state 18\n",
      "LogisticRegression() accuracy 0.8594771241830066 random_state 19\n",
      "DecisionTreeClassifier() accuracy 0.869281045751634 random_state 19\n",
      "LogisticRegression() accuracy 0.8790849673202614 random_state 20\n",
      "DecisionTreeClassifier() accuracy 0.9019607843137255 random_state 20\n",
      "LogisticRegression() accuracy 0.8954248366013072 random_state 21\n",
      "DecisionTreeClassifier() accuracy 0.8986928104575164 random_state 21\n",
      "LogisticRegression() accuracy 0.8790849673202614 random_state 22\n",
      "DecisionTreeClassifier() accuracy 0.8660130718954249 random_state 22\n",
      "LogisticRegression() accuracy 0.8954248366013072 random_state 23\n",
      "DecisionTreeClassifier() accuracy 0.8725490196078431 random_state 23\n",
      "LogisticRegression() accuracy 0.8758169934640523 random_state 24\n",
      "DecisionTreeClassifier() accuracy 0.869281045751634 random_state 24\n",
      "LogisticRegression() accuracy 0.8660130718954249 random_state 25\n",
      "DecisionTreeClassifier() accuracy 0.8366013071895425 random_state 25\n",
      "LogisticRegression() accuracy 0.8986928104575164 random_state 26\n",
      "DecisionTreeClassifier() accuracy 0.8921568627450981 random_state 26\n",
      "LogisticRegression() accuracy 0.8627450980392157 random_state 27\n",
      "DecisionTreeClassifier() accuracy 0.869281045751634 random_state 27\n",
      "LogisticRegression() accuracy 0.8529411764705882 random_state 28\n",
      "DecisionTreeClassifier() accuracy 0.8496732026143791 random_state 28\n",
      "LogisticRegression() accuracy 0.8954248366013072 random_state 29\n",
      "DecisionTreeClassifier() accuracy 0.8660130718954249 random_state 29\n",
      "LogisticRegression() accuracy 0.9117647058823529 random_state 30\n",
      "max_accuracy 0.9117647058823529 max_random_state 30\n",
      "DecisionTreeClassifier() accuracy 0.9183006535947712 random_state 30\n",
      "max_accuracy 0.9183006535947712 max_random_state 30\n",
      "LogisticRegression() accuracy 0.8790849673202614 random_state 31\n",
      "DecisionTreeClassifier() accuracy 0.8921568627450981 random_state 31\n",
      "LogisticRegression() accuracy 0.8823529411764706 random_state 32\n",
      "DecisionTreeClassifier() accuracy 0.8627450980392157 random_state 32\n",
      "LogisticRegression() accuracy 0.8431372549019608 random_state 33\n",
      "DecisionTreeClassifier() accuracy 0.8823529411764706 random_state 33\n",
      "LogisticRegression() accuracy 0.8627450980392157 random_state 34\n",
      "DecisionTreeClassifier() accuracy 0.8627450980392157 random_state 34\n",
      "LogisticRegression() accuracy 0.869281045751634 random_state 35\n",
      "DecisionTreeClassifier() accuracy 0.9019607843137255 random_state 35\n",
      "LogisticRegression() accuracy 0.8823529411764706 random_state 36\n",
      "DecisionTreeClassifier() accuracy 0.8627450980392157 random_state 36\n",
      "LogisticRegression() accuracy 0.8660130718954249 random_state 37\n",
      "DecisionTreeClassifier() accuracy 0.869281045751634 random_state 37\n",
      "LogisticRegression() accuracy 0.8888888888888888 random_state 38\n",
      "DecisionTreeClassifier() accuracy 0.9117647058823529 random_state 38\n",
      "LogisticRegression() accuracy 0.8888888888888888 random_state 39\n",
      "DecisionTreeClassifier() accuracy 0.8725490196078431 random_state 39\n",
      "LogisticRegression() accuracy 0.8594771241830066 random_state 40\n",
      "DecisionTreeClassifier() accuracy 0.8627450980392157 random_state 40\n",
      "LogisticRegression() accuracy 0.8725490196078431 random_state 41\n",
      "DecisionTreeClassifier() accuracy 0.8725490196078431 random_state 41\n",
      "LogisticRegression() accuracy 0.8888888888888888 random_state 42\n",
      "DecisionTreeClassifier() accuracy 0.8725490196078431 random_state 42\n",
      "LogisticRegression() accuracy 0.8562091503267973 random_state 43\n",
      "DecisionTreeClassifier() accuracy 0.8921568627450981 random_state 43\n",
      "LogisticRegression() accuracy 0.9019607843137255 random_state 44\n",
      "DecisionTreeClassifier() accuracy 0.8758169934640523 random_state 44\n",
      "LogisticRegression() accuracy 0.826797385620915 random_state 45\n",
      "DecisionTreeClassifier() accuracy 0.8562091503267973 random_state 45\n",
      "LogisticRegression() accuracy 0.8921568627450981 random_state 46\n",
      "DecisionTreeClassifier() accuracy 0.8725490196078431 random_state 46\n",
      "LogisticRegression() accuracy 0.8888888888888888 random_state 47\n",
      "DecisionTreeClassifier() accuracy 0.869281045751634 random_state 47\n",
      "LogisticRegression() accuracy 0.8986928104575164 random_state 48\n",
      "DecisionTreeClassifier() accuracy 0.869281045751634 random_state 48\n",
      "LogisticRegression() accuracy 0.8725490196078431 random_state 49\n",
      "DecisionTreeClassifier() accuracy 0.8562091503267973 random_state 49\n",
      "LogisticRegression() accuracy 0.8921568627450981 random_state 50\n",
      "DecisionTreeClassifier() accuracy 0.8725490196078431 random_state 50\n",
      "LogisticRegression() accuracy 0.8594771241830066 random_state 51\n",
      "DecisionTreeClassifier() accuracy 0.8594771241830066 random_state 51\n",
      "LogisticRegression() accuracy 0.8725490196078431 random_state 52\n",
      "DecisionTreeClassifier() accuracy 0.8529411764705882 random_state 52\n",
      "LogisticRegression() accuracy 0.8464052287581699 random_state 53\n",
      "DecisionTreeClassifier() accuracy 0.8790849673202614 random_state 53\n",
      "LogisticRegression() accuracy 0.8529411764705882 random_state 54\n",
      "DecisionTreeClassifier() accuracy 0.8464052287581699 random_state 54\n",
      "LogisticRegression() accuracy 0.8986928104575164 random_state 55\n",
      "DecisionTreeClassifier() accuracy 0.8758169934640523 random_state 55\n",
      "LogisticRegression() accuracy 0.8856209150326797 random_state 56\n",
      "DecisionTreeClassifier() accuracy 0.8627450980392157 random_state 56\n",
      "LogisticRegression() accuracy 0.8627450980392157 random_state 57\n",
      "DecisionTreeClassifier() accuracy 0.9084967320261438 random_state 57\n",
      "LogisticRegression() accuracy 0.8725490196078431 random_state 58\n",
      "DecisionTreeClassifier() accuracy 0.8660130718954249 random_state 58\n",
      "LogisticRegression() accuracy 0.9019607843137255 random_state 59\n",
      "DecisionTreeClassifier() accuracy 0.8758169934640523 random_state 59\n",
      "LogisticRegression() accuracy 0.8888888888888888 random_state 60\n",
      "DecisionTreeClassifier() accuracy 0.8856209150326797 random_state 60\n",
      "LogisticRegression() accuracy 0.8758169934640523 random_state 61\n",
      "DecisionTreeClassifier() accuracy 0.8333333333333334 random_state 61\n",
      "LogisticRegression() accuracy 0.8660130718954249 random_state 62\n",
      "DecisionTreeClassifier() accuracy 0.8562091503267973 random_state 62\n",
      "LogisticRegression() accuracy 0.8660130718954249 random_state 63\n",
      "DecisionTreeClassifier() accuracy 0.869281045751634 random_state 63\n",
      "LogisticRegression() accuracy 0.8562091503267973 random_state 64\n",
      "DecisionTreeClassifier() accuracy 0.8725490196078431 random_state 64\n",
      "LogisticRegression() accuracy 0.8888888888888888 random_state 65\n",
      "DecisionTreeClassifier() accuracy 0.8856209150326797 random_state 65\n",
      "LogisticRegression() accuracy 0.9019607843137255 random_state 66\n",
      "DecisionTreeClassifier() accuracy 0.869281045751634 random_state 66\n",
      "LogisticRegression() accuracy 0.8888888888888888 random_state 67\n",
      "DecisionTreeClassifier() accuracy 0.8725490196078431 random_state 67\n",
      "LogisticRegression() accuracy 0.8790849673202614 random_state 68\n",
      "DecisionTreeClassifier() accuracy 0.8921568627450981 random_state 68\n",
      "LogisticRegression() accuracy 0.8627450980392157 random_state 69\n",
      "DecisionTreeClassifier() accuracy 0.8856209150326797 random_state 69\n",
      "LogisticRegression() accuracy 0.8790849673202614 random_state 70\n",
      "DecisionTreeClassifier() accuracy 0.8431372549019608 random_state 70\n",
      "LogisticRegression() accuracy 0.8790849673202614 random_state 71\n",
      "DecisionTreeClassifier() accuracy 0.8888888888888888 random_state 71\n",
      "LogisticRegression() accuracy 0.8235294117647058 random_state 72\n",
      "DecisionTreeClassifier() accuracy 0.8790849673202614 random_state 72\n",
      "LogisticRegression() accuracy 0.9248366013071896 random_state 73\n",
      "max_accuracy 0.9248366013071896 max_random_state 73\n",
      "DecisionTreeClassifier() accuracy 0.8888888888888888 random_state 73\n",
      "LogisticRegression() accuracy 0.8660130718954249 random_state 74\n",
      "DecisionTreeClassifier() accuracy 0.869281045751634 random_state 74\n",
      "LogisticRegression() accuracy 0.8725490196078431 random_state 75\n",
      "DecisionTreeClassifier() accuracy 0.8660130718954249 random_state 75\n",
      "LogisticRegression() accuracy 0.8856209150326797 random_state 76\n",
      "DecisionTreeClassifier() accuracy 0.8562091503267973 random_state 76\n",
      "LogisticRegression() accuracy 0.8529411764705882 random_state 77\n",
      "DecisionTreeClassifier() accuracy 0.8823529411764706 random_state 77\n",
      "LogisticRegression() accuracy 0.9183006535947712 random_state 78\n",
      "DecisionTreeClassifier() accuracy 0.8921568627450981 random_state 78\n",
      "LogisticRegression() accuracy 0.8921568627450981 random_state 79\n",
      "DecisionTreeClassifier() accuracy 0.8856209150326797 random_state 79\n",
      "LogisticRegression() accuracy 0.9019607843137255 random_state 80\n",
      "DecisionTreeClassifier() accuracy 0.8660130718954249 random_state 80\n",
      "LogisticRegression() accuracy 0.9019607843137255 random_state 81\n",
      "DecisionTreeClassifier() accuracy 0.8660130718954249 random_state 81\n",
      "LogisticRegression() accuracy 0.8921568627450981 random_state 82\n",
      "DecisionTreeClassifier() accuracy 0.8823529411764706 random_state 82\n",
      "LogisticRegression() accuracy 0.8954248366013072 random_state 83\n",
      "DecisionTreeClassifier() accuracy 0.8790849673202614 random_state 83\n",
      "LogisticRegression() accuracy 0.8562091503267973 random_state 84\n",
      "DecisionTreeClassifier() accuracy 0.8529411764705882 random_state 84\n",
      "LogisticRegression() accuracy 0.8856209150326797 random_state 85\n",
      "DecisionTreeClassifier() accuracy 0.8594771241830066 random_state 85\n",
      "LogisticRegression() accuracy 0.8627450980392157 random_state 86\n",
      "DecisionTreeClassifier() accuracy 0.8790849673202614 random_state 86\n",
      "LogisticRegression() accuracy 0.8660130718954249 random_state 87\n",
      "DecisionTreeClassifier() accuracy 0.8431372549019608 random_state 87\n",
      "LogisticRegression() accuracy 0.8627450980392157 random_state 88\n",
      "DecisionTreeClassifier() accuracy 0.8725490196078431 random_state 88\n",
      "LogisticRegression() accuracy 0.8888888888888888 random_state 89\n",
      "DecisionTreeClassifier() accuracy 0.8986928104575164 random_state 89\n",
      "LogisticRegression() accuracy 0.8823529411764706 random_state 90\n",
      "DecisionTreeClassifier() accuracy 0.8856209150326797 random_state 90\n",
      "LogisticRegression() accuracy 0.8823529411764706 random_state 91\n",
      "DecisionTreeClassifier() accuracy 0.8660130718954249 random_state 91\n",
      "LogisticRegression() accuracy 0.8954248366013072 random_state 92\n",
      "DecisionTreeClassifier() accuracy 0.8888888888888888 random_state 92\n",
      "LogisticRegression() accuracy 0.8954248366013072 random_state 93\n",
      "DecisionTreeClassifier() accuracy 0.8790849673202614 random_state 93\n",
      "LogisticRegression() accuracy 0.8660130718954249 random_state 94\n",
      "DecisionTreeClassifier() accuracy 0.8496732026143791 random_state 94\n",
      "LogisticRegression() accuracy 0.8725490196078431 random_state 95\n",
      "DecisionTreeClassifier() accuracy 0.8627450980392157 random_state 95\n",
      "LogisticRegression() accuracy 0.8660130718954249 random_state 96\n",
      "DecisionTreeClassifier() accuracy 0.8823529411764706 random_state 96\n",
      "LogisticRegression() accuracy 0.9019607843137255 random_state 97\n",
      "DecisionTreeClassifier() accuracy 0.8758169934640523 random_state 97\n",
      "LogisticRegression() accuracy 0.8725490196078431 random_state 98\n",
      "DecisionTreeClassifier() accuracy 0.8529411764705882 random_state 98\n",
      "LogisticRegression() accuracy 0.8660130718954249 random_state 99\n",
      "DecisionTreeClassifier() accuracy 0.8333333333333334 random_state 99\n",
      "LogisticRegression() accuracy 0.9379084967320261 random_state 100\n",
      "max_accuracy 0.9379084967320261 max_random_state 100\n",
      "DecisionTreeClassifier() accuracy 0.9084967320261438 random_state 100\n",
      "LogisticRegression() accuracy 0.8758169934640523 random_state 101\n",
      "DecisionTreeClassifier() accuracy 0.8660130718954249 random_state 101\n",
      "LogisticRegression() accuracy 0.9084967320261438 random_state 102\n",
      "DecisionTreeClassifier() accuracy 0.9052287581699346 random_state 102\n",
      "LogisticRegression() accuracy 0.8856209150326797 random_state 103\n",
      "DecisionTreeClassifier() accuracy 0.8986928104575164 random_state 103\n",
      "LogisticRegression() accuracy 0.8823529411764706 random_state 104\n",
      "DecisionTreeClassifier() accuracy 0.8856209150326797 random_state 104\n",
      "LogisticRegression() accuracy 0.8660130718954249 random_state 105\n",
      "DecisionTreeClassifier() accuracy 0.8823529411764706 random_state 105\n",
      "LogisticRegression() accuracy 0.8888888888888888 random_state 106\n",
      "DecisionTreeClassifier() accuracy 0.8660130718954249 random_state 106\n",
      "LogisticRegression() accuracy 0.8758169934640523 random_state 107\n",
      "DecisionTreeClassifier() accuracy 0.8594771241830066 random_state 107\n",
      "LogisticRegression() accuracy 0.9084967320261438 random_state 108\n",
      "DecisionTreeClassifier() accuracy 0.8888888888888888 random_state 108\n",
      "LogisticRegression() accuracy 0.8888888888888888 random_state 109\n",
      "DecisionTreeClassifier() accuracy 0.8790849673202614 random_state 109\n",
      "LogisticRegression() accuracy 0.8725490196078431 random_state 110\n",
      "DecisionTreeClassifier() accuracy 0.8464052287581699 random_state 110\n",
      "LogisticRegression() accuracy 0.8627450980392157 random_state 111\n",
      "DecisionTreeClassifier() accuracy 0.8627450980392157 random_state 111\n",
      "LogisticRegression() accuracy 0.8660130718954249 random_state 112\n",
      "DecisionTreeClassifier() accuracy 0.8627450980392157 random_state 112\n",
      "LogisticRegression() accuracy 0.8725490196078431 random_state 113\n",
      "DecisionTreeClassifier() accuracy 0.8496732026143791 random_state 113\n",
      "LogisticRegression() accuracy 0.8431372549019608 random_state 114\n",
      "DecisionTreeClassifier() accuracy 0.8562091503267973 random_state 114\n",
      "LogisticRegression() accuracy 0.869281045751634 random_state 115\n",
      "DecisionTreeClassifier() accuracy 0.8496732026143791 random_state 115\n",
      "LogisticRegression() accuracy 0.8888888888888888 random_state 116\n",
      "DecisionTreeClassifier() accuracy 0.8888888888888888 random_state 116\n",
      "LogisticRegression() accuracy 0.8594771241830066 random_state 117\n",
      "DecisionTreeClassifier() accuracy 0.8823529411764706 random_state 117\n",
      "LogisticRegression() accuracy 0.8954248366013072 random_state 118\n",
      "DecisionTreeClassifier() accuracy 0.8888888888888888 random_state 118\n",
      "LogisticRegression() accuracy 0.8529411764705882 random_state 119\n",
      "DecisionTreeClassifier() accuracy 0.8660130718954249 random_state 119\n",
      "LogisticRegression() accuracy 0.8823529411764706 random_state 120\n",
      "DecisionTreeClassifier() accuracy 0.8725490196078431 random_state 120\n",
      "LogisticRegression() accuracy 0.8856209150326797 random_state 121\n",
      "DecisionTreeClassifier() accuracy 0.8921568627450981 random_state 121\n",
      "LogisticRegression() accuracy 0.8888888888888888 random_state 122\n",
      "DecisionTreeClassifier() accuracy 0.8366013071895425 random_state 122\n",
      "LogisticRegression() accuracy 0.8725490196078431 random_state 123\n",
      "DecisionTreeClassifier() accuracy 0.8856209150326797 random_state 123\n",
      "LogisticRegression() accuracy 0.9019607843137255 random_state 124\n",
      "DecisionTreeClassifier() accuracy 0.9117647058823529 random_state 124\n",
      "LogisticRegression() accuracy 0.8986928104575164 random_state 125\n",
      "DecisionTreeClassifier() accuracy 0.8888888888888888 random_state 125\n",
      "LogisticRegression() accuracy 0.8758169934640523 random_state 126\n",
      "DecisionTreeClassifier() accuracy 0.8725490196078431 random_state 126\n",
      "LogisticRegression() accuracy 0.8758169934640523 random_state 127\n",
      "DecisionTreeClassifier() accuracy 0.869281045751634 random_state 127\n",
      "LogisticRegression() accuracy 0.8496732026143791 random_state 128\n",
      "DecisionTreeClassifier() accuracy 0.8300653594771242 random_state 128\n",
      "LogisticRegression() accuracy 0.8823529411764706 random_state 129\n",
      "DecisionTreeClassifier() accuracy 0.8823529411764706 random_state 129\n",
      "LogisticRegression() accuracy 0.9150326797385621 random_state 130\n",
      "DecisionTreeClassifier() accuracy 0.8986928104575164 random_state 130\n",
      "LogisticRegression() accuracy 0.9150326797385621 random_state 131\n",
      "DecisionTreeClassifier() accuracy 0.8790849673202614 random_state 131\n",
      "LogisticRegression() accuracy 0.9150326797385621 random_state 132\n",
      "DecisionTreeClassifier() accuracy 0.8954248366013072 random_state 132\n",
      "LogisticRegression() accuracy 0.9084967320261438 random_state 133\n",
      "DecisionTreeClassifier() accuracy 0.8856209150326797 random_state 133\n",
      "LogisticRegression() accuracy 0.8725490196078431 random_state 134\n",
      "DecisionTreeClassifier() accuracy 0.8888888888888888 random_state 134\n",
      "LogisticRegression() accuracy 0.8856209150326797 random_state 135\n",
      "DecisionTreeClassifier() accuracy 0.8758169934640523 random_state 135\n",
      "LogisticRegression() accuracy 0.8627450980392157 random_state 136\n",
      "DecisionTreeClassifier() accuracy 0.8725490196078431 random_state 136\n",
      "LogisticRegression() accuracy 0.9150326797385621 random_state 137\n",
      "DecisionTreeClassifier() accuracy 0.8954248366013072 random_state 137\n",
      "LogisticRegression() accuracy 0.8986928104575164 random_state 138\n",
      "DecisionTreeClassifier() accuracy 0.869281045751634 random_state 138\n",
      "LogisticRegression() accuracy 0.8660130718954249 random_state 139\n",
      "DecisionTreeClassifier() accuracy 0.8660130718954249 random_state 139\n",
      "LogisticRegression() accuracy 0.9019607843137255 random_state 140\n",
      "DecisionTreeClassifier() accuracy 0.8627450980392157 random_state 140\n",
      "LogisticRegression() accuracy 0.869281045751634 random_state 141\n",
      "DecisionTreeClassifier() accuracy 0.8562091503267973 random_state 141\n",
      "LogisticRegression() accuracy 0.8790849673202614 random_state 142\n",
      "DecisionTreeClassifier() accuracy 0.8921568627450981 random_state 142\n",
      "LogisticRegression() accuracy 0.8431372549019608 random_state 143\n",
      "DecisionTreeClassifier() accuracy 0.8660130718954249 random_state 143\n",
      "LogisticRegression() accuracy 0.8627450980392157 random_state 144\n",
      "DecisionTreeClassifier() accuracy 0.8627450980392157 random_state 144\n",
      "LogisticRegression() accuracy 0.8921568627450981 random_state 145\n",
      "DecisionTreeClassifier() accuracy 0.869281045751634 random_state 145\n",
      "LogisticRegression() accuracy 0.8954248366013072 random_state 146\n",
      "DecisionTreeClassifier() accuracy 0.8888888888888888 random_state 146\n",
      "LogisticRegression() accuracy 0.8562091503267973 random_state 147\n",
      "DecisionTreeClassifier() accuracy 0.869281045751634 random_state 147\n",
      "LogisticRegression() accuracy 0.8660130718954249 random_state 148\n",
      "DecisionTreeClassifier() accuracy 0.8921568627450981 random_state 148\n",
      "LogisticRegression() accuracy 0.8725490196078431 random_state 149\n",
      "DecisionTreeClassifier() accuracy 0.9052287581699346 random_state 149\n",
      "LogisticRegression() accuracy 0.9084967320261438 random_state 150\n",
      "DecisionTreeClassifier() accuracy 0.8660130718954249 random_state 150\n",
      "LogisticRegression() accuracy 0.8660130718954249 random_state 151\n",
      "DecisionTreeClassifier() accuracy 0.8790849673202614 random_state 151\n",
      "LogisticRegression() accuracy 0.8562091503267973 random_state 152\n",
      "DecisionTreeClassifier() accuracy 0.8954248366013072 random_state 152\n",
      "LogisticRegression() accuracy 0.8660130718954249 random_state 153\n",
      "DecisionTreeClassifier() accuracy 0.8529411764705882 random_state 153\n",
      "LogisticRegression() accuracy 0.8888888888888888 random_state 154\n",
      "DecisionTreeClassifier() accuracy 0.8954248366013072 random_state 154\n",
      "LogisticRegression() accuracy 0.8856209150326797 random_state 155\n",
      "DecisionTreeClassifier() accuracy 0.8464052287581699 random_state 155\n",
      "LogisticRegression() accuracy 0.9052287581699346 random_state 156\n",
      "DecisionTreeClassifier() accuracy 0.8986928104575164 random_state 156\n",
      "LogisticRegression() accuracy 0.8758169934640523 random_state 157\n",
      "DecisionTreeClassifier() accuracy 0.8758169934640523 random_state 157\n",
      "LogisticRegression() accuracy 0.8594771241830066 random_state 158\n",
      "DecisionTreeClassifier() accuracy 0.8856209150326797 random_state 158\n",
      "LogisticRegression() accuracy 0.8790849673202614 random_state 159\n",
      "DecisionTreeClassifier() accuracy 0.8921568627450981 random_state 159\n",
      "LogisticRegression() accuracy 0.8758169934640523 random_state 160\n",
      "DecisionTreeClassifier() accuracy 0.8660130718954249 random_state 160\n",
      "LogisticRegression() accuracy 0.8594771241830066 random_state 161\n",
      "DecisionTreeClassifier() accuracy 0.869281045751634 random_state 161\n",
      "LogisticRegression() accuracy 0.9052287581699346 random_state 162\n",
      "DecisionTreeClassifier() accuracy 0.8725490196078431 random_state 162\n",
      "LogisticRegression() accuracy 0.8823529411764706 random_state 163\n",
      "DecisionTreeClassifier() accuracy 0.9019607843137255 random_state 163\n",
      "LogisticRegression() accuracy 0.8790849673202614 random_state 164\n",
      "DecisionTreeClassifier() accuracy 0.8954248366013072 random_state 164\n",
      "LogisticRegression() accuracy 0.8823529411764706 random_state 165\n",
      "DecisionTreeClassifier() accuracy 0.8823529411764706 random_state 165\n",
      "LogisticRegression() accuracy 0.8888888888888888 random_state 166\n",
      "DecisionTreeClassifier() accuracy 0.9019607843137255 random_state 166\n",
      "LogisticRegression() accuracy 0.9052287581699346 random_state 167\n",
      "DecisionTreeClassifier() accuracy 0.8823529411764706 random_state 167\n",
      "LogisticRegression() accuracy 0.8594771241830066 random_state 168\n",
      "DecisionTreeClassifier() accuracy 0.8562091503267973 random_state 168\n",
      "LogisticRegression() accuracy 0.8725490196078431 random_state 169\n",
      "DecisionTreeClassifier() accuracy 0.8594771241830066 random_state 169\n",
      "LogisticRegression() accuracy 0.9150326797385621 random_state 170\n",
      "DecisionTreeClassifier() accuracy 0.8954248366013072 random_state 170\n",
      "LogisticRegression() accuracy 0.8856209150326797 random_state 171\n",
      "DecisionTreeClassifier() accuracy 0.8986928104575164 random_state 171\n",
      "LogisticRegression() accuracy 0.8986928104575164 random_state 172\n",
      "DecisionTreeClassifier() accuracy 0.9117647058823529 random_state 172\n",
      "LogisticRegression() accuracy 0.869281045751634 random_state 173\n",
      "DecisionTreeClassifier() accuracy 0.8856209150326797 random_state 173\n",
      "LogisticRegression() accuracy 0.8594771241830066 random_state 174\n",
      "DecisionTreeClassifier() accuracy 0.8431372549019608 random_state 174\n",
      "LogisticRegression() accuracy 0.8660130718954249 random_state 175\n",
      "DecisionTreeClassifier() accuracy 0.8986928104575164 random_state 175\n",
      "LogisticRegression() accuracy 0.8823529411764706 random_state 176\n",
      "DecisionTreeClassifier() accuracy 0.869281045751634 random_state 176\n",
      "LogisticRegression() accuracy 0.9052287581699346 random_state 177\n",
      "DecisionTreeClassifier() accuracy 0.8823529411764706 random_state 177\n",
      "LogisticRegression() accuracy 0.8627450980392157 random_state 178\n",
      "DecisionTreeClassifier() accuracy 0.8725490196078431 random_state 178\n",
      "LogisticRegression() accuracy 0.8725490196078431 random_state 179\n",
      "DecisionTreeClassifier() accuracy 0.8725490196078431 random_state 179\n",
      "LogisticRegression() accuracy 0.8660130718954249 random_state 180\n",
      "DecisionTreeClassifier() accuracy 0.869281045751634 random_state 180\n",
      "LogisticRegression() accuracy 0.8790849673202614 random_state 181\n",
      "DecisionTreeClassifier() accuracy 0.8790849673202614 random_state 181\n",
      "LogisticRegression() accuracy 0.8725490196078431 random_state 182\n",
      "DecisionTreeClassifier() accuracy 0.8954248366013072 random_state 182\n",
      "LogisticRegression() accuracy 0.8464052287581699 random_state 183\n",
      "DecisionTreeClassifier() accuracy 0.8496732026143791 random_state 183\n",
      "LogisticRegression() accuracy 0.8790849673202614 random_state 184\n",
      "DecisionTreeClassifier() accuracy 0.8790849673202614 random_state 184\n",
      "LogisticRegression() accuracy 0.8954248366013072 random_state 185\n",
      "DecisionTreeClassifier() accuracy 0.8888888888888888 random_state 185\n",
      "LogisticRegression() accuracy 0.8660130718954249 random_state 186\n",
      "DecisionTreeClassifier() accuracy 0.869281045751634 random_state 186\n",
      "LogisticRegression() accuracy 0.8758169934640523 random_state 187\n",
      "DecisionTreeClassifier() accuracy 0.8529411764705882 random_state 187\n",
      "LogisticRegression() accuracy 0.8986928104575164 random_state 188\n",
      "DecisionTreeClassifier() accuracy 0.9019607843137255 random_state 188\n",
      "LogisticRegression() accuracy 0.9019607843137255 random_state 189\n",
      "DecisionTreeClassifier() accuracy 0.8921568627450981 random_state 189\n",
      "LogisticRegression() accuracy 0.8594771241830066 random_state 190\n",
      "DecisionTreeClassifier() accuracy 0.8856209150326797 random_state 190\n",
      "LogisticRegression() accuracy 0.9084967320261438 random_state 191\n",
      "DecisionTreeClassifier() accuracy 0.8660130718954249 random_state 191\n",
      "LogisticRegression() accuracy 0.8856209150326797 random_state 192\n",
      "DecisionTreeClassifier() accuracy 0.8986928104575164 random_state 192\n",
      "LogisticRegression() accuracy 0.8627450980392157 random_state 193\n",
      "DecisionTreeClassifier() accuracy 0.8856209150326797 random_state 193\n",
      "LogisticRegression() accuracy 0.8627450980392157 random_state 194\n",
      "DecisionTreeClassifier() accuracy 0.8627450980392157 random_state 194\n",
      "LogisticRegression() accuracy 0.8823529411764706 random_state 195\n",
      "DecisionTreeClassifier() accuracy 0.8725490196078431 random_state 195\n",
      "LogisticRegression() accuracy 0.869281045751634 random_state 196\n",
      "DecisionTreeClassifier() accuracy 0.8562091503267973 random_state 196\n",
      "LogisticRegression() accuracy 0.8529411764705882 random_state 197\n",
      "DecisionTreeClassifier() accuracy 0.8725490196078431 random_state 197\n",
      "LogisticRegression() accuracy 0.8562091503267973 random_state 198\n",
      "DecisionTreeClassifier() accuracy 0.8300653594771242 random_state 198\n",
      "LogisticRegression() accuracy 0.8823529411764706 random_state 199\n",
      "DecisionTreeClassifier() accuracy 0.8986928104575164 random_state 199\n"
     ]
    }
   ],
   "source": [
    "maxAccu=0\n",
    "maxRS=0\n",
    "model=[lg,dtc]\n",
    "\n",
    "for i in range(1,200):\n",
    "    for m in model:\n",
    "        x_train,x_test,y_train,y_test=train_test_split(x,y,test_size=.2,random_state=i)\n",
    "        m.fit(x_train,y_train)\n",
    "        m.score(x_train,y_train)\n",
    "        pred=m.predict(x_test)\n",
    "        acc=(accuracy_score(y_test,pred))\n",
    "        #print(confusion_matrix(y_test,pred))\n",
    "        #print(classification_report(y_test,pred))\n",
    "        print(m,'accuracy',acc,'random_state',i)\n",
    "        if acc>maxAccu:\n",
    "            maxAccu=acc\n",
    "            maxRS=i\n",
    "            print('max_accuracy',maxAccu,'max_random_state',i)\n",
    "            \n",
    "            "
   ]
  },
  {
   "cell_type": "code",
   "execution_count": 689,
   "id": "1437a18a",
   "metadata": {},
   "outputs": [
    {
     "name": "stdout",
     "output_type": "stream",
     "text": [
      "Best Accuracy is  0.9379084967320261 on random_state 100\n"
     ]
    }
   ],
   "source": [
    "print('Best Accuracy is ', maxAccu, 'on random_state',maxRS)"
   ]
  },
  {
   "cell_type": "code",
   "execution_count": 690,
   "id": "2f97e2a2",
   "metadata": {},
   "outputs": [],
   "source": [
    "x_train,x_test,y_train,y_test=train_test_split(x,y,test_size=.2,random_state=100)"
   ]
  },
  {
   "cell_type": "code",
   "execution_count": 691,
   "id": "750d1cbc",
   "metadata": {},
   "outputs": [],
   "source": [
    "scaler = StandardScaler()\n",
    "x_train = scaler.fit_transform(x_train)\n",
    "x_test = scaler.transform(x_test)"
   ]
  },
  {
   "cell_type": "code",
   "execution_count": 693,
   "id": "9bf9b754",
   "metadata": {},
   "outputs": [],
   "source": [
    "def models(x_train,y_train):\n",
    "    from sklearn.neighbors import KNeighborsClassifier\n",
    "    knn=KNeighborsClassifier(n_neighbors=5,metric='minkowski',p=2)\n",
    "    knn.fit(x_train,y_train)\n",
    "    \n",
    "    from sklearn.linear_model import LogisticRegression\n",
    "    lg=LogisticRegression(random_state=0)\n",
    "    lg.fit(x_train,y_train)\n",
    "    \n",
    "    \n",
    "    from sklearn.svm import SVC\n",
    "    svc=SVC(kernel='rbf',random_state=0)\n",
    "    svc.fit(x_train,y_train)\n",
    "    \n",
    "    \n",
    "    from sklearn.svm import SVC\n",
    "    svc=SVC(kernel='linear',random_state=0)\n",
    "    svc.fit(x_train,y_train)\n",
    "    \n",
    "    \n",
    "    \n",
    "    from sklearn.naive_bayes import GaussianNB\n",
    "    gnb=GaussianNB()\n",
    "    gnb.fit(x_train,y_train)\n",
    "    \n",
    "    \n",
    "    from sklearn.tree import DecisionTreeClassifier\n",
    "    dtc=DecisionTreeClassifier(criterion='entropy',random_state=0)\n",
    "    dtc.fit(x_train,y_train)\n",
    "    \n",
    "    \n",
    "    from sklearn.ensemble import RandomForestClassifier\n",
    "    rfc=RandomForestClassifier(n_estimators=10,criterion='entropy',random_state=0)\n",
    "    rfc.fit(x_train,y_train)\n",
    "    \n",
    "    #print model accuracy on training data\n",
    "\n",
    "    print(\"[0]KNeighbors Classifier Training Accuracy :\" ,knn.score(x_train,y_train))\n",
    "    print(\"[1]]Logistic Regression Training Accuracy :\" ,lg.score(x_train,y_train))\n",
    "    print(\"[2]SVC (rbf)Training Accuracy :\" ,svc.score(x_train,y_train))\n",
    "    print(\"[3]SVC (linear)Training Accuracy :\" ,svc.score(x_train,y_train))\n",
    "    print(\"[4]GaussianNB Training Accuracy :\" ,gnb.score(x_train,y_train))\n",
    "    print(\"[5]Decision Tree ClassifierTraining Accuracy :\" ,dtc.score(x_train,y_train))\n",
    "    print(\"[6]Random Forest Classifier Training Accuracy :\" ,rfc.score(x_train,y_train))\n",
    "    \n",
    "    return knn,lg,svc,svc,gnb,dtc,rfc\n",
    "    "
   ]
  },
  {
   "cell_type": "code",
   "execution_count": 694,
   "id": "9f2c352c",
   "metadata": {},
   "outputs": [
    {
     "name": "stdout",
     "output_type": "stream",
     "text": [
      "[0]KNeighbors Classifier Training Accuracy : 0.9073770491803279\n",
      "[1]]Logistic Regression Training Accuracy : 0.8721311475409836\n",
      "[2]SVC (rbf)Training Accuracy : 0.8745901639344262\n",
      "[3]SVC (linear)Training Accuracy : 0.8745901639344262\n",
      "[4]GaussianNB Training Accuracy : 0.8483606557377049\n",
      "[5]Decision Tree ClassifierTraining Accuracy : 1.0\n",
      "[6]Random Forest Classifier Training Accuracy : 0.9918032786885246\n"
     ]
    }
   ],
   "source": [
    "model=models(x_train,y_train)"
   ]
  },
  {
   "cell_type": "code",
   "execution_count": 711,
   "id": "b07a2e99",
   "metadata": {},
   "outputs": [],
   "source": [
    "lg=LogisticRegression()\n",
    "dtc=DecisionTreeClassifier()\n",
    "gnb=GaussianNB()\n",
    "svc=SVC()\n",
    "knn=KNeighborsClassifier()\n",
    "rfc=RandomForestClassifier()"
   ]
  },
  {
   "cell_type": "code",
   "execution_count": 712,
   "id": "545a93a5",
   "metadata": {},
   "outputs": [
    {
     "name": "stdout",
     "output_type": "stream",
     "text": [
      "0.9281045751633987\n",
      "[[271   9]\n",
      " [ 13  13]]\n",
      "              precision    recall  f1-score   support\n",
      "\n",
      "           0       0.95      0.97      0.96       280\n",
      "           1       0.59      0.50      0.54        26\n",
      "\n",
      "    accuracy                           0.93       306\n",
      "   macro avg       0.77      0.73      0.75       306\n",
      "weighted avg       0.92      0.93      0.93       306\n",
      "\n",
      "0.8888888888888888\n",
      "[[256  24]\n",
      " [ 10  16]]\n",
      "              precision    recall  f1-score   support\n",
      "\n",
      "           0       0.96      0.91      0.94       280\n",
      "           1       0.40      0.62      0.48        26\n",
      "\n",
      "    accuracy                           0.89       306\n",
      "   macro avg       0.68      0.76      0.71       306\n",
      "weighted avg       0.91      0.89      0.90       306\n",
      "\n",
      "0.8594771241830066\n",
      "[[245  35]\n",
      " [  8  18]]\n",
      "              precision    recall  f1-score   support\n",
      "\n",
      "           0       0.97      0.88      0.92       280\n",
      "           1       0.34      0.69      0.46        26\n",
      "\n",
      "    accuracy                           0.86       306\n",
      "   macro avg       0.65      0.78      0.69       306\n",
      "weighted avg       0.91      0.86      0.88       306\n",
      "\n",
      "0.9281045751633987\n",
      "[[273   7]\n",
      " [ 15  11]]\n",
      "              precision    recall  f1-score   support\n",
      "\n",
      "           0       0.95      0.97      0.96       280\n",
      "           1       0.61      0.42      0.50        26\n",
      "\n",
      "    accuracy                           0.93       306\n",
      "   macro avg       0.78      0.70      0.73       306\n",
      "weighted avg       0.92      0.93      0.92       306\n",
      "\n",
      "0.8823529411764706\n",
      "[[257  23]\n",
      " [ 13  13]]\n",
      "              precision    recall  f1-score   support\n",
      "\n",
      "           0       0.95      0.92      0.93       280\n",
      "           1       0.36      0.50      0.42        26\n",
      "\n",
      "    accuracy                           0.88       306\n",
      "   macro avg       0.66      0.71      0.68       306\n",
      "weighted avg       0.90      0.88      0.89       306\n",
      "\n",
      "0.934640522875817\n",
      "[[271   9]\n",
      " [ 11  15]]\n",
      "              precision    recall  f1-score   support\n",
      "\n",
      "           0       0.96      0.97      0.96       280\n",
      "           1       0.62      0.58      0.60        26\n",
      "\n",
      "    accuracy                           0.93       306\n",
      "   macro avg       0.79      0.77      0.78       306\n",
      "weighted avg       0.93      0.93      0.93       306\n",
      "\n"
     ]
    }
   ],
   "source": [
    "model=[lg,dtc,gnb,svc,knn,rfc]\n",
    "\n",
    "for i in model:\n",
    "    i.fit(x_train,y_train)\n",
    "    i.score(x_train,y_train)\n",
    "    pred=i.predict(x_test)\n",
    "    print(accuracy_score(y_test,pred))\n",
    "    print(confusion_matrix(y_test,pred))\n",
    "    print(classification_report(y_test,pred))"
   ]
  },
  {
   "cell_type": "code",
   "execution_count": 713,
   "id": "449ac650",
   "metadata": {},
   "outputs": [
    {
     "data": {
      "image/png": "[encoded data removed]",
      "text/plain": [
       "<Figure size 432x288 with 1 Axes>"
      ]
     },
     "metadata": {
      "needs_background": "light"
     },
     "output_type": "display_data"
    },
    {
     "data": {
      "text/plain": [
       "0.8857142857142859"
      ]
     },
     "execution_count": 713,
     "metadata": {},
     "output_type": "execute_result"
    }
   ],
   "source": [
    "pred_p=rfc.predict_proba(x_test)[:,1]\n",
    "fpr,tpr,thresholds=roc_curve(y_test,pred_p)\n",
    "plt.plot([0,1],[0,1],\"k--\")\n",
    "plt.plot(fpr,tpr,label='RandomForestClassifier')\n",
    "plt.xlabel('false positive rate')\n",
    "plt.ylabel('true positive rate')\n",
    "plt.title('RandomForestClassifier')\n",
    "plt.show()\n",
    "auc_s=roc_auc_score(y_test,pred_p)\n",
    "auc_s"
   ]
  },
  {
   "cell_type": "code",
   "execution_count": 697,
   "id": "e1fd0263",
   "metadata": {},
   "outputs": [
    {
     "data": {
      "image/png": "[encoded data removed]",
      "text/plain": [
       "<Figure size 432x288 with 1 Axes>"
      ]
     },
     "metadata": {
      "needs_background": "light"
     },
     "output_type": "display_data"
    },
    {
     "data": {
      "text/plain": [
       "0.859065934065934"
      ]
     },
     "execution_count": 697,
     "metadata": {},
     "output_type": "execute_result"
    }
   ],
   "source": [
    "pred_p=lg.predict_proba(x_test)[:,1]\n",
    "fpr,tpr,thresholds=roc_curve(y_test,pred_p)\n",
    "plt.plot([0,1],[0,1],\"k--\")\n",
    "plt.plot(fpr,tpr,label='LogisticRegression')\n",
    "plt.xlabel('false positive rate')\n",
    "plt.ylabel('true positive rate')\n",
    "plt.title('LogisticRegression')\n",
    "plt.show()\n",
    "auc_s=roc_auc_score(y_test,pred_p)\n",
    "auc_s"
   ]
  },
  {
   "cell_type": "code",
   "execution_count": 698,
   "id": "29db8fdc",
   "metadata": {},
   "outputs": [],
   "source": [
    "#HYPERPARAMETER TUNING"
   ]
  },
  {
   "cell_type": "code",
   "execution_count": 699,
   "id": "57f3f865",
   "metadata": {},
   "outputs": [
    {
     "data": {
      "image/png": "[encoded data removed]",
      "text/plain": [
       "<Figure size 432x288 with 1 Axes>"
      ]
     },
     "metadata": {
      "needs_background": "light"
     },
     "output_type": "display_data"
    },
    {
     "data": {
      "text/plain": [
       "0.8236263736263737"
      ]
     },
     "execution_count": 699,
     "metadata": {},
     "output_type": "execute_result"
    }
   ],
   "source": [
    "dtc=DecisionTreeClassifier(criterion='entropy',max_depth=None,max_features=1,min_samples_leaf=7)\n",
    "dtc.fit(x_train,y_train)\n",
    "pred=dtc.predict(x_test)\n",
    "accuracy_score(y_test,pred)\n",
    "pred_p=dtc.predict_proba(x_test)[:,1]\n",
    "fpr,tpr,thresholds=roc_curve(y_test,pred_p)\n",
    "plt.plot([0,1],[0,1],\"k--\")\n",
    "plt.plot(fpr,tpr,label='Decision Tree Classifier')\n",
    "plt.xlabel('false positive rate')\n",
    "plt.ylabel('true positive rate')\n",
    "plt.title('DecisionTreeClassifier')\n",
    "plt.show()\n",
    "auc_s=roc_auc_score(y_test,pred_p)\n",
    "auc_s"
   ]
  },
  {
   "cell_type": "markdown",
   "id": "59153d67",
   "metadata": {},
   "source": [
    "# cross validation"
   ]
  },
  {
   "cell_type": "code",
   "execution_count": 700,
   "id": "de57e900",
   "metadata": {},
   "outputs": [
    {
     "name": "stdout",
     "output_type": "stream",
     "text": [
      "cross validation score of Logistic Regression model : 0.8839965966662799\n"
     ]
    }
   ],
   "source": [
    "score=cross_val_score(lg,x,y,cv=9)\n",
    "print('cross validation score of Logistic Regression model :',score.mean())"
   ]
  },
  {
   "cell_type": "code",
   "execution_count": 701,
   "id": "311c2dc8",
   "metadata": {},
   "outputs": [
    {
     "name": "stdout",
     "output_type": "stream",
     "text": [
      "[0.86928105 0.78032787 0.86885246 0.81311475 0.86229508]\n",
      "0.8387742419372121\n",
      "0.035952696645078525\n"
     ]
    }
   ],
   "source": [
    "score=cross_val_score(dtc,x,y,cv=5)\n",
    "print(score)\n",
    "print(score.mean())\n",
    "print(score.std())"
   ]
  },
  {
   "cell_type": "code",
   "execution_count": 702,
   "id": "7b3ea86c",
   "metadata": {},
   "outputs": [
    {
     "name": "stdout",
     "output_type": "stream",
     "text": [
      "[0.8627451  0.81311475 0.86885246 0.8        0.87868852]\n",
      "0.8446801671488267\n",
      "0.031811640748495636\n"
     ]
    }
   ],
   "source": [
    "score=cross_val_score(knn,x,y,cv=5)\n",
    "print(score)\n",
    "print(score.mean())\n",
    "print(score.std())"
   ]
  },
  {
   "cell_type": "code",
   "execution_count": 703,
   "id": "ebf1c044",
   "metadata": {},
   "outputs": [
    {
     "name": "stdout",
     "output_type": "stream",
     "text": [
      "[0.8627451  0.86557377 0.86557377 0.86557377 0.86229508]\n",
      "0.8643522982963677\n",
      "0.001502745132362512\n"
     ]
    }
   ],
   "source": [
    "score=cross_val_score(svc,x,y,cv=5)\n",
    "print(score)\n",
    "print(score.mean())\n",
    "print(score.std())"
   ]
  },
  {
   "cell_type": "code",
   "execution_count": 704,
   "id": "64951e3e",
   "metadata": {},
   "outputs": [
    {
     "name": "stdout",
     "output_type": "stream",
     "text": [
      "[0.88562092 0.68852459 0.8852459  0.75081967 0.86885246]\n",
      "0.8158127075966999\n",
      "0.08115876907599721\n"
     ]
    }
   ],
   "source": [
    "score=cross_val_score(gnb,x,y,cv=5)\n",
    "print(score)\n",
    "print(score.mean())\n",
    "print(score.std())"
   ]
  },
  {
   "cell_type": "code",
   "execution_count": 714,
   "id": "7ff3658b",
   "metadata": {},
   "outputs": [
    {
     "name": "stdout",
     "output_type": "stream",
     "text": [
      "[0.87908497 0.85901639 0.88852459 0.84590164 0.88196721]\n",
      "0.870898960677167\n",
      "0.015913775224576338\n"
     ]
    }
   ],
   "source": [
    "score=cross_val_score(rfc,x,y,cv=5)\n",
    "print(score)\n",
    "print(score.mean())\n",
    "print(score.std())"
   ]
  },
  {
   "cell_type": "markdown",
   "id": "18761143",
   "metadata": {},
   "source": [
    "# Grid search CV"
   ]
  },
  {
   "cell_type": "code",
   "execution_count": 705,
   "id": "41f1d165",
   "metadata": {},
   "outputs": [],
   "source": [
    "parameters={\"max_features\":['auto','sqrt','log2'],\n",
    "           'max_depth':[4,5,6,7,8],\n",
    "           'criterion':['gini','entropy'],\n",
    "           'n_estimators':[100,200,300,400,500]}"
   ]
  },
  {
   "cell_type": "code",
   "execution_count": 706,
   "id": "73931b4d",
   "metadata": {},
   "outputs": [
    {
     "data": {
      "text/plain": [
       "{'criterion': 'entropy',\n",
       " 'max_depth': 8,\n",
       " 'max_features': 'sqrt',\n",
       " 'n_estimators': 300}"
      ]
     },
     "execution_count": 706,
     "metadata": {},
     "output_type": "execute_result"
    }
   ],
   "source": [
    "gcv=GridSearchCV(RandomForestClassifier(),parameters,cv=7,scoring='accuracy')\n",
    "gcv.fit(x_train,y_train)\n",
    "gcv.best_params_"
   ]
  },
  {
   "cell_type": "code",
   "execution_count": 707,
   "id": "91f4826b",
   "metadata": {},
   "outputs": [
    {
     "data": {
      "text/plain": [
       "sklearn.model_selection._search.GridSearchCV"
      ]
     },
     "execution_count": 707,
     "metadata": {},
     "output_type": "execute_result"
    }
   ],
   "source": [
    "type(gcv)"
   ]
  },
  {
   "cell_type": "code",
   "execution_count": 708,
   "id": "f2a661a5",
   "metadata": {},
   "outputs": [
    {
     "data": {
      "text/plain": [
       "0.9444444444444444"
      ]
     },
     "execution_count": 708,
     "metadata": {},
     "output_type": "execute_result"
    }
   ],
   "source": [
    "gcv_pred=gcv.best_estimator_.predict(x_test)\n",
    "accuracy_score(y_test,gcv_pred)"
   ]
  },
  {
   "cell_type": "code",
   "execution_count": null,
   "id": "7b4ffcf5",
   "metadata": {},
   "outputs": [],
   "source": []
  }
 ],
 "metadata": {
  "hide_input": false,
  "kernelspec": {
   "display_name": "Python 3 (ipykernel)",
   "language": "python",
   "name": "python3"
  },
  "language_info": {
   "codemirror_mode": {
    "name": "ipython",
    "version": 3
   },
   "file_extension": ".py",
   "mimetype": "text/x-python",
   "name": "python",
   "nbconvert_exporter": "python",
   "pygments_lexer": "ipython3",
   "version": "3.9.7"
  },
  "latex_envs": {
   "LaTeX_envs_menu_present": true,
   "autoclose": false,
   "autocomplete": true,
   "bibliofile": "biblio.bib",
   "cite_by": "apalike",
   "current_citInitial": 1,
   "eqLabelWithNumbers": true,
   "eqNumInitial": 1,
   "hotkeys": {
    "equation": "Ctrl-E",
    "itemize": "Ctrl-I"
   },
   "labels_anchors": false,
   "latex_user_defs": false,
   "report_style_numbering": false,
   "user_envs_cfg": false
  },
  "varInspector": {
   "cols": {
    "lenName": 16,
    "lenType": 16,
    "lenVar": 40
   },
   "kernels_config": {
    "python": {
     "delete_cmd_postfix": "",
     "delete_cmd_prefix": "del ",
     "library": "var_list.py",
     "varRefreshCmd": "print(var_dic_list())"
    },
    "r": {
     "delete_cmd_postfix": ") ",
     "delete_cmd_prefix": "rm(",
     "library": "var_list.r",
     "varRefreshCmd": "cat(var_dic_list()) "
    }
   },
   "types_to_exclude": [
    "module",
    "function",
    "builtin_function_or_method",
    "instance",
    "_Feature"
   ],
   "window_display": false
  }
 },
 "nbformat": 4,
 "nbformat_minor": 5
}
