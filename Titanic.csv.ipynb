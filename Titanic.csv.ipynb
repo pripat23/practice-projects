{
 "cells": [
  {
   "cell_type": "code",
   "execution_count": 116,
   "id": "ec773bc8",
   "metadata": {},
   "outputs": [],
   "source": [
    "import pandas as pd\n",
    "import numpy as np\n",
    "import matplotlib.pyplot as plt\n",
    "import pickle\n",
    "import matplotlib_inline\n",
    "from sklearn.neighbors import KNeighborsRegressor,KNeighborsClassifier\n",
    "from sklearn.preprocessing import StandardScaler\n",
    "from sklearn.naive_bayes import GaussianNB\n",
    "from sklearn.model_selection import train_test_split\n",
    "from sklearn.model_selection import cross_val_score\n",
    "from sklearn.linear_model import LinearRegression\n",
    "from sklearn.linear_model import LogisticRegression\n",
    "from sklearn.tree import DecisionTreeClassifier\n",
    "from sklearn.tree import DecisionTreeRegressor\n",
    "from sklearn.svm import SVC\n",
    "from sklearn.svm import SVR\n",
    "from sklearn.metrics import r2_score\n",
    "import seaborn as sns\n",
    "from sklearn.metrics import mean_squared_error,mean_absolute_error\n",
    "from sklearn.metrics import confusion_matrix,accuracy_score,classification_report\n",
    "from sklearn.datasets import load_boston\n",
    "from sklearn.datasets import load_breast_cancer\n",
    "\n",
    "from sklearn.preprocessing import OneHotEncoder,LabelEncoder\n",
    "from sklearn.impute import SimpleImputer\n",
    "from sklearn.metrics import roc_curve,roc_auc_score\n",
    "from sklearn.linear_model import Lasso,Ridge,ElasticNet\n",
    "from sklearn.svm import SVR\n",
    "import statsmodels.api as sm\n",
    "from scipy import stats\n",
    "from statsmodels.stats.outliers_influence import variance_inflation_factor\n",
    "import warnings\n",
    "warnings.filterwarnings('ignore')\n",
    "from sklearn.decomposition import PCA\n",
    "from sklearn.ensemble import RandomForestClassifier,RandomForestRegressor\n",
    "from sklearn.ensemble import AdaBoostRegressor,AdaBoostClassifier\n",
    "from sklearn.ensemble import VotingRegressor,VotingClassifier\n",
    "from sklearn.naive_bayes import MultinomialNB\n",
    "from imblearn.over_sampling import SMOTE,SMOTEN,SMOTENC,SVMSMOTE\n",
    "from sklearn.preprocessing import power_transform,PowerTransformer\n",
    "from sklearn.model_selection import cross_val_score\n",
    "from sklearn.model_selection import GridSearchCV"
   ]
  },
  {
   "cell_type": "code",
   "execution_count": 117,
   "id": "ce2121a9",
   "metadata": {},
   "outputs": [
    {
     "data": {
      "text/html": [
       "<div>\n",
       "<style scoped>\n",
       "    .dataframe tbody tr th:only-of-type {\n",
       "        vertical-align: middle;\n",
       "    }\n",
       "\n",
       "    .dataframe tbody tr th {\n",
       "        vertical-align: top;\n",
       "    }\n",
       "\n",
       "    .dataframe thead th {\n",
       "        text-align: right;\n",
       "    }\n",
       "</style>\n",
       "<table border=\"1\" class=\"dataframe\">\n",
       "  <thead>\n",
       "    <tr style=\"text-align: right;\">\n",
       "      <th></th>\n",
       "      <th>PassengerId</th>\n",
       "      <th>Survived</th>\n",
       "      <th>Pclass</th>\n",
       "      <th>Name</th>\n",
       "      <th>Sex</th>\n",
       "      <th>Age</th>\n",
       "      <th>SibSp</th>\n",
       "      <th>Parch</th>\n",
       "      <th>Ticket</th>\n",
       "      <th>Fare</th>\n",
       "      <th>Cabin</th>\n",
       "      <th>Embarked</th>\n",
       "    </tr>\n",
       "  </thead>\n",
       "  <tbody>\n",
       "    <tr>\n",
       "      <th>0</th>\n",
       "      <td>1</td>\n",
       "      <td>0</td>\n",
       "      <td>3</td>\n",
       "      <td>Braund, Mr. Owen Harris</td>\n",
       "      <td>male</td>\n",
       "      <td>22.0</td>\n",
       "      <td>1</td>\n",
       "      <td>0</td>\n",
       "      <td>A/5 21171</td>\n",
       "      <td>7.2500</td>\n",
       "      <td>NaN</td>\n",
       "      <td>S</td>\n",
       "    </tr>\n",
       "    <tr>\n",
       "      <th>1</th>\n",
       "      <td>2</td>\n",
       "      <td>1</td>\n",
       "      <td>1</td>\n",
       "      <td>Cumings, Mrs. John Bradley (Florence Briggs Th...</td>\n",
       "      <td>female</td>\n",
       "      <td>38.0</td>\n",
       "      <td>1</td>\n",
       "      <td>0</td>\n",
       "      <td>PC 17599</td>\n",
       "      <td>71.2833</td>\n",
       "      <td>C85</td>\n",
       "      <td>C</td>\n",
       "    </tr>\n",
       "    <tr>\n",
       "      <th>2</th>\n",
       "      <td>3</td>\n",
       "      <td>1</td>\n",
       "      <td>3</td>\n",
       "      <td>Heikkinen, Miss. Laina</td>\n",
       "      <td>female</td>\n",
       "      <td>26.0</td>\n",
       "      <td>0</td>\n",
       "      <td>0</td>\n",
       "      <td>STON/O2. 3101282</td>\n",
       "      <td>7.9250</td>\n",
       "      <td>NaN</td>\n",
       "      <td>S</td>\n",
       "    </tr>\n",
       "    <tr>\n",
       "      <th>3</th>\n",
       "      <td>4</td>\n",
       "      <td>1</td>\n",
       "      <td>1</td>\n",
       "      <td>Futrelle, Mrs. Jacques Heath (Lily May Peel)</td>\n",
       "      <td>female</td>\n",
       "      <td>35.0</td>\n",
       "      <td>1</td>\n",
       "      <td>0</td>\n",
       "      <td>113803</td>\n",
       "      <td>53.1000</td>\n",
       "      <td>C123</td>\n",
       "      <td>S</td>\n",
       "    </tr>\n",
       "    <tr>\n",
       "      <th>4</th>\n",
       "      <td>5</td>\n",
       "      <td>0</td>\n",
       "      <td>3</td>\n",
       "      <td>Allen, Mr. William Henry</td>\n",
       "      <td>male</td>\n",
       "      <td>35.0</td>\n",
       "      <td>0</td>\n",
       "      <td>0</td>\n",
       "      <td>373450</td>\n",
       "      <td>8.0500</td>\n",
       "      <td>NaN</td>\n",
       "      <td>S</td>\n",
       "    </tr>\n",
       "    <tr>\n",
       "      <th>...</th>\n",
       "      <td>...</td>\n",
       "      <td>...</td>\n",
       "      <td>...</td>\n",
       "      <td>...</td>\n",
       "      <td>...</td>\n",
       "      <td>...</td>\n",
       "      <td>...</td>\n",
       "      <td>...</td>\n",
       "      <td>...</td>\n",
       "      <td>...</td>\n",
       "      <td>...</td>\n",
       "      <td>...</td>\n",
       "    </tr>\n",
       "    <tr>\n",
       "      <th>886</th>\n",
       "      <td>887</td>\n",
       "      <td>0</td>\n",
       "      <td>2</td>\n",
       "      <td>Montvila, Rev. Juozas</td>\n",
       "      <td>male</td>\n",
       "      <td>27.0</td>\n",
       "      <td>0</td>\n",
       "      <td>0</td>\n",
       "      <td>211536</td>\n",
       "      <td>13.0000</td>\n",
       "      <td>NaN</td>\n",
       "      <td>S</td>\n",
       "    </tr>\n",
       "    <tr>\n",
       "      <th>887</th>\n",
       "      <td>888</td>\n",
       "      <td>1</td>\n",
       "      <td>1</td>\n",
       "      <td>Graham, Miss. Margaret Edith</td>\n",
       "      <td>female</td>\n",
       "      <td>19.0</td>\n",
       "      <td>0</td>\n",
       "      <td>0</td>\n",
       "      <td>112053</td>\n",
       "      <td>30.0000</td>\n",
       "      <td>B42</td>\n",
       "      <td>S</td>\n",
       "    </tr>\n",
       "    <tr>\n",
       "      <th>888</th>\n",
       "      <td>889</td>\n",
       "      <td>0</td>\n",
       "      <td>3</td>\n",
       "      <td>Johnston, Miss. Catherine Helen \"Carrie\"</td>\n",
       "      <td>female</td>\n",
       "      <td>NaN</td>\n",
       "      <td>1</td>\n",
       "      <td>2</td>\n",
       "      <td>W./C. 6607</td>\n",
       "      <td>23.4500</td>\n",
       "      <td>NaN</td>\n",
       "      <td>S</td>\n",
       "    </tr>\n",
       "    <tr>\n",
       "      <th>889</th>\n",
       "      <td>890</td>\n",
       "      <td>1</td>\n",
       "      <td>1</td>\n",
       "      <td>Behr, Mr. Karl Howell</td>\n",
       "      <td>male</td>\n",
       "      <td>26.0</td>\n",
       "      <td>0</td>\n",
       "      <td>0</td>\n",
       "      <td>111369</td>\n",
       "      <td>30.0000</td>\n",
       "      <td>C148</td>\n",
       "      <td>C</td>\n",
       "    </tr>\n",
       "    <tr>\n",
       "      <th>890</th>\n",
       "      <td>891</td>\n",
       "      <td>0</td>\n",
       "      <td>3</td>\n",
       "      <td>Dooley, Mr. Patrick</td>\n",
       "      <td>male</td>\n",
       "      <td>32.0</td>\n",
       "      <td>0</td>\n",
       "      <td>0</td>\n",
       "      <td>370376</td>\n",
       "      <td>7.7500</td>\n",
       "      <td>NaN</td>\n",
       "      <td>Q</td>\n",
       "    </tr>\n",
       "  </tbody>\n",
       "</table>\n",
       "<p>891 rows × 12 columns</p>\n",
       "</div>"
      ],
      "text/plain": [
       "     PassengerId  Survived  Pclass  \\\n",
       "0              1         0       3   \n",
       "1              2         1       1   \n",
       "2              3         1       3   \n",
       "3              4         1       1   \n",
       "4              5         0       3   \n",
       "..           ...       ...     ...   \n",
       "886          887         0       2   \n",
       "887          888         1       1   \n",
       "888          889         0       3   \n",
       "889          890         1       1   \n",
       "890          891         0       3   \n",
       "\n",
       "                                                  Name     Sex   Age  SibSp  \\\n",
       "0                              Braund, Mr. Owen Harris    male  22.0      1   \n",
       "1    Cumings, Mrs. John Bradley (Florence Briggs Th...  female  38.0      1   \n",
       "2                               Heikkinen, Miss. Laina  female  26.0      0   \n",
       "3         Futrelle, Mrs. Jacques Heath (Lily May Peel)  female  35.0      1   \n",
       "4                             Allen, Mr. William Henry    male  35.0      0   \n",
       "..                                                 ...     ...   ...    ...   \n",
       "886                              Montvila, Rev. Juozas    male  27.0      0   \n",
       "887                       Graham, Miss. Margaret Edith  female  19.0      0   \n",
       "888           Johnston, Miss. Catherine Helen \"Carrie\"  female   NaN      1   \n",
       "889                              Behr, Mr. Karl Howell    male  26.0      0   \n",
       "890                                Dooley, Mr. Patrick    male  32.0      0   \n",
       "\n",
       "     Parch            Ticket     Fare Cabin Embarked  \n",
       "0        0         A/5 21171   7.2500   NaN        S  \n",
       "1        0          PC 17599  71.2833   C85        C  \n",
       "2        0  STON/O2. 3101282   7.9250   NaN        S  \n",
       "3        0            113803  53.1000  C123        S  \n",
       "4        0            373450   8.0500   NaN        S  \n",
       "..     ...               ...      ...   ...      ...  \n",
       "886      0            211536  13.0000   NaN        S  \n",
       "887      0            112053  30.0000   B42        S  \n",
       "888      2        W./C. 6607  23.4500   NaN        S  \n",
       "889      0            111369  30.0000  C148        C  \n",
       "890      0            370376   7.7500   NaN        Q  \n",
       "\n",
       "[891 rows x 12 columns]"
      ]
     },
     "execution_count": 117,
     "metadata": {},
     "output_type": "execute_result"
    }
   ],
   "source": [
    "df=pd.read_csv('titanic_.csv')\n",
    "df"
   ]
  },
  {
   "cell_type": "markdown",
   "id": "14044052",
   "metadata": {},
   "source": [
    "<span class=\"burk\">Analysing data</span>"
   ]
  },
  {
   "cell_type": "code",
   "execution_count": 118,
   "id": "784d2223",
   "metadata": {},
   "outputs": [
    {
     "data": {
      "text/plain": [
       "(891, 12)"
      ]
     },
     "execution_count": 118,
     "metadata": {},
     "output_type": "execute_result"
    }
   ],
   "source": [
    "df.shape"
   ]
  },
  {
   "cell_type": "code",
   "execution_count": 119,
   "id": "8303cccc",
   "metadata": {},
   "outputs": [
    {
     "data": {
      "text/html": [
       "<div>\n",
       "<style scoped>\n",
       "    .dataframe tbody tr th:only-of-type {\n",
       "        vertical-align: middle;\n",
       "    }\n",
       "\n",
       "    .dataframe tbody tr th {\n",
       "        vertical-align: top;\n",
       "    }\n",
       "\n",
       "    .dataframe thead th {\n",
       "        text-align: right;\n",
       "    }\n",
       "</style>\n",
       "<table border=\"1\" class=\"dataframe\">\n",
       "  <thead>\n",
       "    <tr style=\"text-align: right;\">\n",
       "      <th></th>\n",
       "      <th>PassengerId</th>\n",
       "      <th>Survived</th>\n",
       "      <th>Pclass</th>\n",
       "      <th>Name</th>\n",
       "      <th>Sex</th>\n",
       "      <th>Age</th>\n",
       "      <th>SibSp</th>\n",
       "      <th>Parch</th>\n",
       "      <th>Ticket</th>\n",
       "      <th>Fare</th>\n",
       "      <th>Cabin</th>\n",
       "      <th>Embarked</th>\n",
       "    </tr>\n",
       "  </thead>\n",
       "  <tbody>\n",
       "    <tr>\n",
       "      <th>0</th>\n",
       "      <td>1</td>\n",
       "      <td>0</td>\n",
       "      <td>3</td>\n",
       "      <td>Braund, Mr. Owen Harris</td>\n",
       "      <td>male</td>\n",
       "      <td>22.0</td>\n",
       "      <td>1</td>\n",
       "      <td>0</td>\n",
       "      <td>A/5 21171</td>\n",
       "      <td>7.2500</td>\n",
       "      <td>NaN</td>\n",
       "      <td>S</td>\n",
       "    </tr>\n",
       "    <tr>\n",
       "      <th>1</th>\n",
       "      <td>2</td>\n",
       "      <td>1</td>\n",
       "      <td>1</td>\n",
       "      <td>Cumings, Mrs. John Bradley (Florence Briggs Th...</td>\n",
       "      <td>female</td>\n",
       "      <td>38.0</td>\n",
       "      <td>1</td>\n",
       "      <td>0</td>\n",
       "      <td>PC 17599</td>\n",
       "      <td>71.2833</td>\n",
       "      <td>C85</td>\n",
       "      <td>C</td>\n",
       "    </tr>\n",
       "    <tr>\n",
       "      <th>2</th>\n",
       "      <td>3</td>\n",
       "      <td>1</td>\n",
       "      <td>3</td>\n",
       "      <td>Heikkinen, Miss. Laina</td>\n",
       "      <td>female</td>\n",
       "      <td>26.0</td>\n",
       "      <td>0</td>\n",
       "      <td>0</td>\n",
       "      <td>STON/O2. 3101282</td>\n",
       "      <td>7.9250</td>\n",
       "      <td>NaN</td>\n",
       "      <td>S</td>\n",
       "    </tr>\n",
       "    <tr>\n",
       "      <th>3</th>\n",
       "      <td>4</td>\n",
       "      <td>1</td>\n",
       "      <td>1</td>\n",
       "      <td>Futrelle, Mrs. Jacques Heath (Lily May Peel)</td>\n",
       "      <td>female</td>\n",
       "      <td>35.0</td>\n",
       "      <td>1</td>\n",
       "      <td>0</td>\n",
       "      <td>113803</td>\n",
       "      <td>53.1000</td>\n",
       "      <td>C123</td>\n",
       "      <td>S</td>\n",
       "    </tr>\n",
       "    <tr>\n",
       "      <th>4</th>\n",
       "      <td>5</td>\n",
       "      <td>0</td>\n",
       "      <td>3</td>\n",
       "      <td>Allen, Mr. William Henry</td>\n",
       "      <td>male</td>\n",
       "      <td>35.0</td>\n",
       "      <td>0</td>\n",
       "      <td>0</td>\n",
       "      <td>373450</td>\n",
       "      <td>8.0500</td>\n",
       "      <td>NaN</td>\n",
       "      <td>S</td>\n",
       "    </tr>\n",
       "  </tbody>\n",
       "</table>\n",
       "</div>"
      ],
      "text/plain": [
       "   PassengerId  Survived  Pclass  \\\n",
       "0            1         0       3   \n",
       "1            2         1       1   \n",
       "2            3         1       3   \n",
       "3            4         1       1   \n",
       "4            5         0       3   \n",
       "\n",
       "                                                Name     Sex   Age  SibSp  \\\n",
       "0                            Braund, Mr. Owen Harris    male  22.0      1   \n",
       "1  Cumings, Mrs. John Bradley (Florence Briggs Th...  female  38.0      1   \n",
       "2                             Heikkinen, Miss. Laina  female  26.0      0   \n",
       "3       Futrelle, Mrs. Jacques Heath (Lily May Peel)  female  35.0      1   \n",
       "4                           Allen, Mr. William Henry    male  35.0      0   \n",
       "\n",
       "   Parch            Ticket     Fare Cabin Embarked  \n",
       "0      0         A/5 21171   7.2500   NaN        S  \n",
       "1      0          PC 17599  71.2833   C85        C  \n",
       "2      0  STON/O2. 3101282   7.9250   NaN        S  \n",
       "3      0            113803  53.1000  C123        S  \n",
       "4      0            373450   8.0500   NaN        S  "
      ]
     },
     "execution_count": 119,
     "metadata": {},
     "output_type": "execute_result"
    }
   ],
   "source": [
    "df.head()"
   ]
  },
  {
   "cell_type": "code",
   "execution_count": 120,
   "id": "43f0ce39",
   "metadata": {},
   "outputs": [
    {
     "data": {
      "text/html": [
       "<div>\n",
       "<style scoped>\n",
       "    .dataframe tbody tr th:only-of-type {\n",
       "        vertical-align: middle;\n",
       "    }\n",
       "\n",
       "    .dataframe tbody tr th {\n",
       "        vertical-align: top;\n",
       "    }\n",
       "\n",
       "    .dataframe thead th {\n",
       "        text-align: right;\n",
       "    }\n",
       "</style>\n",
       "<table border=\"1\" class=\"dataframe\">\n",
       "  <thead>\n",
       "    <tr style=\"text-align: right;\">\n",
       "      <th></th>\n",
       "      <th>PassengerId</th>\n",
       "      <th>Survived</th>\n",
       "      <th>Pclass</th>\n",
       "      <th>Name</th>\n",
       "      <th>Sex</th>\n",
       "      <th>Age</th>\n",
       "      <th>SibSp</th>\n",
       "      <th>Parch</th>\n",
       "      <th>Ticket</th>\n",
       "      <th>Fare</th>\n",
       "      <th>Cabin</th>\n",
       "      <th>Embarked</th>\n",
       "    </tr>\n",
       "  </thead>\n",
       "  <tbody>\n",
       "    <tr>\n",
       "      <th>886</th>\n",
       "      <td>887</td>\n",
       "      <td>0</td>\n",
       "      <td>2</td>\n",
       "      <td>Montvila, Rev. Juozas</td>\n",
       "      <td>male</td>\n",
       "      <td>27.0</td>\n",
       "      <td>0</td>\n",
       "      <td>0</td>\n",
       "      <td>211536</td>\n",
       "      <td>13.00</td>\n",
       "      <td>NaN</td>\n",
       "      <td>S</td>\n",
       "    </tr>\n",
       "    <tr>\n",
       "      <th>887</th>\n",
       "      <td>888</td>\n",
       "      <td>1</td>\n",
       "      <td>1</td>\n",
       "      <td>Graham, Miss. Margaret Edith</td>\n",
       "      <td>female</td>\n",
       "      <td>19.0</td>\n",
       "      <td>0</td>\n",
       "      <td>0</td>\n",
       "      <td>112053</td>\n",
       "      <td>30.00</td>\n",
       "      <td>B42</td>\n",
       "      <td>S</td>\n",
       "    </tr>\n",
       "    <tr>\n",
       "      <th>888</th>\n",
       "      <td>889</td>\n",
       "      <td>0</td>\n",
       "      <td>3</td>\n",
       "      <td>Johnston, Miss. Catherine Helen \"Carrie\"</td>\n",
       "      <td>female</td>\n",
       "      <td>NaN</td>\n",
       "      <td>1</td>\n",
       "      <td>2</td>\n",
       "      <td>W./C. 6607</td>\n",
       "      <td>23.45</td>\n",
       "      <td>NaN</td>\n",
       "      <td>S</td>\n",
       "    </tr>\n",
       "    <tr>\n",
       "      <th>889</th>\n",
       "      <td>890</td>\n",
       "      <td>1</td>\n",
       "      <td>1</td>\n",
       "      <td>Behr, Mr. Karl Howell</td>\n",
       "      <td>male</td>\n",
       "      <td>26.0</td>\n",
       "      <td>0</td>\n",
       "      <td>0</td>\n",
       "      <td>111369</td>\n",
       "      <td>30.00</td>\n",
       "      <td>C148</td>\n",
       "      <td>C</td>\n",
       "    </tr>\n",
       "    <tr>\n",
       "      <th>890</th>\n",
       "      <td>891</td>\n",
       "      <td>0</td>\n",
       "      <td>3</td>\n",
       "      <td>Dooley, Mr. Patrick</td>\n",
       "      <td>male</td>\n",
       "      <td>32.0</td>\n",
       "      <td>0</td>\n",
       "      <td>0</td>\n",
       "      <td>370376</td>\n",
       "      <td>7.75</td>\n",
       "      <td>NaN</td>\n",
       "      <td>Q</td>\n",
       "    </tr>\n",
       "  </tbody>\n",
       "</table>\n",
       "</div>"
      ],
      "text/plain": [
       "     PassengerId  Survived  Pclass                                      Name  \\\n",
       "886          887         0       2                     Montvila, Rev. Juozas   \n",
       "887          888         1       1              Graham, Miss. Margaret Edith   \n",
       "888          889         0       3  Johnston, Miss. Catherine Helen \"Carrie\"   \n",
       "889          890         1       1                     Behr, Mr. Karl Howell   \n",
       "890          891         0       3                       Dooley, Mr. Patrick   \n",
       "\n",
       "        Sex   Age  SibSp  Parch      Ticket   Fare Cabin Embarked  \n",
       "886    male  27.0      0      0      211536  13.00   NaN        S  \n",
       "887  female  19.0      0      0      112053  30.00   B42        S  \n",
       "888  female   NaN      1      2  W./C. 6607  23.45   NaN        S  \n",
       "889    male  26.0      0      0      111369  30.00  C148        C  \n",
       "890    male  32.0      0      0      370376   7.75   NaN        Q  "
      ]
     },
     "execution_count": 120,
     "metadata": {},
     "output_type": "execute_result"
    }
   ],
   "source": [
    "df.tail()"
   ]
  },
  {
   "cell_type": "code",
   "execution_count": 121,
   "id": "e1a5d121",
   "metadata": {},
   "outputs": [
    {
     "data": {
      "text/html": [
       "<div>\n",
       "<style scoped>\n",
       "    .dataframe tbody tr th:only-of-type {\n",
       "        vertical-align: middle;\n",
       "    }\n",
       "\n",
       "    .dataframe tbody tr th {\n",
       "        vertical-align: top;\n",
       "    }\n",
       "\n",
       "    .dataframe thead th {\n",
       "        text-align: right;\n",
       "    }\n",
       "</style>\n",
       "<table border=\"1\" class=\"dataframe\">\n",
       "  <thead>\n",
       "    <tr style=\"text-align: right;\">\n",
       "      <th></th>\n",
       "      <th>PassengerId</th>\n",
       "      <th>Survived</th>\n",
       "      <th>Pclass</th>\n",
       "      <th>Name</th>\n",
       "      <th>Sex</th>\n",
       "      <th>Age</th>\n",
       "      <th>SibSp</th>\n",
       "      <th>Parch</th>\n",
       "      <th>Ticket</th>\n",
       "      <th>Fare</th>\n",
       "      <th>Cabin</th>\n",
       "      <th>Embarked</th>\n",
       "    </tr>\n",
       "  </thead>\n",
       "  <tbody>\n",
       "    <tr>\n",
       "      <th>482</th>\n",
       "      <td>483</td>\n",
       "      <td>0</td>\n",
       "      <td>3</td>\n",
       "      <td>Rouse, Mr. Richard Henry</td>\n",
       "      <td>male</td>\n",
       "      <td>50.0</td>\n",
       "      <td>0</td>\n",
       "      <td>0</td>\n",
       "      <td>A/5 3594</td>\n",
       "      <td>8.050</td>\n",
       "      <td>NaN</td>\n",
       "      <td>S</td>\n",
       "    </tr>\n",
       "    <tr>\n",
       "      <th>773</th>\n",
       "      <td>774</td>\n",
       "      <td>0</td>\n",
       "      <td>3</td>\n",
       "      <td>Elias, Mr. Dibo</td>\n",
       "      <td>male</td>\n",
       "      <td>NaN</td>\n",
       "      <td>0</td>\n",
       "      <td>0</td>\n",
       "      <td>2674</td>\n",
       "      <td>7.225</td>\n",
       "      <td>NaN</td>\n",
       "      <td>C</td>\n",
       "    </tr>\n",
       "    <tr>\n",
       "      <th>148</th>\n",
       "      <td>149</td>\n",
       "      <td>0</td>\n",
       "      <td>2</td>\n",
       "      <td>Navratil, Mr. Michel (\"Louis M Hoffman\")</td>\n",
       "      <td>male</td>\n",
       "      <td>36.5</td>\n",
       "      <td>0</td>\n",
       "      <td>2</td>\n",
       "      <td>230080</td>\n",
       "      <td>26.000</td>\n",
       "      <td>F2</td>\n",
       "      <td>S</td>\n",
       "    </tr>\n",
       "    <tr>\n",
       "      <th>316</th>\n",
       "      <td>317</td>\n",
       "      <td>1</td>\n",
       "      <td>2</td>\n",
       "      <td>Kantor, Mrs. Sinai (Miriam Sternin)</td>\n",
       "      <td>female</td>\n",
       "      <td>24.0</td>\n",
       "      <td>1</td>\n",
       "      <td>0</td>\n",
       "      <td>244367</td>\n",
       "      <td>26.000</td>\n",
       "      <td>NaN</td>\n",
       "      <td>S</td>\n",
       "    </tr>\n",
       "    <tr>\n",
       "      <th>657</th>\n",
       "      <td>658</td>\n",
       "      <td>0</td>\n",
       "      <td>3</td>\n",
       "      <td>Bourke, Mrs. John (Catherine)</td>\n",
       "      <td>female</td>\n",
       "      <td>32.0</td>\n",
       "      <td>1</td>\n",
       "      <td>1</td>\n",
       "      <td>364849</td>\n",
       "      <td>15.500</td>\n",
       "      <td>NaN</td>\n",
       "      <td>Q</td>\n",
       "    </tr>\n",
       "    <tr>\n",
       "      <th>121</th>\n",
       "      <td>122</td>\n",
       "      <td>0</td>\n",
       "      <td>3</td>\n",
       "      <td>Moore, Mr. Leonard Charles</td>\n",
       "      <td>male</td>\n",
       "      <td>NaN</td>\n",
       "      <td>0</td>\n",
       "      <td>0</td>\n",
       "      <td>A4. 54510</td>\n",
       "      <td>8.050</td>\n",
       "      <td>NaN</td>\n",
       "      <td>S</td>\n",
       "    </tr>\n",
       "    <tr>\n",
       "      <th>142</th>\n",
       "      <td>143</td>\n",
       "      <td>1</td>\n",
       "      <td>3</td>\n",
       "      <td>Hakkarainen, Mrs. Pekka Pietari (Elin Matilda ...</td>\n",
       "      <td>female</td>\n",
       "      <td>24.0</td>\n",
       "      <td>1</td>\n",
       "      <td>0</td>\n",
       "      <td>STON/O2. 3101279</td>\n",
       "      <td>15.850</td>\n",
       "      <td>NaN</td>\n",
       "      <td>S</td>\n",
       "    </tr>\n",
       "    <tr>\n",
       "      <th>513</th>\n",
       "      <td>514</td>\n",
       "      <td>1</td>\n",
       "      <td>1</td>\n",
       "      <td>Rothschild, Mrs. Martin (Elizabeth L. Barrett)</td>\n",
       "      <td>female</td>\n",
       "      <td>54.0</td>\n",
       "      <td>1</td>\n",
       "      <td>0</td>\n",
       "      <td>PC 17603</td>\n",
       "      <td>59.400</td>\n",
       "      <td>NaN</td>\n",
       "      <td>C</td>\n",
       "    </tr>\n",
       "  </tbody>\n",
       "</table>\n",
       "</div>"
      ],
      "text/plain": [
       "     PassengerId  Survived  Pclass  \\\n",
       "482          483         0       3   \n",
       "773          774         0       3   \n",
       "148          149         0       2   \n",
       "316          317         1       2   \n",
       "657          658         0       3   \n",
       "121          122         0       3   \n",
       "142          143         1       3   \n",
       "513          514         1       1   \n",
       "\n",
       "                                                  Name     Sex   Age  SibSp  \\\n",
       "482                           Rouse, Mr. Richard Henry    male  50.0      0   \n",
       "773                                    Elias, Mr. Dibo    male   NaN      0   \n",
       "148           Navratil, Mr. Michel (\"Louis M Hoffman\")    male  36.5      0   \n",
       "316                Kantor, Mrs. Sinai (Miriam Sternin)  female  24.0      1   \n",
       "657                      Bourke, Mrs. John (Catherine)  female  32.0      1   \n",
       "121                         Moore, Mr. Leonard Charles    male   NaN      0   \n",
       "142  Hakkarainen, Mrs. Pekka Pietari (Elin Matilda ...  female  24.0      1   \n",
       "513     Rothschild, Mrs. Martin (Elizabeth L. Barrett)  female  54.0      1   \n",
       "\n",
       "     Parch            Ticket    Fare Cabin Embarked  \n",
       "482      0          A/5 3594   8.050   NaN        S  \n",
       "773      0              2674   7.225   NaN        C  \n",
       "148      2            230080  26.000    F2        S  \n",
       "316      0            244367  26.000   NaN        S  \n",
       "657      1            364849  15.500   NaN        Q  \n",
       "121      0         A4. 54510   8.050   NaN        S  \n",
       "142      0  STON/O2. 3101279  15.850   NaN        S  \n",
       "513      0          PC 17603  59.400   NaN        C  "
      ]
     },
     "execution_count": 121,
     "metadata": {},
     "output_type": "execute_result"
    }
   ],
   "source": [
    "df.sample(8)"
   ]
  },
  {
   "cell_type": "code",
   "execution_count": 122,
   "id": "ecaeeab3",
   "metadata": {},
   "outputs": [
    {
     "data": {
      "text/plain": [
       "PassengerId      int64\n",
       "Survived         int64\n",
       "Pclass           int64\n",
       "Name            object\n",
       "Sex             object\n",
       "Age            float64\n",
       "SibSp            int64\n",
       "Parch            int64\n",
       "Ticket          object\n",
       "Fare           float64\n",
       "Cabin           object\n",
       "Embarked        object\n",
       "dtype: object"
      ]
     },
     "execution_count": 122,
     "metadata": {},
     "output_type": "execute_result"
    }
   ],
   "source": [
    "df.dtypes"
   ]
  },
  {
   "cell_type": "code",
   "execution_count": 123,
   "id": "d9a6ee6c",
   "metadata": {},
   "outputs": [
    {
     "name": "stdout",
     "output_type": "stream",
     "text": [
      "<class 'pandas.core.frame.DataFrame'>\n",
      "RangeIndex: 891 entries, 0 to 890\n",
      "Data columns (total 12 columns):\n",
      " #   Column       Non-Null Count  Dtype  \n",
      "---  ------       --------------  -----  \n",
      " 0   PassengerId  891 non-null    int64  \n",
      " 1   Survived     891 non-null    int64  \n",
      " 2   Pclass       891 non-null    int64  \n",
      " 3   Name         891 non-null    object \n",
      " 4   Sex          891 non-null    object \n",
      " 5   Age          714 non-null    float64\n",
      " 6   SibSp        891 non-null    int64  \n",
      " 7   Parch        891 non-null    int64  \n",
      " 8   Ticket       891 non-null    object \n",
      " 9   Fare         891 non-null    float64\n",
      " 10  Cabin        204 non-null    object \n",
      " 11  Embarked     889 non-null    object \n",
      "dtypes: float64(2), int64(5), object(5)\n",
      "memory usage: 83.7+ KB\n"
     ]
    }
   ],
   "source": [
    "df.info()"
   ]
  },
  {
   "cell_type": "code",
   "execution_count": 124,
   "id": "3f3f8a91",
   "metadata": {},
   "outputs": [
    {
     "data": {
      "text/html": [
       "<div>\n",
       "<style scoped>\n",
       "    .dataframe tbody tr th:only-of-type {\n",
       "        vertical-align: middle;\n",
       "    }\n",
       "\n",
       "    .dataframe tbody tr th {\n",
       "        vertical-align: top;\n",
       "    }\n",
       "\n",
       "    .dataframe thead th {\n",
       "        text-align: right;\n",
       "    }\n",
       "</style>\n",
       "<table border=\"1\" class=\"dataframe\">\n",
       "  <thead>\n",
       "    <tr style=\"text-align: right;\">\n",
       "      <th></th>\n",
       "      <th>PassengerId</th>\n",
       "      <th>Survived</th>\n",
       "      <th>Pclass</th>\n",
       "      <th>Age</th>\n",
       "      <th>SibSp</th>\n",
       "      <th>Parch</th>\n",
       "      <th>Fare</th>\n",
       "    </tr>\n",
       "  </thead>\n",
       "  <tbody>\n",
       "    <tr>\n",
       "      <th>count</th>\n",
       "      <td>891.000000</td>\n",
       "      <td>891.000000</td>\n",
       "      <td>891.000000</td>\n",
       "      <td>714.000000</td>\n",
       "      <td>891.000000</td>\n",
       "      <td>891.000000</td>\n",
       "      <td>891.000000</td>\n",
       "    </tr>\n",
       "    <tr>\n",
       "      <th>mean</th>\n",
       "      <td>446.000000</td>\n",
       "      <td>0.383838</td>\n",
       "      <td>2.308642</td>\n",
       "      <td>29.699118</td>\n",
       "      <td>0.523008</td>\n",
       "      <td>0.381594</td>\n",
       "      <td>32.204208</td>\n",
       "    </tr>\n",
       "    <tr>\n",
       "      <th>std</th>\n",
       "      <td>257.353842</td>\n",
       "      <td>0.486592</td>\n",
       "      <td>0.836071</td>\n",
       "      <td>14.526497</td>\n",
       "      <td>1.102743</td>\n",
       "      <td>0.806057</td>\n",
       "      <td>49.693429</td>\n",
       "    </tr>\n",
       "    <tr>\n",
       "      <th>min</th>\n",
       "      <td>1.000000</td>\n",
       "      <td>0.000000</td>\n",
       "      <td>1.000000</td>\n",
       "      <td>0.420000</td>\n",
       "      <td>0.000000</td>\n",
       "      <td>0.000000</td>\n",
       "      <td>0.000000</td>\n",
       "    </tr>\n",
       "    <tr>\n",
       "      <th>25%</th>\n",
       "      <td>223.500000</td>\n",
       "      <td>0.000000</td>\n",
       "      <td>2.000000</td>\n",
       "      <td>20.125000</td>\n",
       "      <td>0.000000</td>\n",
       "      <td>0.000000</td>\n",
       "      <td>7.910400</td>\n",
       "    </tr>\n",
       "    <tr>\n",
       "      <th>50%</th>\n",
       "      <td>446.000000</td>\n",
       "      <td>0.000000</td>\n",
       "      <td>3.000000</td>\n",
       "      <td>28.000000</td>\n",
       "      <td>0.000000</td>\n",
       "      <td>0.000000</td>\n",
       "      <td>14.454200</td>\n",
       "    </tr>\n",
       "    <tr>\n",
       "      <th>75%</th>\n",
       "      <td>668.500000</td>\n",
       "      <td>1.000000</td>\n",
       "      <td>3.000000</td>\n",
       "      <td>38.000000</td>\n",
       "      <td>1.000000</td>\n",
       "      <td>0.000000</td>\n",
       "      <td>31.000000</td>\n",
       "    </tr>\n",
       "    <tr>\n",
       "      <th>max</th>\n",
       "      <td>891.000000</td>\n",
       "      <td>1.000000</td>\n",
       "      <td>3.000000</td>\n",
       "      <td>80.000000</td>\n",
       "      <td>8.000000</td>\n",
       "      <td>6.000000</td>\n",
       "      <td>512.329200</td>\n",
       "    </tr>\n",
       "  </tbody>\n",
       "</table>\n",
       "</div>"
      ],
      "text/plain": [
       "       PassengerId    Survived      Pclass         Age       SibSp  \\\n",
       "count   891.000000  891.000000  891.000000  714.000000  891.000000   \n",
       "mean    446.000000    0.383838    2.308642   29.699118    0.523008   \n",
       "std     257.353842    0.486592    0.836071   14.526497    1.102743   \n",
       "min       1.000000    0.000000    1.000000    0.420000    0.000000   \n",
       "25%     223.500000    0.000000    2.000000   20.125000    0.000000   \n",
       "50%     446.000000    0.000000    3.000000   28.000000    0.000000   \n",
       "75%     668.500000    1.000000    3.000000   38.000000    1.000000   \n",
       "max     891.000000    1.000000    3.000000   80.000000    8.000000   \n",
       "\n",
       "            Parch        Fare  \n",
       "count  891.000000  891.000000  \n",
       "mean     0.381594   32.204208  \n",
       "std      0.806057   49.693429  \n",
       "min      0.000000    0.000000  \n",
       "25%      0.000000    7.910400  \n",
       "50%      0.000000   14.454200  \n",
       "75%      0.000000   31.000000  \n",
       "max      6.000000  512.329200  "
      ]
     },
     "execution_count": 124,
     "metadata": {},
     "output_type": "execute_result"
    }
   ],
   "source": [
    "df.describe()"
   ]
  },
  {
   "cell_type": "code",
   "execution_count": 125,
   "id": "c7d6af4d",
   "metadata": {},
   "outputs": [
    {
     "data": {
      "text/html": [
       "<div>\n",
       "<style scoped>\n",
       "    .dataframe tbody tr th:only-of-type {\n",
       "        vertical-align: middle;\n",
       "    }\n",
       "\n",
       "    .dataframe tbody tr th {\n",
       "        vertical-align: top;\n",
       "    }\n",
       "\n",
       "    .dataframe thead th {\n",
       "        text-align: right;\n",
       "    }\n",
       "</style>\n",
       "<table border=\"1\" class=\"dataframe\">\n",
       "  <thead>\n",
       "    <tr style=\"text-align: right;\">\n",
       "      <th></th>\n",
       "      <th>Name</th>\n",
       "      <th>Sex</th>\n",
       "      <th>Ticket</th>\n",
       "      <th>Cabin</th>\n",
       "      <th>Embarked</th>\n",
       "    </tr>\n",
       "  </thead>\n",
       "  <tbody>\n",
       "    <tr>\n",
       "      <th>count</th>\n",
       "      <td>891</td>\n",
       "      <td>891</td>\n",
       "      <td>891</td>\n",
       "      <td>204</td>\n",
       "      <td>889</td>\n",
       "    </tr>\n",
       "    <tr>\n",
       "      <th>unique</th>\n",
       "      <td>891</td>\n",
       "      <td>2</td>\n",
       "      <td>681</td>\n",
       "      <td>147</td>\n",
       "      <td>3</td>\n",
       "    </tr>\n",
       "    <tr>\n",
       "      <th>top</th>\n",
       "      <td>Braund, Mr. Owen Harris</td>\n",
       "      <td>male</td>\n",
       "      <td>347082</td>\n",
       "      <td>B96 B98</td>\n",
       "      <td>S</td>\n",
       "    </tr>\n",
       "    <tr>\n",
       "      <th>freq</th>\n",
       "      <td>1</td>\n",
       "      <td>577</td>\n",
       "      <td>7</td>\n",
       "      <td>4</td>\n",
       "      <td>644</td>\n",
       "    </tr>\n",
       "  </tbody>\n",
       "</table>\n",
       "</div>"
      ],
      "text/plain": [
       "                           Name   Sex  Ticket    Cabin Embarked\n",
       "count                       891   891     891      204      889\n",
       "unique                      891     2     681      147        3\n",
       "top     Braund, Mr. Owen Harris  male  347082  B96 B98        S\n",
       "freq                          1   577       7        4      644"
      ]
     },
     "execution_count": 125,
     "metadata": {},
     "output_type": "execute_result"
    }
   ],
   "source": [
    "df.describe(include=['O'])"
   ]
  },
  {
   "cell_type": "markdown",
   "id": "94e71527",
   "metadata": {},
   "source": [
    "<span class=\"burk\">Visualization</span>"
   ]
  },
  {
   "cell_type": "code",
   "execution_count": 126,
   "id": "a36f7ac0",
   "metadata": {},
   "outputs": [
    {
     "data": {
      "image/png": "[encoded data removed]",
      "text/plain": [
       "<Figure size 720x720 with 9 Axes>"
      ]
     },
     "metadata": {
      "needs_background": "light"
     },
     "output_type": "display_data"
    }
   ],
   "source": [
    "df.hist(bins=25,figsize=(10,10))\n",
    "plt.show()"
   ]
  },
  {
   "cell_type": "code",
   "execution_count": 127,
   "id": "f7054859",
   "metadata": {},
   "outputs": [
    {
     "data": {
      "text/plain": [
       "Index(['PassengerId', 'Survived', 'Pclass', 'Name', 'Sex', 'Age', 'SibSp',\n",
       "       'Parch', 'Ticket', 'Fare', 'Cabin', 'Embarked'],\n",
       "      dtype='object')"
      ]
     },
     "execution_count": 127,
     "metadata": {},
     "output_type": "execute_result"
    }
   ],
   "source": [
    "df.columns"
   ]
  },
  {
   "cell_type": "code",
   "execution_count": 128,
   "id": "c21cc1b3",
   "metadata": {},
   "outputs": [
    {
     "data": {
      "image/png": "[encoded data removed]",
      "text/plain": [
       "<Figure size 432x288 with 1 Axes>"
      ]
     },
     "metadata": {
      "needs_background": "light"
     },
     "output_type": "display_data"
    }
   ],
   "source": [
    "num = df[['Age','SibSp','Parch','Fare']]\n",
    "cat = df[['Survived','Pclass','Sex','Ticket','Cabin','Embarked']]\n",
    "sns.color_palette('muted')\n",
    "sns.barplot(data=df ,x='Sex',y='Survived').set_title(\"Sex vs Survived\")\n",
    "plt.legend(['male','female'])\n",
    "plt.show()"
   ]
  },
  {
   "cell_type": "code",
   "execution_count": 129,
   "id": "8a3d7395",
   "metadata": {},
   "outputs": [
    {
     "data": {
      "text/plain": [
       "<seaborn.axisgrid.FacetGrid at 0x22e767b9b50>"
      ]
     },
     "execution_count": 129,
     "metadata": {},
     "output_type": "execute_result"
    },
    {
     "data": {
      "image/png": "[encoded data removed]",
      "text/plain": [
       "<Figure size 360x360 with 1 Axes>"
      ]
     },
     "metadata": {
      "needs_background": "light"
     },
     "output_type": "display_data"
    }
   ],
   "source": [
    "sns.catplot(x='Embarked', y='Fare', data=df)"
   ]
  },
  {
   "cell_type": "code",
   "execution_count": 130,
   "id": "d76ff716",
   "metadata": {},
   "outputs": [
    {
     "data": {
      "text/plain": [
       "<seaborn.axisgrid.FacetGrid at 0x22e73e83d90>"
      ]
     },
     "execution_count": 130,
     "metadata": {},
     "output_type": "execute_result"
    },
    {
     "data": {
      "image/png": "[encoded data removed]",
      "text/plain": [
       "<Figure size 360x360 with 1 Axes>"
      ]
     },
     "metadata": {
      "needs_background": "light"
     },
     "output_type": "display_data"
    }
   ],
   "source": [
    "sns.catplot(x='Survived', y='Fare', data=df)"
   ]
  },
  {
   "cell_type": "code",
   "execution_count": 131,
   "id": "c924cc5d",
   "metadata": {},
   "outputs": [
    {
     "data": {
      "text/plain": [
       "<seaborn.axisgrid.FacetGrid at 0x22e7610f0d0>"
      ]
     },
     "execution_count": 131,
     "metadata": {},
     "output_type": "execute_result"
    },
    {
     "data": {
      "text/plain": [
       "<Figure size 1440x1440 with 0 Axes>"
      ]
     },
     "metadata": {},
     "output_type": "display_data"
    },
    {
     "data": {
      "image/png": "[encoded data removed]",
      "text/plain": [
       "<Figure size 360x360 with 1 Axes>"
      ]
     },
     "metadata": {
      "needs_background": "light"
     },
     "output_type": "display_data"
    }
   ],
   "source": [
    "plt.figure(figsize=(20,20))\n",
    "sns.catplot(x=\"Age\", kind=\"count\", palette=\"ch:.25\", data=df)\n"
   ]
  },
  {
   "cell_type": "code",
   "execution_count": 132,
   "id": "76360052",
   "metadata": {},
   "outputs": [
    {
     "data": {
      "text/plain": [
       "<seaborn.axisgrid.FacetGrid at 0x22e76116580>"
      ]
     },
     "execution_count": 132,
     "metadata": {},
     "output_type": "execute_result"
    },
    {
     "data": {
      "image/png": "[encoded data removed]",
      "text/plain": [
       "<Figure size 402.375x360 with 1 Axes>"
      ]
     },
     "metadata": {
      "needs_background": "light"
     },
     "output_type": "display_data"
    }
   ],
   "source": [
    "sns.catplot(x=\"Sex\", y=\"Survived\", hue=\"Pclass\", kind=\"bar\", data=df)"
   ]
  },
  {
   "cell_type": "code",
   "execution_count": 133,
   "id": "0697a8b6",
   "metadata": {},
   "outputs": [
    {
     "data": {
      "text/plain": [
       "<seaborn.axisgrid.FacetGrid at 0x22e724b4ee0>"
      ]
     },
     "execution_count": 133,
     "metadata": {},
     "output_type": "execute_result"
    },
    {
     "data": {
      "image/png": "[encoded data removed]",
      "text/plain": [
       "<Figure size 402.375x360 with 1 Axes>"
      ]
     },
     "metadata": {
      "needs_background": "light"
     },
     "output_type": "display_data"
    }
   ],
   "source": [
    "sns.catplot(x=\"Sex\", y=\"Survived\", hue=\"Pclass\", kind=\"point\", data=df)"
   ]
  },
  {
   "cell_type": "code",
   "execution_count": 134,
   "id": "309c695e",
   "metadata": {},
   "outputs": [
    {
     "data": {
      "text/plain": [
       "<seaborn.axisgrid.FacetGrid at 0x22e73e83e20>"
      ]
     },
     "execution_count": 134,
     "metadata": {},
     "output_type": "execute_result"
    },
    {
     "data": {
      "image/png": "[encoded data removed]",
      "text/plain": [
       "<Figure size 432x324 with 3 Axes>"
      ]
     },
     "metadata": {
      "needs_background": "light"
     },
     "output_type": "display_data"
    }
   ],
   "source": [
    "g = sns.catplot(x=\"Fare\", y=\"Survived\", row=\"Pclass\",\n",
    "                kind=\"box\", orient=\"h\", height=1.5, aspect=4,\n",
    "                data=df.query(\"Fare > 0\"))\n",
    "g.set(xscale=\"log\")"
   ]
  },
  {
   "cell_type": "code",
   "execution_count": 135,
   "id": "2dc181d4",
   "metadata": {},
   "outputs": [
    {
     "data": {
      "text/plain": [
       "<seaborn.axisgrid.FacetGrid at 0x22e73f15280>"
      ]
     },
     "execution_count": 135,
     "metadata": {},
     "output_type": "execute_result"
    },
    {
     "data": {
      "image/png": "[encoded data removed]",
      "text/plain": [
       "<Figure size 360x360 with 1 Axes>"
      ]
     },
     "metadata": {
      "needs_background": "light"
     },
     "output_type": "display_data"
    }
   ],
   "source": [
    "sns.catplot(x=\"Parch\", kind=\"count\", palette=\"ch:.25\", data=df)"
   ]
  },
  {
   "cell_type": "code",
   "execution_count": 136,
   "id": "745ec7ea",
   "metadata": {},
   "outputs": [
    {
     "data": {
      "text/plain": [
       "<seaborn.axisgrid.FacetGrid at 0x22e7a40b790>"
      ]
     },
     "execution_count": 136,
     "metadata": {},
     "output_type": "execute_result"
    },
    {
     "data": {
      "image/png": "[encoded data removed]",
      "text/plain": [
       "<Figure size 360x360 with 1 Axes>"
      ]
     },
     "metadata": {
      "needs_background": "light"
     },
     "output_type": "display_data"
    }
   ],
   "source": [
    "sns.catplot(x=\"Embarked\", kind=\"count\", palette=\"ch:.25\", data=df)"
   ]
  },
  {
   "cell_type": "code",
   "execution_count": 137,
   "id": "e3eae17d",
   "metadata": {},
   "outputs": [
    {
     "data": {
      "text/plain": [
       "<seaborn.axisgrid.FacetGrid at 0x22e7a42fb80>"
      ]
     },
     "execution_count": 137,
     "metadata": {},
     "output_type": "execute_result"
    },
    {
     "data": {
      "image/png": "[encoded data removed]",
      "text/plain": [
       "<Figure size 360x360 with 1 Axes>"
      ]
     },
     "metadata": {
      "needs_background": "light"
     },
     "output_type": "display_data"
    }
   ],
   "source": [
    "sns.catplot(x=\"SibSp\", kind=\"count\", palette=\"ch:.25\", data=df)"
   ]
  },
  {
   "cell_type": "code",
   "execution_count": 138,
   "id": "9b36bf06",
   "metadata": {},
   "outputs": [
    {
     "data": {
      "image/png": "[encoded data removed]",
      "text/plain": [
       "<Figure size 1008x1152 with 6 Axes>"
      ]
     },
     "metadata": {
      "needs_background": "light"
     },
     "output_type": "display_data"
    }
   ],
   "source": [
    "plt.figure(figsize=(14,16))\n",
    "cols=['Pclass', 'Sex', 'Age', 'SibSp',\n",
    "       'Parch', 'Embarked']\n",
    "cnt=1\n",
    "for col in cols:\n",
    "    plt.subplot(4,3,cnt)\n",
    "    sns.boxplot(x='Survived',y=col,data=df,palette='rainbow_r')\n",
    "    cnt=cnt+1\n",
    "plt.show()    "
   ]
  },
  {
   "cell_type": "code",
   "execution_count": 139,
   "id": "48b40725",
   "metadata": {},
   "outputs": [
    {
     "data": {
      "image/png": "[encoded data removed]",
      "text/plain": [
       "<Figure size 1440x360 with 2 Axes>"
      ]
     },
     "metadata": {
      "needs_background": "light"
     },
     "output_type": "display_data"
    }
   ],
   "source": [
    "fig,axs=plt.subplots(nrows=1,ncols=2,figsize=(20,5))\n",
    "cols=['Pclass','Age']\n",
    "for col, ax in zip(cols,axs.flat):\n",
    "    sns.regplot(x=df[col],y=df['Survived'],color='orange',ax=ax)"
   ]
  },
  {
   "cell_type": "code",
   "execution_count": 140,
   "id": "e8d3d96e",
   "metadata": {},
   "outputs": [
    {
     "data": {
      "image/png": "[encoded data removed]",
      "text/plain": [
       "<Figure size 432x288 with 1 Axes>"
      ]
     },
     "metadata": {
      "needs_background": "light"
     },
     "output_type": "display_data"
    },
    {
     "data": {
      "image/png": "[encoded data removed]",
      "text/plain": [
       "<Figure size 432x288 with 1 Axes>"
      ]
     },
     "metadata": {
      "needs_background": "light"
     },
     "output_type": "display_data"
    },
    {
     "data": {
      "image/png": "[encoded data removed]",
      "text/plain": [
       "<Figure size 432x288 with 1 Axes>"
      ]
     },
     "metadata": {
      "needs_background": "light"
     },
     "output_type": "display_data"
    },
    {
     "data": {
      "image/png": "[encoded data removed]",
      "text/plain": [
       "<Figure size 432x288 with 1 Axes>"
      ]
     },
     "metadata": {
      "needs_background": "light"
     },
     "output_type": "display_data"
    },
    {
     "data": {
      "image/png": "[encoded data removed]",
      "text/plain": [
       "<Figure size 432x288 with 1 Axes>"
      ]
     },
     "metadata": {
      "needs_background": "light"
     },
     "output_type": "display_data"
    },
    {
     "data": {
      "image/png": "[encoded data removed]",
      "text/plain": [
       "<Figure size 432x288 with 1 Axes>"
      ]
     },
     "metadata": {
      "needs_background": "light"
     },
     "output_type": "display_data"
    },
    {
     "data": {
      "image/png": "[encoded data removed]",
      "text/plain": [
       "<Figure size 432x288 with 1 Axes>"
      ]
     },
     "metadata": {
      "needs_background": "light"
     },
     "output_type": "display_data"
    }
   ],
   "source": [
    "df1=df.select_dtypes([np.int,np.float])\n",
    "for i,col in enumerate(df1.columns):\n",
    "    plt.figure(i)\n",
    "    sns.barplot(x='Survived',y=col,data=df1)"
   ]
  },
  {
   "cell_type": "code",
   "execution_count": 141,
   "id": "e235eb1c",
   "metadata": {},
   "outputs": [
    {
     "data": {
      "text/plain": [
       "PassengerId      0\n",
       "Survived         0\n",
       "Pclass           0\n",
       "Name             0\n",
       "Sex              0\n",
       "Age            177\n",
       "SibSp            0\n",
       "Parch            0\n",
       "Ticket           0\n",
       "Fare             0\n",
       "Cabin          687\n",
       "Embarked         2\n",
       "dtype: int64"
      ]
     },
     "execution_count": 141,
     "metadata": {},
     "output_type": "execute_result"
    }
   ],
   "source": [
    "df.isna().sum()"
   ]
  },
  {
   "cell_type": "code",
   "execution_count": 142,
   "id": "a39f691d",
   "metadata": {},
   "outputs": [
    {
     "data": {
      "text/plain": [
       "array(['S', 'C', 'Q', nan], dtype=object)"
      ]
     },
     "execution_count": 142,
     "metadata": {},
     "output_type": "execute_result"
    }
   ],
   "source": [
    "df['Embarked'].unique()"
   ]
  },
  {
   "cell_type": "code",
   "execution_count": 143,
   "id": "fad21fea",
   "metadata": {},
   "outputs": [
    {
     "data": {
      "text/plain": [
       "array([nan, 'C85', 'C123', 'E46', 'G6', 'C103', 'D56', 'A6',\n",
       "       'C23 C25 C27', 'B78', 'D33', 'B30', 'C52', 'B28', 'C83', 'F33',\n",
       "       'F G73', 'E31', 'A5', 'D10 D12', 'D26', 'C110', 'B58 B60', 'E101',\n",
       "       'F E69', 'D47', 'B86', 'F2', 'C2', 'E33', 'B19', 'A7', 'C49', 'F4',\n",
       "       'A32', 'B4', 'B80', 'A31', 'D36', 'D15', 'C93', 'C78', 'D35',\n",
       "       'C87', 'B77', 'E67', 'B94', 'C125', 'C99', 'C118', 'D7', 'A19',\n",
       "       'B49', 'D', 'C22 C26', 'C106', 'C65', 'E36', 'C54',\n",
       "       'B57 B59 B63 B66', 'C7', 'E34', 'C32', 'B18', 'C124', 'C91', 'E40',\n",
       "       'T', 'C128', 'D37', 'B35', 'E50', 'C82', 'B96 B98', 'E10', 'E44',\n",
       "       'A34', 'C104', 'C111', 'C92', 'E38', 'D21', 'E12', 'E63', 'A14',\n",
       "       'B37', 'C30', 'D20', 'B79', 'E25', 'D46', 'B73', 'C95', 'B38',\n",
       "       'B39', 'B22', 'C86', 'C70', 'A16', 'C101', 'C68', 'A10', 'E68',\n",
       "       'B41', 'A20', 'D19', 'D50', 'D9', 'A23', 'B50', 'A26', 'D48',\n",
       "       'E58', 'C126', 'B71', 'B51 B53 B55', 'D49', 'B5', 'B20', 'F G63',\n",
       "       'C62 C64', 'E24', 'C90', 'C45', 'E8', 'B101', 'D45', 'C46', 'D30',\n",
       "       'E121', 'D11', 'E77', 'F38', 'B3', 'D6', 'B82 B84', 'D17', 'A36',\n",
       "       'B102', 'B69', 'E49', 'C47', 'D28', 'E17', 'A24', 'C50', 'B42',\n",
       "       'C148'], dtype=object)"
      ]
     },
     "execution_count": 143,
     "metadata": {},
     "output_type": "execute_result"
    }
   ],
   "source": [
    "df['Cabin'].unique()"
   ]
  },
  {
   "cell_type": "code",
   "execution_count": 144,
   "id": "a4919d80",
   "metadata": {},
   "outputs": [
    {
     "data": {
      "text/plain": [
       "array([22.  , 38.  , 26.  , 35.  ,   nan, 54.  ,  2.  , 27.  , 14.  ,\n",
       "        4.  , 58.  , 20.  , 39.  , 55.  , 31.  , 34.  , 15.  , 28.  ,\n",
       "        8.  , 19.  , 40.  , 66.  , 42.  , 21.  , 18.  ,  3.  ,  7.  ,\n",
       "       49.  , 29.  , 65.  , 28.5 ,  5.  , 11.  , 45.  , 17.  , 32.  ,\n",
       "       16.  , 25.  ,  0.83, 30.  , 33.  , 23.  , 24.  , 46.  , 59.  ,\n",
       "       71.  , 37.  , 47.  , 14.5 , 70.5 , 32.5 , 12.  ,  9.  , 36.5 ,\n",
       "       51.  , 55.5 , 40.5 , 44.  ,  1.  , 61.  , 56.  , 50.  , 36.  ,\n",
       "       45.5 , 20.5 , 62.  , 41.  , 52.  , 63.  , 23.5 ,  0.92, 43.  ,\n",
       "       60.  , 10.  , 64.  , 13.  , 48.  ,  0.75, 53.  , 57.  , 80.  ,\n",
       "       70.  , 24.5 ,  6.  ,  0.67, 30.5 ,  0.42, 34.5 , 74.  ])"
      ]
     },
     "execution_count": 144,
     "metadata": {},
     "output_type": "execute_result"
    }
   ],
   "source": [
    "df['Age'].unique()"
   ]
  },
  {
   "cell_type": "markdown",
   "id": "c95ee04f",
   "metadata": {},
   "source": [
    "<span class=\"burk\">Data cleaning</span>"
   ]
  },
  {
   "cell_type": "code",
   "execution_count": 145,
   "id": "32a29ef5",
   "metadata": {},
   "outputs": [
    {
     "data": {
      "text/plain": [
       "<AxesSubplot:xlabel='Age', ylabel='count'>"
      ]
     },
     "execution_count": 145,
     "metadata": {},
     "output_type": "execute_result"
    },
    {
     "data": {
      "image/png": "[encoded data removed]",
      "text/plain": [
       "<Figure size 432x288 with 1 Axes>"
      ]
     },
     "metadata": {
      "needs_background": "light"
     },
     "output_type": "display_data"
    }
   ],
   "source": [
    "sns.countplot(x='Age',data=df)"
   ]
  },
  {
   "cell_type": "code",
   "execution_count": 146,
   "id": "e8a868f1",
   "metadata": {},
   "outputs": [],
   "source": [
    "df1=df['Age'].fillna(df['Age'].mean(),inplace=True)\n",
    "df1"
   ]
  },
  {
   "cell_type": "code",
   "execution_count": 147,
   "id": "9d48d3db",
   "metadata": {},
   "outputs": [],
   "source": [
    "# We can simply fill the embarked values with mode\n",
    "df['Embarked'].fillna(df['Embarked'].mode()[0],inplace=True)"
   ]
  },
  {
   "cell_type": "code",
   "execution_count": 148,
   "id": "5ab81fc1",
   "metadata": {},
   "outputs": [
    {
     "data": {
      "text/plain": [
       "PassengerId      0\n",
       "Survived         0\n",
       "Pclass           0\n",
       "Name             0\n",
       "Sex              0\n",
       "Age              0\n",
       "SibSp            0\n",
       "Parch            0\n",
       "Ticket           0\n",
       "Fare             0\n",
       "Cabin          687\n",
       "Embarked         0\n",
       "dtype: int64"
      ]
     },
     "execution_count": 148,
     "metadata": {},
     "output_type": "execute_result"
    }
   ],
   "source": [
    "df.isna().sum()"
   ]
  },
  {
   "cell_type": "code",
   "execution_count": 149,
   "id": "13683c1c",
   "metadata": {},
   "outputs": [
    {
     "data": {
      "text/html": [
       "<div>\n",
       "<style scoped>\n",
       "    .dataframe tbody tr th:only-of-type {\n",
       "        vertical-align: middle;\n",
       "    }\n",
       "\n",
       "    .dataframe tbody tr th {\n",
       "        vertical-align: top;\n",
       "    }\n",
       "\n",
       "    .dataframe thead th {\n",
       "        text-align: right;\n",
       "    }\n",
       "</style>\n",
       "<table border=\"1\" class=\"dataframe\">\n",
       "  <thead>\n",
       "    <tr style=\"text-align: right;\">\n",
       "      <th></th>\n",
       "      <th>PassengerId</th>\n",
       "      <th>Survived</th>\n",
       "      <th>Pclass</th>\n",
       "      <th>Name</th>\n",
       "      <th>Sex</th>\n",
       "      <th>Age</th>\n",
       "      <th>SibSp</th>\n",
       "      <th>Parch</th>\n",
       "      <th>Ticket</th>\n",
       "      <th>Fare</th>\n",
       "      <th>Cabin</th>\n",
       "      <th>Embarked</th>\n",
       "    </tr>\n",
       "  </thead>\n",
       "  <tbody>\n",
       "    <tr>\n",
       "      <th>0</th>\n",
       "      <td>1</td>\n",
       "      <td>0</td>\n",
       "      <td>3</td>\n",
       "      <td>Braund, Mr. Owen Harris</td>\n",
       "      <td>male</td>\n",
       "      <td>22.000000</td>\n",
       "      <td>1</td>\n",
       "      <td>0</td>\n",
       "      <td>A/5 21171</td>\n",
       "      <td>7.2500</td>\n",
       "      <td>NaN</td>\n",
       "      <td>S</td>\n",
       "    </tr>\n",
       "    <tr>\n",
       "      <th>1</th>\n",
       "      <td>2</td>\n",
       "      <td>1</td>\n",
       "      <td>1</td>\n",
       "      <td>Cumings, Mrs. John Bradley (Florence Briggs Th...</td>\n",
       "      <td>female</td>\n",
       "      <td>38.000000</td>\n",
       "      <td>1</td>\n",
       "      <td>0</td>\n",
       "      <td>PC 17599</td>\n",
       "      <td>71.2833</td>\n",
       "      <td>C85</td>\n",
       "      <td>C</td>\n",
       "    </tr>\n",
       "    <tr>\n",
       "      <th>2</th>\n",
       "      <td>3</td>\n",
       "      <td>1</td>\n",
       "      <td>3</td>\n",
       "      <td>Heikkinen, Miss. Laina</td>\n",
       "      <td>female</td>\n",
       "      <td>26.000000</td>\n",
       "      <td>0</td>\n",
       "      <td>0</td>\n",
       "      <td>STON/O2. 3101282</td>\n",
       "      <td>7.9250</td>\n",
       "      <td>NaN</td>\n",
       "      <td>S</td>\n",
       "    </tr>\n",
       "    <tr>\n",
       "      <th>3</th>\n",
       "      <td>4</td>\n",
       "      <td>1</td>\n",
       "      <td>1</td>\n",
       "      <td>Futrelle, Mrs. Jacques Heath (Lily May Peel)</td>\n",
       "      <td>female</td>\n",
       "      <td>35.000000</td>\n",
       "      <td>1</td>\n",
       "      <td>0</td>\n",
       "      <td>113803</td>\n",
       "      <td>53.1000</td>\n",
       "      <td>C123</td>\n",
       "      <td>S</td>\n",
       "    </tr>\n",
       "    <tr>\n",
       "      <th>4</th>\n",
       "      <td>5</td>\n",
       "      <td>0</td>\n",
       "      <td>3</td>\n",
       "      <td>Allen, Mr. William Henry</td>\n",
       "      <td>male</td>\n",
       "      <td>35.000000</td>\n",
       "      <td>0</td>\n",
       "      <td>0</td>\n",
       "      <td>373450</td>\n",
       "      <td>8.0500</td>\n",
       "      <td>NaN</td>\n",
       "      <td>S</td>\n",
       "    </tr>\n",
       "    <tr>\n",
       "      <th>...</th>\n",
       "      <td>...</td>\n",
       "      <td>...</td>\n",
       "      <td>...</td>\n",
       "      <td>...</td>\n",
       "      <td>...</td>\n",
       "      <td>...</td>\n",
       "      <td>...</td>\n",
       "      <td>...</td>\n",
       "      <td>...</td>\n",
       "      <td>...</td>\n",
       "      <td>...</td>\n",
       "      <td>...</td>\n",
       "    </tr>\n",
       "    <tr>\n",
       "      <th>886</th>\n",
       "      <td>887</td>\n",
       "      <td>0</td>\n",
       "      <td>2</td>\n",
       "      <td>Montvila, Rev. Juozas</td>\n",
       "      <td>male</td>\n",
       "      <td>27.000000</td>\n",
       "      <td>0</td>\n",
       "      <td>0</td>\n",
       "      <td>211536</td>\n",
       "      <td>13.0000</td>\n",
       "      <td>NaN</td>\n",
       "      <td>S</td>\n",
       "    </tr>\n",
       "    <tr>\n",
       "      <th>887</th>\n",
       "      <td>888</td>\n",
       "      <td>1</td>\n",
       "      <td>1</td>\n",
       "      <td>Graham, Miss. Margaret Edith</td>\n",
       "      <td>female</td>\n",
       "      <td>19.000000</td>\n",
       "      <td>0</td>\n",
       "      <td>0</td>\n",
       "      <td>112053</td>\n",
       "      <td>30.0000</td>\n",
       "      <td>B42</td>\n",
       "      <td>S</td>\n",
       "    </tr>\n",
       "    <tr>\n",
       "      <th>888</th>\n",
       "      <td>889</td>\n",
       "      <td>0</td>\n",
       "      <td>3</td>\n",
       "      <td>Johnston, Miss. Catherine Helen \"Carrie\"</td>\n",
       "      <td>female</td>\n",
       "      <td>29.699118</td>\n",
       "      <td>1</td>\n",
       "      <td>2</td>\n",
       "      <td>W./C. 6607</td>\n",
       "      <td>23.4500</td>\n",
       "      <td>NaN</td>\n",
       "      <td>S</td>\n",
       "    </tr>\n",
       "    <tr>\n",
       "      <th>889</th>\n",
       "      <td>890</td>\n",
       "      <td>1</td>\n",
       "      <td>1</td>\n",
       "      <td>Behr, Mr. Karl Howell</td>\n",
       "      <td>male</td>\n",
       "      <td>26.000000</td>\n",
       "      <td>0</td>\n",
       "      <td>0</td>\n",
       "      <td>111369</td>\n",
       "      <td>30.0000</td>\n",
       "      <td>C148</td>\n",
       "      <td>C</td>\n",
       "    </tr>\n",
       "    <tr>\n",
       "      <th>890</th>\n",
       "      <td>891</td>\n",
       "      <td>0</td>\n",
       "      <td>3</td>\n",
       "      <td>Dooley, Mr. Patrick</td>\n",
       "      <td>male</td>\n",
       "      <td>32.000000</td>\n",
       "      <td>0</td>\n",
       "      <td>0</td>\n",
       "      <td>370376</td>\n",
       "      <td>7.7500</td>\n",
       "      <td>NaN</td>\n",
       "      <td>Q</td>\n",
       "    </tr>\n",
       "  </tbody>\n",
       "</table>\n",
       "<p>891 rows × 12 columns</p>\n",
       "</div>"
      ],
      "text/plain": [
       "     PassengerId  Survived  Pclass  \\\n",
       "0              1         0       3   \n",
       "1              2         1       1   \n",
       "2              3         1       3   \n",
       "3              4         1       1   \n",
       "4              5         0       3   \n",
       "..           ...       ...     ...   \n",
       "886          887         0       2   \n",
       "887          888         1       1   \n",
       "888          889         0       3   \n",
       "889          890         1       1   \n",
       "890          891         0       3   \n",
       "\n",
       "                                                  Name     Sex        Age  \\\n",
       "0                              Braund, Mr. Owen Harris    male  22.000000   \n",
       "1    Cumings, Mrs. John Bradley (Florence Briggs Th...  female  38.000000   \n",
       "2                               Heikkinen, Miss. Laina  female  26.000000   \n",
       "3         Futrelle, Mrs. Jacques Heath (Lily May Peel)  female  35.000000   \n",
       "4                             Allen, Mr. William Henry    male  35.000000   \n",
       "..                                                 ...     ...        ...   \n",
       "886                              Montvila, Rev. Juozas    male  27.000000   \n",
       "887                       Graham, Miss. Margaret Edith  female  19.000000   \n",
       "888           Johnston, Miss. Catherine Helen \"Carrie\"  female  29.699118   \n",
       "889                              Behr, Mr. Karl Howell    male  26.000000   \n",
       "890                                Dooley, Mr. Patrick    male  32.000000   \n",
       "\n",
       "     SibSp  Parch            Ticket     Fare Cabin Embarked  \n",
       "0        1      0         A/5 21171   7.2500   NaN        S  \n",
       "1        1      0          PC 17599  71.2833   C85        C  \n",
       "2        0      0  STON/O2. 3101282   7.9250   NaN        S  \n",
       "3        1      0            113803  53.1000  C123        S  \n",
       "4        0      0            373450   8.0500   NaN        S  \n",
       "..     ...    ...               ...      ...   ...      ...  \n",
       "886      0      0            211536  13.0000   NaN        S  \n",
       "887      0      0            112053  30.0000   B42        S  \n",
       "888      1      2        W./C. 6607  23.4500   NaN        S  \n",
       "889      0      0            111369  30.0000  C148        C  \n",
       "890      0      0            370376   7.7500   NaN        Q  \n",
       "\n",
       "[891 rows x 12 columns]"
      ]
     },
     "execution_count": 149,
     "metadata": {},
     "output_type": "execute_result"
    }
   ],
   "source": [
    "df"
   ]
  },
  {
   "cell_type": "code",
   "execution_count": 150,
   "id": "d36c8aac",
   "metadata": {},
   "outputs": [],
   "source": [
    "#These columns do not contribute to the model in any way\n",
    "df.drop(['PassengerId','Name','Ticket','Cabin'],axis=1,inplace=True)"
   ]
  },
  {
   "cell_type": "code",
   "execution_count": 151,
   "id": "d7b3c492",
   "metadata": {},
   "outputs": [
    {
     "data": {
      "text/html": [
       "<div>\n",
       "<style scoped>\n",
       "    .dataframe tbody tr th:only-of-type {\n",
       "        vertical-align: middle;\n",
       "    }\n",
       "\n",
       "    .dataframe tbody tr th {\n",
       "        vertical-align: top;\n",
       "    }\n",
       "\n",
       "    .dataframe thead th {\n",
       "        text-align: right;\n",
       "    }\n",
       "</style>\n",
       "<table border=\"1\" class=\"dataframe\">\n",
       "  <thead>\n",
       "    <tr style=\"text-align: right;\">\n",
       "      <th></th>\n",
       "      <th>Survived</th>\n",
       "      <th>Pclass</th>\n",
       "      <th>Sex</th>\n",
       "      <th>Age</th>\n",
       "      <th>SibSp</th>\n",
       "      <th>Parch</th>\n",
       "      <th>Fare</th>\n",
       "      <th>Embarked</th>\n",
       "    </tr>\n",
       "  </thead>\n",
       "  <tbody>\n",
       "    <tr>\n",
       "      <th>0</th>\n",
       "      <td>0</td>\n",
       "      <td>3</td>\n",
       "      <td>male</td>\n",
       "      <td>22.000000</td>\n",
       "      <td>1</td>\n",
       "      <td>0</td>\n",
       "      <td>7.2500</td>\n",
       "      <td>S</td>\n",
       "    </tr>\n",
       "    <tr>\n",
       "      <th>1</th>\n",
       "      <td>1</td>\n",
       "      <td>1</td>\n",
       "      <td>female</td>\n",
       "      <td>38.000000</td>\n",
       "      <td>1</td>\n",
       "      <td>0</td>\n",
       "      <td>71.2833</td>\n",
       "      <td>C</td>\n",
       "    </tr>\n",
       "    <tr>\n",
       "      <th>2</th>\n",
       "      <td>1</td>\n",
       "      <td>3</td>\n",
       "      <td>female</td>\n",
       "      <td>26.000000</td>\n",
       "      <td>0</td>\n",
       "      <td>0</td>\n",
       "      <td>7.9250</td>\n",
       "      <td>S</td>\n",
       "    </tr>\n",
       "    <tr>\n",
       "      <th>3</th>\n",
       "      <td>1</td>\n",
       "      <td>1</td>\n",
       "      <td>female</td>\n",
       "      <td>35.000000</td>\n",
       "      <td>1</td>\n",
       "      <td>0</td>\n",
       "      <td>53.1000</td>\n",
       "      <td>S</td>\n",
       "    </tr>\n",
       "    <tr>\n",
       "      <th>4</th>\n",
       "      <td>0</td>\n",
       "      <td>3</td>\n",
       "      <td>male</td>\n",
       "      <td>35.000000</td>\n",
       "      <td>0</td>\n",
       "      <td>0</td>\n",
       "      <td>8.0500</td>\n",
       "      <td>S</td>\n",
       "    </tr>\n",
       "    <tr>\n",
       "      <th>...</th>\n",
       "      <td>...</td>\n",
       "      <td>...</td>\n",
       "      <td>...</td>\n",
       "      <td>...</td>\n",
       "      <td>...</td>\n",
       "      <td>...</td>\n",
       "      <td>...</td>\n",
       "      <td>...</td>\n",
       "    </tr>\n",
       "    <tr>\n",
       "      <th>886</th>\n",
       "      <td>0</td>\n",
       "      <td>2</td>\n",
       "      <td>male</td>\n",
       "      <td>27.000000</td>\n",
       "      <td>0</td>\n",
       "      <td>0</td>\n",
       "      <td>13.0000</td>\n",
       "      <td>S</td>\n",
       "    </tr>\n",
       "    <tr>\n",
       "      <th>887</th>\n",
       "      <td>1</td>\n",
       "      <td>1</td>\n",
       "      <td>female</td>\n",
       "      <td>19.000000</td>\n",
       "      <td>0</td>\n",
       "      <td>0</td>\n",
       "      <td>30.0000</td>\n",
       "      <td>S</td>\n",
       "    </tr>\n",
       "    <tr>\n",
       "      <th>888</th>\n",
       "      <td>0</td>\n",
       "      <td>3</td>\n",
       "      <td>female</td>\n",
       "      <td>29.699118</td>\n",
       "      <td>1</td>\n",
       "      <td>2</td>\n",
       "      <td>23.4500</td>\n",
       "      <td>S</td>\n",
       "    </tr>\n",
       "    <tr>\n",
       "      <th>889</th>\n",
       "      <td>1</td>\n",
       "      <td>1</td>\n",
       "      <td>male</td>\n",
       "      <td>26.000000</td>\n",
       "      <td>0</td>\n",
       "      <td>0</td>\n",
       "      <td>30.0000</td>\n",
       "      <td>C</td>\n",
       "    </tr>\n",
       "    <tr>\n",
       "      <th>890</th>\n",
       "      <td>0</td>\n",
       "      <td>3</td>\n",
       "      <td>male</td>\n",
       "      <td>32.000000</td>\n",
       "      <td>0</td>\n",
       "      <td>0</td>\n",
       "      <td>7.7500</td>\n",
       "      <td>Q</td>\n",
       "    </tr>\n",
       "  </tbody>\n",
       "</table>\n",
       "<p>891 rows × 8 columns</p>\n",
       "</div>"
      ],
      "text/plain": [
       "     Survived  Pclass     Sex        Age  SibSp  Parch     Fare Embarked\n",
       "0           0       3    male  22.000000      1      0   7.2500        S\n",
       "1           1       1  female  38.000000      1      0  71.2833        C\n",
       "2           1       3  female  26.000000      0      0   7.9250        S\n",
       "3           1       1  female  35.000000      1      0  53.1000        S\n",
       "4           0       3    male  35.000000      0      0   8.0500        S\n",
       "..        ...     ...     ...        ...    ...    ...      ...      ...\n",
       "886         0       2    male  27.000000      0      0  13.0000        S\n",
       "887         1       1  female  19.000000      0      0  30.0000        S\n",
       "888         0       3  female  29.699118      1      2  23.4500        S\n",
       "889         1       1    male  26.000000      0      0  30.0000        C\n",
       "890         0       3    male  32.000000      0      0   7.7500        Q\n",
       "\n",
       "[891 rows x 8 columns]"
      ]
     },
     "execution_count": 151,
     "metadata": {},
     "output_type": "execute_result"
    }
   ],
   "source": [
    "df"
   ]
  },
  {
   "cell_type": "code",
   "execution_count": 152,
   "id": "2b9bf05f",
   "metadata": {},
   "outputs": [],
   "source": [
    "le=LabelEncoder()\n",
    "list1=['Sex','Embarked']\n",
    "for val in list1:\n",
    "    df[val]=le.fit_transform(df[val].astype(str))"
   ]
  },
  {
   "cell_type": "code",
   "execution_count": 153,
   "id": "39536e62",
   "metadata": {},
   "outputs": [
    {
     "data": {
      "text/html": [
       "<div>\n",
       "<style scoped>\n",
       "    .dataframe tbody tr th:only-of-type {\n",
       "        vertical-align: middle;\n",
       "    }\n",
       "\n",
       "    .dataframe tbody tr th {\n",
       "        vertical-align: top;\n",
       "    }\n",
       "\n",
       "    .dataframe thead th {\n",
       "        text-align: right;\n",
       "    }\n",
       "</style>\n",
       "<table border=\"1\" class=\"dataframe\">\n",
       "  <thead>\n",
       "    <tr style=\"text-align: right;\">\n",
       "      <th></th>\n",
       "      <th>Survived</th>\n",
       "      <th>Pclass</th>\n",
       "      <th>Sex</th>\n",
       "      <th>Age</th>\n",
       "      <th>SibSp</th>\n",
       "      <th>Parch</th>\n",
       "      <th>Fare</th>\n",
       "      <th>Embarked</th>\n",
       "    </tr>\n",
       "  </thead>\n",
       "  <tbody>\n",
       "    <tr>\n",
       "      <th>0</th>\n",
       "      <td>0</td>\n",
       "      <td>3</td>\n",
       "      <td>1</td>\n",
       "      <td>22.000000</td>\n",
       "      <td>1</td>\n",
       "      <td>0</td>\n",
       "      <td>7.2500</td>\n",
       "      <td>2</td>\n",
       "    </tr>\n",
       "    <tr>\n",
       "      <th>1</th>\n",
       "      <td>1</td>\n",
       "      <td>1</td>\n",
       "      <td>0</td>\n",
       "      <td>38.000000</td>\n",
       "      <td>1</td>\n",
       "      <td>0</td>\n",
       "      <td>71.2833</td>\n",
       "      <td>0</td>\n",
       "    </tr>\n",
       "    <tr>\n",
       "      <th>2</th>\n",
       "      <td>1</td>\n",
       "      <td>3</td>\n",
       "      <td>0</td>\n",
       "      <td>26.000000</td>\n",
       "      <td>0</td>\n",
       "      <td>0</td>\n",
       "      <td>7.9250</td>\n",
       "      <td>2</td>\n",
       "    </tr>\n",
       "    <tr>\n",
       "      <th>3</th>\n",
       "      <td>1</td>\n",
       "      <td>1</td>\n",
       "      <td>0</td>\n",
       "      <td>35.000000</td>\n",
       "      <td>1</td>\n",
       "      <td>0</td>\n",
       "      <td>53.1000</td>\n",
       "      <td>2</td>\n",
       "    </tr>\n",
       "    <tr>\n",
       "      <th>4</th>\n",
       "      <td>0</td>\n",
       "      <td>3</td>\n",
       "      <td>1</td>\n",
       "      <td>35.000000</td>\n",
       "      <td>0</td>\n",
       "      <td>0</td>\n",
       "      <td>8.0500</td>\n",
       "      <td>2</td>\n",
       "    </tr>\n",
       "    <tr>\n",
       "      <th>...</th>\n",
       "      <td>...</td>\n",
       "      <td>...</td>\n",
       "      <td>...</td>\n",
       "      <td>...</td>\n",
       "      <td>...</td>\n",
       "      <td>...</td>\n",
       "      <td>...</td>\n",
       "      <td>...</td>\n",
       "    </tr>\n",
       "    <tr>\n",
       "      <th>886</th>\n",
       "      <td>0</td>\n",
       "      <td>2</td>\n",
       "      <td>1</td>\n",
       "      <td>27.000000</td>\n",
       "      <td>0</td>\n",
       "      <td>0</td>\n",
       "      <td>13.0000</td>\n",
       "      <td>2</td>\n",
       "    </tr>\n",
       "    <tr>\n",
       "      <th>887</th>\n",
       "      <td>1</td>\n",
       "      <td>1</td>\n",
       "      <td>0</td>\n",
       "      <td>19.000000</td>\n",
       "      <td>0</td>\n",
       "      <td>0</td>\n",
       "      <td>30.0000</td>\n",
       "      <td>2</td>\n",
       "    </tr>\n",
       "    <tr>\n",
       "      <th>888</th>\n",
       "      <td>0</td>\n",
       "      <td>3</td>\n",
       "      <td>0</td>\n",
       "      <td>29.699118</td>\n",
       "      <td>1</td>\n",
       "      <td>2</td>\n",
       "      <td>23.4500</td>\n",
       "      <td>2</td>\n",
       "    </tr>\n",
       "    <tr>\n",
       "      <th>889</th>\n",
       "      <td>1</td>\n",
       "      <td>1</td>\n",
       "      <td>1</td>\n",
       "      <td>26.000000</td>\n",
       "      <td>0</td>\n",
       "      <td>0</td>\n",
       "      <td>30.0000</td>\n",
       "      <td>0</td>\n",
       "    </tr>\n",
       "    <tr>\n",
       "      <th>890</th>\n",
       "      <td>0</td>\n",
       "      <td>3</td>\n",
       "      <td>1</td>\n",
       "      <td>32.000000</td>\n",
       "      <td>0</td>\n",
       "      <td>0</td>\n",
       "      <td>7.7500</td>\n",
       "      <td>1</td>\n",
       "    </tr>\n",
       "  </tbody>\n",
       "</table>\n",
       "<p>891 rows × 8 columns</p>\n",
       "</div>"
      ],
      "text/plain": [
       "     Survived  Pclass  Sex        Age  SibSp  Parch     Fare  Embarked\n",
       "0           0       3    1  22.000000      1      0   7.2500         2\n",
       "1           1       1    0  38.000000      1      0  71.2833         0\n",
       "2           1       3    0  26.000000      0      0   7.9250         2\n",
       "3           1       1    0  35.000000      1      0  53.1000         2\n",
       "4           0       3    1  35.000000      0      0   8.0500         2\n",
       "..        ...     ...  ...        ...    ...    ...      ...       ...\n",
       "886         0       2    1  27.000000      0      0  13.0000         2\n",
       "887         1       1    0  19.000000      0      0  30.0000         2\n",
       "888         0       3    0  29.699118      1      2  23.4500         2\n",
       "889         1       1    1  26.000000      0      0  30.0000         0\n",
       "890         0       3    1  32.000000      0      0   7.7500         1\n",
       "\n",
       "[891 rows x 8 columns]"
      ]
     },
     "execution_count": 153,
     "metadata": {},
     "output_type": "execute_result"
    }
   ],
   "source": [
    "df"
   ]
  },
  {
   "cell_type": "code",
   "execution_count": 154,
   "id": "aa3da470",
   "metadata": {},
   "outputs": [
    {
     "data": {
      "image/png": "[encoded data removed]",
      "text/plain": [
       "<Figure size 432x288 with 1 Axes>"
      ]
     },
     "metadata": {
      "needs_background": "light"
     },
     "output_type": "display_data"
    }
   ],
   "source": [
    "df['Sex'].hist(grid=False)\n",
    "plt.title('Female Vs Male')\n",
    "plt.show()"
   ]
  },
  {
   "cell_type": "code",
   "execution_count": 155,
   "id": "4b946b65",
   "metadata": {},
   "outputs": [
    {
     "data": {
      "text/plain": [
       "<AxesSubplot:xlabel='Sex', ylabel='count'>"
      ]
     },
     "execution_count": 155,
     "metadata": {},
     "output_type": "execute_result"
    },
    {
     "data": {
      "image/png": "[encoded data removed]",
      "text/plain": [
       "<Figure size 432x288 with 1 Axes>"
      ]
     },
     "metadata": {
      "needs_background": "light"
     },
     "output_type": "display_data"
    }
   ],
   "source": [
    "sns.countplot(df['Sex'])"
   ]
  },
  {
   "cell_type": "code",
   "execution_count": 156,
   "id": "771b3ad8",
   "metadata": {},
   "outputs": [
    {
     "data": {
      "text/plain": [
       "<AxesSubplot:xlabel='Survived', ylabel='count'>"
      ]
     },
     "execution_count": 156,
     "metadata": {},
     "output_type": "execute_result"
    },
    {
     "data": {
      "image/png": "[encoded data removed]",
      "text/plain": [
       "<Figure size 432x288 with 1 Axes>"
      ]
     },
     "metadata": {
      "needs_background": "light"
     },
     "output_type": "display_data"
    }
   ],
   "source": [
    "sns.countplot(df['Survived'])"
   ]
  },
  {
   "cell_type": "code",
   "execution_count": 157,
   "id": "080ca456",
   "metadata": {},
   "outputs": [
    {
     "data": {
      "text/plain": [
       "<AxesSubplot:>"
      ]
     },
     "execution_count": 157,
     "metadata": {},
     "output_type": "execute_result"
    },
    {
     "data": {
      "image/png": "[encoded data removed]",
      "text/plain": [
       "<Figure size 432x288 with 2 Axes>"
      ]
     },
     "metadata": {
      "needs_background": "light"
     },
     "output_type": "display_data"
    }
   ],
   "source": [
    "# Calculate correlations\n",
    "corr = df.corr()\n",
    " \n",
    "# Heatmap\n",
    "sns.heatmap(corr,  annot=True, fmt=\".2f\")"
   ]
  },
  {
   "cell_type": "code",
   "execution_count": 158,
   "id": "4c793f55",
   "metadata": {},
   "outputs": [
    {
     "data": {
      "text/html": [
       "<div>\n",
       "<style scoped>\n",
       "    .dataframe tbody tr th:only-of-type {\n",
       "        vertical-align: middle;\n",
       "    }\n",
       "\n",
       "    .dataframe tbody tr th {\n",
       "        vertical-align: top;\n",
       "    }\n",
       "\n",
       "    .dataframe thead th {\n",
       "        text-align: right;\n",
       "    }\n",
       "</style>\n",
       "<table border=\"1\" class=\"dataframe\">\n",
       "  <thead>\n",
       "    <tr style=\"text-align: right;\">\n",
       "      <th></th>\n",
       "      <th>Pclass</th>\n",
       "      <th>Sex</th>\n",
       "      <th>Age</th>\n",
       "      <th>SibSp</th>\n",
       "      <th>Parch</th>\n",
       "      <th>Fare</th>\n",
       "      <th>Embarked</th>\n",
       "    </tr>\n",
       "  </thead>\n",
       "  <tbody>\n",
       "    <tr>\n",
       "      <th>0</th>\n",
       "      <td>3</td>\n",
       "      <td>1</td>\n",
       "      <td>22.000000</td>\n",
       "      <td>1</td>\n",
       "      <td>0</td>\n",
       "      <td>7.2500</td>\n",
       "      <td>2</td>\n",
       "    </tr>\n",
       "    <tr>\n",
       "      <th>1</th>\n",
       "      <td>1</td>\n",
       "      <td>0</td>\n",
       "      <td>38.000000</td>\n",
       "      <td>1</td>\n",
       "      <td>0</td>\n",
       "      <td>71.2833</td>\n",
       "      <td>0</td>\n",
       "    </tr>\n",
       "    <tr>\n",
       "      <th>2</th>\n",
       "      <td>3</td>\n",
       "      <td>0</td>\n",
       "      <td>26.000000</td>\n",
       "      <td>0</td>\n",
       "      <td>0</td>\n",
       "      <td>7.9250</td>\n",
       "      <td>2</td>\n",
       "    </tr>\n",
       "    <tr>\n",
       "      <th>3</th>\n",
       "      <td>1</td>\n",
       "      <td>0</td>\n",
       "      <td>35.000000</td>\n",
       "      <td>1</td>\n",
       "      <td>0</td>\n",
       "      <td>53.1000</td>\n",
       "      <td>2</td>\n",
       "    </tr>\n",
       "    <tr>\n",
       "      <th>4</th>\n",
       "      <td>3</td>\n",
       "      <td>1</td>\n",
       "      <td>35.000000</td>\n",
       "      <td>0</td>\n",
       "      <td>0</td>\n",
       "      <td>8.0500</td>\n",
       "      <td>2</td>\n",
       "    </tr>\n",
       "    <tr>\n",
       "      <th>...</th>\n",
       "      <td>...</td>\n",
       "      <td>...</td>\n",
       "      <td>...</td>\n",
       "      <td>...</td>\n",
       "      <td>...</td>\n",
       "      <td>...</td>\n",
       "      <td>...</td>\n",
       "    </tr>\n",
       "    <tr>\n",
       "      <th>886</th>\n",
       "      <td>2</td>\n",
       "      <td>1</td>\n",
       "      <td>27.000000</td>\n",
       "      <td>0</td>\n",
       "      <td>0</td>\n",
       "      <td>13.0000</td>\n",
       "      <td>2</td>\n",
       "    </tr>\n",
       "    <tr>\n",
       "      <th>887</th>\n",
       "      <td>1</td>\n",
       "      <td>0</td>\n",
       "      <td>19.000000</td>\n",
       "      <td>0</td>\n",
       "      <td>0</td>\n",
       "      <td>30.0000</td>\n",
       "      <td>2</td>\n",
       "    </tr>\n",
       "    <tr>\n",
       "      <th>888</th>\n",
       "      <td>3</td>\n",
       "      <td>0</td>\n",
       "      <td>29.699118</td>\n",
       "      <td>1</td>\n",
       "      <td>2</td>\n",
       "      <td>23.4500</td>\n",
       "      <td>2</td>\n",
       "    </tr>\n",
       "    <tr>\n",
       "      <th>889</th>\n",
       "      <td>1</td>\n",
       "      <td>1</td>\n",
       "      <td>26.000000</td>\n",
       "      <td>0</td>\n",
       "      <td>0</td>\n",
       "      <td>30.0000</td>\n",
       "      <td>0</td>\n",
       "    </tr>\n",
       "    <tr>\n",
       "      <th>890</th>\n",
       "      <td>3</td>\n",
       "      <td>1</td>\n",
       "      <td>32.000000</td>\n",
       "      <td>0</td>\n",
       "      <td>0</td>\n",
       "      <td>7.7500</td>\n",
       "      <td>1</td>\n",
       "    </tr>\n",
       "  </tbody>\n",
       "</table>\n",
       "<p>891 rows × 7 columns</p>\n",
       "</div>"
      ],
      "text/plain": [
       "     Pclass  Sex        Age  SibSp  Parch     Fare  Embarked\n",
       "0         3    1  22.000000      1      0   7.2500         2\n",
       "1         1    0  38.000000      1      0  71.2833         0\n",
       "2         3    0  26.000000      0      0   7.9250         2\n",
       "3         1    0  35.000000      1      0  53.1000         2\n",
       "4         3    1  35.000000      0      0   8.0500         2\n",
       "..      ...  ...        ...    ...    ...      ...       ...\n",
       "886       2    1  27.000000      0      0  13.0000         2\n",
       "887       1    0  19.000000      0      0  30.0000         2\n",
       "888       3    0  29.699118      1      2  23.4500         2\n",
       "889       1    1  26.000000      0      0  30.0000         0\n",
       "890       3    1  32.000000      0      0   7.7500         1\n",
       "\n",
       "[891 rows x 7 columns]"
      ]
     },
     "execution_count": 158,
     "metadata": {},
     "output_type": "execute_result"
    }
   ],
   "source": [
    "x=df.drop([\"Survived\"],axis=1)\n",
    "x"
   ]
  },
  {
   "cell_type": "code",
   "execution_count": 159,
   "id": "73d42c90",
   "metadata": {},
   "outputs": [
    {
     "data": {
      "text/plain": [
       "(891, 7)"
      ]
     },
     "execution_count": 159,
     "metadata": {},
     "output_type": "execute_result"
    }
   ],
   "source": [
    "x.shape"
   ]
  },
  {
   "cell_type": "code",
   "execution_count": 160,
   "id": "4d7c08cf",
   "metadata": {},
   "outputs": [
    {
     "data": {
      "text/plain": [
       "0      0\n",
       "1      1\n",
       "2      1\n",
       "3      1\n",
       "4      0\n",
       "      ..\n",
       "886    0\n",
       "887    1\n",
       "888    0\n",
       "889    1\n",
       "890    0\n",
       "Name: Survived, Length: 891, dtype: int64"
      ]
     },
     "execution_count": 160,
     "metadata": {},
     "output_type": "execute_result"
    }
   ],
   "source": [
    "y=df['Survived']\n",
    "y"
   ]
  },
  {
   "cell_type": "code",
   "execution_count": 161,
   "id": "75795515",
   "metadata": {},
   "outputs": [
    {
     "data": {
      "text/plain": [
       "(891,)"
      ]
     },
     "execution_count": 161,
     "metadata": {},
     "output_type": "execute_result"
    }
   ],
   "source": [
    "y.shape"
   ]
  },
  {
   "cell_type": "code",
   "execution_count": 162,
   "id": "b265015e",
   "metadata": {},
   "outputs": [
    {
     "data": {
      "text/plain": [
       "0    549\n",
       "1    342\n",
       "Name: Survived, dtype: int64"
      ]
     },
     "execution_count": 162,
     "metadata": {},
     "output_type": "execute_result"
    }
   ],
   "source": [
    "df['Survived'].value_counts()"
   ]
  },
  {
   "cell_type": "code",
   "execution_count": 163,
   "id": "17ca5003",
   "metadata": {},
   "outputs": [],
   "source": [
    "from collections import Counter\n",
    "# transform the dataset\n",
    "sm = SMOTE()\n",
    "x,y= sm.fit_resample(x, y)"
   ]
  },
  {
   "cell_type": "code",
   "execution_count": 164,
   "id": "a275714e",
   "metadata": {},
   "outputs": [
    {
     "name": "stdout",
     "output_type": "stream",
     "text": [
      "Resampled dataset shape Counter({0: 549, 1: 549})\n"
     ]
    }
   ],
   "source": [
    "print('Resampled dataset shape %s' % Counter(y))"
   ]
  },
  {
   "cell_type": "code",
   "execution_count": 165,
   "id": "82e5d9cb",
   "metadata": {},
   "outputs": [
    {
     "data": {
      "text/plain": [
       "(1098, 7)"
      ]
     },
     "execution_count": 165,
     "metadata": {},
     "output_type": "execute_result"
    }
   ],
   "source": [
    "x.shape"
   ]
  },
  {
   "cell_type": "code",
   "execution_count": 166,
   "id": "28fd1933",
   "metadata": {},
   "outputs": [
    {
     "data": {
      "text/plain": [
       "(1098,)"
      ]
     },
     "execution_count": 166,
     "metadata": {},
     "output_type": "execute_result"
    }
   ],
   "source": [
    "y.shape"
   ]
  },
  {
   "cell_type": "code",
   "execution_count": 167,
   "id": "b3e0e252",
   "metadata": {},
   "outputs": [
    {
     "data": {
      "text/plain": [
       "Pclass     -0.530692\n",
       "Sex        -0.253722\n",
       "Age        -0.903140\n",
       "SibSp       1.462803\n",
       "Parch       1.556126\n",
       "Fare        1.866867\n",
       "Embarked   -1.338392\n",
       "dtype: float64"
      ]
     },
     "execution_count": 167,
     "metadata": {},
     "output_type": "execute_result"
    }
   ],
   "source": [
    "x=np.sqrt(x)\n",
    "x.skew()"
   ]
  },
  {
   "cell_type": "code",
   "execution_count": 168,
   "id": "fdca1747",
   "metadata": {},
   "outputs": [],
   "source": [
    "PowerTransformer()\n",
    "x_new=power_transform(x)"
   ]
  },
  {
   "cell_type": "code",
   "execution_count": 169,
   "id": "943834fb",
   "metadata": {},
   "outputs": [
    {
     "data": {
      "text/plain": [
       "array([[ 0.94377612,  0.8813053 , -0.53450562, ..., -0.55276273,\n",
       "        -0.88960061,  0.64494893],\n",
       "       [-1.37599648, -1.13468057,  0.65448353, ..., -0.55276273,\n",
       "         1.199273  , -1.80669619],\n",
       "       [ 0.94377612, -1.13468057, -0.2296169 , ..., -0.55276273,\n",
       "        -0.81660742,  0.64494893],\n",
       "       ...,\n",
       "       [ 0.94377612, -1.13468057,  0.04721079, ..., -0.55276273,\n",
       "        -0.82607142, -0.74727582],\n",
       "       [-1.37599648, -1.13468057,  0.94107244, ..., -0.55276273,\n",
       "         2.3143798 , -0.74727582],\n",
       "       [ 0.94377612, -1.13468057, -1.86963979, ...,  1.78967245,\n",
       "        -0.42949768, -0.74727582]])"
      ]
     },
     "execution_count": 169,
     "metadata": {},
     "output_type": "execute_result"
    }
   ],
   "source": [
    "x_new"
   ]
  },
  {
   "cell_type": "code",
   "execution_count": 170,
   "id": "b99bc463",
   "metadata": {},
   "outputs": [
    {
     "data": {
      "text/plain": [
       "numpy.ndarray"
      ]
     },
     "execution_count": 170,
     "metadata": {},
     "output_type": "execute_result"
    }
   ],
   "source": [
    "type(x_new)"
   ]
  },
  {
   "cell_type": "code",
   "execution_count": 171,
   "id": "c0086015",
   "metadata": {},
   "outputs": [
    {
     "data": {
      "text/plain": [
       "Index(['Pclass', 'Sex', 'Age', 'SibSp', 'Parch', 'Fare', 'Embarked'], dtype='object')"
      ]
     },
     "execution_count": 171,
     "metadata": {},
     "output_type": "execute_result"
    }
   ],
   "source": [
    "x.columns"
   ]
  },
  {
   "cell_type": "code",
   "execution_count": 172,
   "id": "6bb1756d",
   "metadata": {},
   "outputs": [
    {
     "data": {
      "text/html": [
       "<div>\n",
       "<style scoped>\n",
       "    .dataframe tbody tr th:only-of-type {\n",
       "        vertical-align: middle;\n",
       "    }\n",
       "\n",
       "    .dataframe tbody tr th {\n",
       "        vertical-align: top;\n",
       "    }\n",
       "\n",
       "    .dataframe thead th {\n",
       "        text-align: right;\n",
       "    }\n",
       "</style>\n",
       "<table border=\"1\" class=\"dataframe\">\n",
       "  <thead>\n",
       "    <tr style=\"text-align: right;\">\n",
       "      <th></th>\n",
       "      <th>Pclass</th>\n",
       "      <th>Sex</th>\n",
       "      <th>Age</th>\n",
       "      <th>SibSp</th>\n",
       "      <th>Parch</th>\n",
       "      <th>Fare</th>\n",
       "      <th>Embarked</th>\n",
       "    </tr>\n",
       "  </thead>\n",
       "  <tbody>\n",
       "    <tr>\n",
       "      <th>0</th>\n",
       "      <td>0.943776</td>\n",
       "      <td>0.881305</td>\n",
       "      <td>-0.534506</td>\n",
       "      <td>1.469449</td>\n",
       "      <td>-0.552763</td>\n",
       "      <td>-0.889601</td>\n",
       "      <td>0.644949</td>\n",
       "    </tr>\n",
       "    <tr>\n",
       "      <th>1</th>\n",
       "      <td>-1.375996</td>\n",
       "      <td>-1.134681</td>\n",
       "      <td>0.654484</td>\n",
       "      <td>1.469449</td>\n",
       "      <td>-0.552763</td>\n",
       "      <td>1.199273</td>\n",
       "      <td>-1.806696</td>\n",
       "    </tr>\n",
       "    <tr>\n",
       "      <th>2</th>\n",
       "      <td>0.943776</td>\n",
       "      <td>-1.134681</td>\n",
       "      <td>-0.229617</td>\n",
       "      <td>-0.663597</td>\n",
       "      <td>-0.552763</td>\n",
       "      <td>-0.816607</td>\n",
       "      <td>0.644949</td>\n",
       "    </tr>\n",
       "    <tr>\n",
       "      <th>3</th>\n",
       "      <td>-1.375996</td>\n",
       "      <td>-1.134681</td>\n",
       "      <td>0.436962</td>\n",
       "      <td>1.469449</td>\n",
       "      <td>-0.552763</td>\n",
       "      <td>0.910026</td>\n",
       "      <td>0.644949</td>\n",
       "    </tr>\n",
       "    <tr>\n",
       "      <th>4</th>\n",
       "      <td>0.943776</td>\n",
       "      <td>0.881305</td>\n",
       "      <td>0.436962</td>\n",
       "      <td>-0.663597</td>\n",
       "      <td>-0.552763</td>\n",
       "      <td>-0.803689</td>\n",
       "      <td>0.644949</td>\n",
       "    </tr>\n",
       "    <tr>\n",
       "      <th>...</th>\n",
       "      <td>...</td>\n",
       "      <td>...</td>\n",
       "      <td>...</td>\n",
       "      <td>...</td>\n",
       "      <td>...</td>\n",
       "      <td>...</td>\n",
       "      <td>...</td>\n",
       "    </tr>\n",
       "    <tr>\n",
       "      <th>1093</th>\n",
       "      <td>-0.349570</td>\n",
       "      <td>-1.134681</td>\n",
       "      <td>-1.030004</td>\n",
       "      <td>-0.663597</td>\n",
       "      <td>-0.552763</td>\n",
       "      <td>-0.357238</td>\n",
       "      <td>-1.806696</td>\n",
       "    </tr>\n",
       "    <tr>\n",
       "      <th>1094</th>\n",
       "      <td>0.943776</td>\n",
       "      <td>0.881305</td>\n",
       "      <td>0.217302</td>\n",
       "      <td>-0.663597</td>\n",
       "      <td>-0.552763</td>\n",
       "      <td>0.970542</td>\n",
       "      <td>0.644949</td>\n",
       "    </tr>\n",
       "    <tr>\n",
       "      <th>1095</th>\n",
       "      <td>0.943776</td>\n",
       "      <td>-1.134681</td>\n",
       "      <td>0.047211</td>\n",
       "      <td>-0.663597</td>\n",
       "      <td>-0.552763</td>\n",
       "      <td>-0.826071</td>\n",
       "      <td>-0.747276</td>\n",
       "    </tr>\n",
       "    <tr>\n",
       "      <th>1096</th>\n",
       "      <td>-1.375996</td>\n",
       "      <td>-1.134681</td>\n",
       "      <td>0.941072</td>\n",
       "      <td>-0.663597</td>\n",
       "      <td>-0.552763</td>\n",
       "      <td>2.314380</td>\n",
       "      <td>-0.747276</td>\n",
       "    </tr>\n",
       "    <tr>\n",
       "      <th>1097</th>\n",
       "      <td>0.943776</td>\n",
       "      <td>-1.134681</td>\n",
       "      <td>-1.869640</td>\n",
       "      <td>-0.663597</td>\n",
       "      <td>1.789672</td>\n",
       "      <td>-0.429498</td>\n",
       "      <td>-0.747276</td>\n",
       "    </tr>\n",
       "  </tbody>\n",
       "</table>\n",
       "<p>1098 rows × 7 columns</p>\n",
       "</div>"
      ],
      "text/plain": [
       "        Pclass       Sex       Age     SibSp     Parch      Fare  Embarked\n",
       "0     0.943776  0.881305 -0.534506  1.469449 -0.552763 -0.889601  0.644949\n",
       "1    -1.375996 -1.134681  0.654484  1.469449 -0.552763  1.199273 -1.806696\n",
       "2     0.943776 -1.134681 -0.229617 -0.663597 -0.552763 -0.816607  0.644949\n",
       "3    -1.375996 -1.134681  0.436962  1.469449 -0.552763  0.910026  0.644949\n",
       "4     0.943776  0.881305  0.436962 -0.663597 -0.552763 -0.803689  0.644949\n",
       "...        ...       ...       ...       ...       ...       ...       ...\n",
       "1093 -0.349570 -1.134681 -1.030004 -0.663597 -0.552763 -0.357238 -1.806696\n",
       "1094  0.943776  0.881305  0.217302 -0.663597 -0.552763  0.970542  0.644949\n",
       "1095  0.943776 -1.134681  0.047211 -0.663597 -0.552763 -0.826071 -0.747276\n",
       "1096 -1.375996 -1.134681  0.941072 -0.663597 -0.552763  2.314380 -0.747276\n",
       "1097  0.943776 -1.134681 -1.869640 -0.663597  1.789672 -0.429498 -0.747276\n",
       "\n",
       "[1098 rows x 7 columns]"
      ]
     },
     "execution_count": 172,
     "metadata": {},
     "output_type": "execute_result"
    }
   ],
   "source": [
    "x=pd.DataFrame(x_new,columns=x.columns)\n",
    "x"
   ]
  },
  {
   "cell_type": "code",
   "execution_count": 173,
   "id": "cbfe602d",
   "metadata": {},
   "outputs": [
    {
     "data": {
      "text/plain": [
       "Parch       1.258377\n",
       "SibSp       0.847502\n",
       "Age         0.041944\n",
       "Fare       -0.003317\n",
       "Sex        -0.253722\n",
       "Pclass     -0.328276\n",
       "Embarked   -1.039698\n",
       "dtype: float64"
      ]
     },
     "execution_count": 173,
     "metadata": {},
     "output_type": "execute_result"
    }
   ],
   "source": [
    "x.skew().sort_values(ascending=False)"
   ]
  },
  {
   "cell_type": "code",
   "execution_count": 174,
   "id": "fc67bd6f",
   "metadata": {},
   "outputs": [
    {
     "data": {
      "text/plain": [
       "Pclass      False\n",
       "Sex         False\n",
       "Age          True\n",
       "SibSp       False\n",
       "Parch       False\n",
       "Fare         True\n",
       "Embarked    False\n",
       "dtype: bool"
      ]
     },
     "execution_count": 174,
     "metadata": {},
     "output_type": "execute_result"
    }
   ],
   "source": [
    "round(np.abs(x.skew()),2)<=.22"
   ]
  },
  {
   "cell_type": "code",
   "execution_count": null,
   "id": "59cbd3a2",
   "metadata": {},
   "outputs": [],
   "source": []
  },
  {
   "cell_type": "code",
   "execution_count": 175,
   "id": "72df3daf",
   "metadata": {},
   "outputs": [
    {
     "data": {
      "image/png": "[encoded data removed]",
      "text/plain": [
       "<Figure size 1080x432 with 1 Axes>"
      ]
     },
     "metadata": {
      "needs_background": "light"
     },
     "output_type": "display_data"
    }
   ],
   "source": [
    "x.iloc[:,:].boxplot(figsize=[15,6])\n",
    "plt.subplots_adjust(bottom=0.25)\n",
    "plt.show()"
   ]
  },
  {
   "cell_type": "code",
   "execution_count": 176,
   "id": "654ccb0e",
   "metadata": {},
   "outputs": [
    {
     "name": "stdout",
     "output_type": "stream",
     "text": [
      "(array([179, 258, 263, 271, 277, 302, 413, 466, 481, 597, 630, 633, 674,\n",
      "       679, 732, 737, 806, 815, 822, 851], dtype=int64), array([5, 5, 5, 5, 5, 5, 5, 5, 5, 5, 2, 5, 5, 5, 5, 5, 5, 5, 5, 2],\n",
      "      dtype=int64))\n"
     ]
    }
   ],
   "source": [
    "from scipy.stats import zscore\n",
    "dfscore=np.abs(zscore(x))\n",
    "\n",
    "print(np.where(dfscore>3))\n"
   ]
  },
  {
   "cell_type": "code",
   "execution_count": 177,
   "id": "2b40667e",
   "metadata": {},
   "outputs": [
    {
     "name": "stdout",
     "output_type": "stream",
     "text": [
      "dfnew.shape= (871, 8)\n"
     ]
    }
   ],
   "source": [
    "dfnew=df[(dfscore<3).all(axis=1)]\n",
    "print('dfnew.shape=',dfnew.shape)\n",
    "df=dfnew"
   ]
  },
  {
   "cell_type": "code",
   "execution_count": 178,
   "id": "d8c1f41a",
   "metadata": {},
   "outputs": [
    {
     "data": {
      "text/html": [
       "<div>\n",
       "<style scoped>\n",
       "    .dataframe tbody tr th:only-of-type {\n",
       "        vertical-align: middle;\n",
       "    }\n",
       "\n",
       "    .dataframe tbody tr th {\n",
       "        vertical-align: top;\n",
       "    }\n",
       "\n",
       "    .dataframe thead th {\n",
       "        text-align: right;\n",
       "    }\n",
       "</style>\n",
       "<table border=\"1\" class=\"dataframe\">\n",
       "  <thead>\n",
       "    <tr style=\"text-align: right;\">\n",
       "      <th></th>\n",
       "      <th>Survived</th>\n",
       "      <th>Pclass</th>\n",
       "      <th>Sex</th>\n",
       "      <th>Age</th>\n",
       "      <th>SibSp</th>\n",
       "      <th>Parch</th>\n",
       "      <th>Fare</th>\n",
       "      <th>Embarked</th>\n",
       "    </tr>\n",
       "  </thead>\n",
       "  <tbody>\n",
       "    <tr>\n",
       "      <th>0</th>\n",
       "      <td>0</td>\n",
       "      <td>3</td>\n",
       "      <td>1</td>\n",
       "      <td>22.000000</td>\n",
       "      <td>1</td>\n",
       "      <td>0</td>\n",
       "      <td>7.2500</td>\n",
       "      <td>2</td>\n",
       "    </tr>\n",
       "    <tr>\n",
       "      <th>1</th>\n",
       "      <td>1</td>\n",
       "      <td>1</td>\n",
       "      <td>0</td>\n",
       "      <td>38.000000</td>\n",
       "      <td>1</td>\n",
       "      <td>0</td>\n",
       "      <td>71.2833</td>\n",
       "      <td>0</td>\n",
       "    </tr>\n",
       "    <tr>\n",
       "      <th>2</th>\n",
       "      <td>1</td>\n",
       "      <td>3</td>\n",
       "      <td>0</td>\n",
       "      <td>26.000000</td>\n",
       "      <td>0</td>\n",
       "      <td>0</td>\n",
       "      <td>7.9250</td>\n",
       "      <td>2</td>\n",
       "    </tr>\n",
       "    <tr>\n",
       "      <th>3</th>\n",
       "      <td>1</td>\n",
       "      <td>1</td>\n",
       "      <td>0</td>\n",
       "      <td>35.000000</td>\n",
       "      <td>1</td>\n",
       "      <td>0</td>\n",
       "      <td>53.1000</td>\n",
       "      <td>2</td>\n",
       "    </tr>\n",
       "    <tr>\n",
       "      <th>4</th>\n",
       "      <td>0</td>\n",
       "      <td>3</td>\n",
       "      <td>1</td>\n",
       "      <td>35.000000</td>\n",
       "      <td>0</td>\n",
       "      <td>0</td>\n",
       "      <td>8.0500</td>\n",
       "      <td>2</td>\n",
       "    </tr>\n",
       "    <tr>\n",
       "      <th>...</th>\n",
       "      <td>...</td>\n",
       "      <td>...</td>\n",
       "      <td>...</td>\n",
       "      <td>...</td>\n",
       "      <td>...</td>\n",
       "      <td>...</td>\n",
       "      <td>...</td>\n",
       "      <td>...</td>\n",
       "    </tr>\n",
       "    <tr>\n",
       "      <th>886</th>\n",
       "      <td>0</td>\n",
       "      <td>2</td>\n",
       "      <td>1</td>\n",
       "      <td>27.000000</td>\n",
       "      <td>0</td>\n",
       "      <td>0</td>\n",
       "      <td>13.0000</td>\n",
       "      <td>2</td>\n",
       "    </tr>\n",
       "    <tr>\n",
       "      <th>887</th>\n",
       "      <td>1</td>\n",
       "      <td>1</td>\n",
       "      <td>0</td>\n",
       "      <td>19.000000</td>\n",
       "      <td>0</td>\n",
       "      <td>0</td>\n",
       "      <td>30.0000</td>\n",
       "      <td>2</td>\n",
       "    </tr>\n",
       "    <tr>\n",
       "      <th>888</th>\n",
       "      <td>0</td>\n",
       "      <td>3</td>\n",
       "      <td>0</td>\n",
       "      <td>29.699118</td>\n",
       "      <td>1</td>\n",
       "      <td>2</td>\n",
       "      <td>23.4500</td>\n",
       "      <td>2</td>\n",
       "    </tr>\n",
       "    <tr>\n",
       "      <th>889</th>\n",
       "      <td>1</td>\n",
       "      <td>1</td>\n",
       "      <td>1</td>\n",
       "      <td>26.000000</td>\n",
       "      <td>0</td>\n",
       "      <td>0</td>\n",
       "      <td>30.0000</td>\n",
       "      <td>0</td>\n",
       "    </tr>\n",
       "    <tr>\n",
       "      <th>890</th>\n",
       "      <td>0</td>\n",
       "      <td>3</td>\n",
       "      <td>1</td>\n",
       "      <td>32.000000</td>\n",
       "      <td>0</td>\n",
       "      <td>0</td>\n",
       "      <td>7.7500</td>\n",
       "      <td>1</td>\n",
       "    </tr>\n",
       "  </tbody>\n",
       "</table>\n",
       "<p>871 rows × 8 columns</p>\n",
       "</div>"
      ],
      "text/plain": [
       "     Survived  Pclass  Sex        Age  SibSp  Parch     Fare  Embarked\n",
       "0           0       3    1  22.000000      1      0   7.2500         2\n",
       "1           1       1    0  38.000000      1      0  71.2833         0\n",
       "2           1       3    0  26.000000      0      0   7.9250         2\n",
       "3           1       1    0  35.000000      1      0  53.1000         2\n",
       "4           0       3    1  35.000000      0      0   8.0500         2\n",
       "..        ...     ...  ...        ...    ...    ...      ...       ...\n",
       "886         0       2    1  27.000000      0      0  13.0000         2\n",
       "887         1       1    0  19.000000      0      0  30.0000         2\n",
       "888         0       3    0  29.699118      1      2  23.4500         2\n",
       "889         1       1    1  26.000000      0      0  30.0000         0\n",
       "890         0       3    1  32.000000      0      0   7.7500         1\n",
       "\n",
       "[871 rows x 8 columns]"
      ]
     },
     "execution_count": 178,
     "metadata": {},
     "output_type": "execute_result"
    }
   ],
   "source": [
    "df"
   ]
  },
  {
   "cell_type": "code",
   "execution_count": 179,
   "id": "b7910e67",
   "metadata": {},
   "outputs": [
    {
     "data": {
      "text/html": [
       "<div>\n",
       "<style scoped>\n",
       "    .dataframe tbody tr th:only-of-type {\n",
       "        vertical-align: middle;\n",
       "    }\n",
       "\n",
       "    .dataframe tbody tr th {\n",
       "        vertical-align: top;\n",
       "    }\n",
       "\n",
       "    .dataframe thead th {\n",
       "        text-align: right;\n",
       "    }\n",
       "</style>\n",
       "<table border=\"1\" class=\"dataframe\">\n",
       "  <thead>\n",
       "    <tr style=\"text-align: right;\">\n",
       "      <th></th>\n",
       "      <th>Pclass</th>\n",
       "      <th>Sex</th>\n",
       "      <th>Age</th>\n",
       "      <th>SibSp</th>\n",
       "      <th>Parch</th>\n",
       "      <th>Fare</th>\n",
       "      <th>Embarked</th>\n",
       "    </tr>\n",
       "  </thead>\n",
       "  <tbody>\n",
       "    <tr>\n",
       "      <th>0</th>\n",
       "      <td>3</td>\n",
       "      <td>1</td>\n",
       "      <td>22.000000</td>\n",
       "      <td>1</td>\n",
       "      <td>0</td>\n",
       "      <td>7.2500</td>\n",
       "      <td>2</td>\n",
       "    </tr>\n",
       "    <tr>\n",
       "      <th>1</th>\n",
       "      <td>1</td>\n",
       "      <td>0</td>\n",
       "      <td>38.000000</td>\n",
       "      <td>1</td>\n",
       "      <td>0</td>\n",
       "      <td>71.2833</td>\n",
       "      <td>0</td>\n",
       "    </tr>\n",
       "    <tr>\n",
       "      <th>2</th>\n",
       "      <td>3</td>\n",
       "      <td>0</td>\n",
       "      <td>26.000000</td>\n",
       "      <td>0</td>\n",
       "      <td>0</td>\n",
       "      <td>7.9250</td>\n",
       "      <td>2</td>\n",
       "    </tr>\n",
       "    <tr>\n",
       "      <th>3</th>\n",
       "      <td>1</td>\n",
       "      <td>0</td>\n",
       "      <td>35.000000</td>\n",
       "      <td>1</td>\n",
       "      <td>0</td>\n",
       "      <td>53.1000</td>\n",
       "      <td>2</td>\n",
       "    </tr>\n",
       "    <tr>\n",
       "      <th>4</th>\n",
       "      <td>3</td>\n",
       "      <td>1</td>\n",
       "      <td>35.000000</td>\n",
       "      <td>0</td>\n",
       "      <td>0</td>\n",
       "      <td>8.0500</td>\n",
       "      <td>2</td>\n",
       "    </tr>\n",
       "    <tr>\n",
       "      <th>...</th>\n",
       "      <td>...</td>\n",
       "      <td>...</td>\n",
       "      <td>...</td>\n",
       "      <td>...</td>\n",
       "      <td>...</td>\n",
       "      <td>...</td>\n",
       "      <td>...</td>\n",
       "    </tr>\n",
       "    <tr>\n",
       "      <th>886</th>\n",
       "      <td>2</td>\n",
       "      <td>1</td>\n",
       "      <td>27.000000</td>\n",
       "      <td>0</td>\n",
       "      <td>0</td>\n",
       "      <td>13.0000</td>\n",
       "      <td>2</td>\n",
       "    </tr>\n",
       "    <tr>\n",
       "      <th>887</th>\n",
       "      <td>1</td>\n",
       "      <td>0</td>\n",
       "      <td>19.000000</td>\n",
       "      <td>0</td>\n",
       "      <td>0</td>\n",
       "      <td>30.0000</td>\n",
       "      <td>2</td>\n",
       "    </tr>\n",
       "    <tr>\n",
       "      <th>888</th>\n",
       "      <td>3</td>\n",
       "      <td>0</td>\n",
       "      <td>29.699118</td>\n",
       "      <td>1</td>\n",
       "      <td>2</td>\n",
       "      <td>23.4500</td>\n",
       "      <td>2</td>\n",
       "    </tr>\n",
       "    <tr>\n",
       "      <th>889</th>\n",
       "      <td>1</td>\n",
       "      <td>1</td>\n",
       "      <td>26.000000</td>\n",
       "      <td>0</td>\n",
       "      <td>0</td>\n",
       "      <td>30.0000</td>\n",
       "      <td>0</td>\n",
       "    </tr>\n",
       "    <tr>\n",
       "      <th>890</th>\n",
       "      <td>3</td>\n",
       "      <td>1</td>\n",
       "      <td>32.000000</td>\n",
       "      <td>0</td>\n",
       "      <td>0</td>\n",
       "      <td>7.7500</td>\n",
       "      <td>1</td>\n",
       "    </tr>\n",
       "  </tbody>\n",
       "</table>\n",
       "<p>871 rows × 7 columns</p>\n",
       "</div>"
      ],
      "text/plain": [
       "     Pclass  Sex        Age  SibSp  Parch     Fare  Embarked\n",
       "0         3    1  22.000000      1      0   7.2500         2\n",
       "1         1    0  38.000000      1      0  71.2833         0\n",
       "2         3    0  26.000000      0      0   7.9250         2\n",
       "3         1    0  35.000000      1      0  53.1000         2\n",
       "4         3    1  35.000000      0      0   8.0500         2\n",
       "..      ...  ...        ...    ...    ...      ...       ...\n",
       "886       2    1  27.000000      0      0  13.0000         2\n",
       "887       1    0  19.000000      0      0  30.0000         2\n",
       "888       3    0  29.699118      1      2  23.4500         2\n",
       "889       1    1  26.000000      0      0  30.0000         0\n",
       "890       3    1  32.000000      0      0   7.7500         1\n",
       "\n",
       "[871 rows x 7 columns]"
      ]
     },
     "execution_count": 179,
     "metadata": {},
     "output_type": "execute_result"
    }
   ],
   "source": [
    "x=df.drop(['Survived'],axis=1)\n",
    "x"
   ]
  },
  {
   "cell_type": "code",
   "execution_count": 180,
   "id": "ec625e45",
   "metadata": {},
   "outputs": [
    {
     "data": {
      "text/plain": [
       "Pclass     -0.657223\n",
       "Sex        -0.587254\n",
       "Age         0.374387\n",
       "SibSp       3.652241\n",
       "Parch       2.714505\n",
       "Fare        3.171499\n",
       "Embarked   -1.252158\n",
       "dtype: float64"
      ]
     },
     "execution_count": 180,
     "metadata": {},
     "output_type": "execute_result"
    }
   ],
   "source": [
    "x.skew()"
   ]
  },
  {
   "cell_type": "code",
   "execution_count": 181,
   "id": "1d6bd33d",
   "metadata": {},
   "outputs": [
    {
     "data": {
      "image/png": "[encoded data removed]",
      "text/plain": [
       "<Figure size 1080x432 with 1 Axes>"
      ]
     },
     "metadata": {
      "needs_background": "light"
     },
     "output_type": "display_data"
    }
   ],
   "source": [
    "x.iloc[:,:].boxplot(figsize=[15,6])\n",
    "plt.subplots_adjust(bottom=0.25)\n",
    "plt.show()"
   ]
  },
  {
   "cell_type": "code",
   "execution_count": 182,
   "id": "77d0b4ff",
   "metadata": {},
   "outputs": [
    {
     "data": {
      "text/plain": [
       "(871, 7)"
      ]
     },
     "execution_count": 182,
     "metadata": {},
     "output_type": "execute_result"
    }
   ],
   "source": [
    "x.shape\n"
   ]
  },
  {
   "cell_type": "code",
   "execution_count": 183,
   "id": "284e1b43",
   "metadata": {},
   "outputs": [
    {
     "data": {
      "text/plain": [
       "(871,)"
      ]
     },
     "execution_count": 183,
     "metadata": {},
     "output_type": "execute_result"
    }
   ],
   "source": [
    "y=df['Survived']\n",
    "y.shape"
   ]
  },
  {
   "cell_type": "code",
   "execution_count": 184,
   "id": "6d525806",
   "metadata": {},
   "outputs": [
    {
     "data": {
      "text/plain": [
       "0    534\n",
       "1    337\n",
       "Name: Survived, dtype: int64"
      ]
     },
     "execution_count": 184,
     "metadata": {},
     "output_type": "execute_result"
    }
   ],
   "source": [
    "df['Survived'].value_counts()"
   ]
  },
  {
   "cell_type": "code",
   "execution_count": 185,
   "id": "323f0f46",
   "metadata": {},
   "outputs": [],
   "source": [
    "from collections import Counter\n",
    "# transform the dataset\n",
    "sm = SMOTE()\n",
    "x,y= sm.fit_resample(x, y)"
   ]
  },
  {
   "cell_type": "code",
   "execution_count": 186,
   "id": "97cf1887",
   "metadata": {},
   "outputs": [
    {
     "name": "stdout",
     "output_type": "stream",
     "text": [
      "Resampled dataset shape Counter({0: 534, 1: 534})\n"
     ]
    }
   ],
   "source": [
    "print('Resampled dataset shape %s' % Counter(y))"
   ]
  },
  {
   "cell_type": "markdown",
   "id": "f1fb9915",
   "metadata": {},
   "source": [
    "\n",
    "<span class=\"burk\">Random state</span>"
   ]
  },
  {
   "cell_type": "code",
   "execution_count": 187,
   "id": "2d814ce7",
   "metadata": {},
   "outputs": [],
   "source": [
    "lg=LogisticRegression()\n",
    "dtc=DecisionTreeClassifier()\n",
    "gnb=GaussianNB()\n",
    "svc=SVC()\n",
    "knn=KNeighborsClassifier()"
   ]
  },
  {
   "cell_type": "code",
   "execution_count": 188,
   "id": "4b073558",
   "metadata": {},
   "outputs": [
    {
     "name": "stdout",
     "output_type": "stream",
     "text": [
      "LogisticRegression() accuracy 0.8364485981308412 random_state 1\n",
      "max_accuracy 0.8364485981308412 max_random_state 1\n",
      "DecisionTreeClassifier() accuracy 0.7850467289719626 random_state 1\n",
      "LogisticRegression() accuracy 0.8177570093457944 random_state 2\n",
      "DecisionTreeClassifier() accuracy 0.8411214953271028 random_state 2\n",
      "max_accuracy 0.8411214953271028 max_random_state 2\n",
      "LogisticRegression() accuracy 0.8364485981308412 random_state 3\n",
      "DecisionTreeClassifier() accuracy 0.8411214953271028 random_state 3\n",
      "LogisticRegression() accuracy 0.8411214953271028 random_state 4\n",
      "DecisionTreeClassifier() accuracy 0.8130841121495327 random_state 4\n",
      "LogisticRegression() accuracy 0.8084112149532711 random_state 5\n",
      "DecisionTreeClassifier() accuracy 0.780373831775701 random_state 5\n",
      "LogisticRegression() accuracy 0.8130841121495327 random_state 6\n",
      "DecisionTreeClassifier() accuracy 0.7990654205607477 random_state 6\n",
      "LogisticRegression() accuracy 0.8457943925233645 random_state 7\n",
      "max_accuracy 0.8457943925233645 max_random_state 7\n",
      "DecisionTreeClassifier() accuracy 0.8037383177570093 random_state 7\n",
      "LogisticRegression() accuracy 0.822429906542056 random_state 8\n",
      "DecisionTreeClassifier() accuracy 0.7990654205607477 random_state 8\n",
      "LogisticRegression() accuracy 0.822429906542056 random_state 9\n",
      "DecisionTreeClassifier() accuracy 0.8364485981308412 random_state 9\n",
      "LogisticRegression() accuracy 0.8364485981308412 random_state 10\n",
      "DecisionTreeClassifier() accuracy 0.8271028037383178 random_state 10\n",
      "LogisticRegression() accuracy 0.8130841121495327 random_state 11\n",
      "DecisionTreeClassifier() accuracy 0.822429906542056 random_state 11\n",
      "LogisticRegression() accuracy 0.8084112149532711 random_state 12\n",
      "DecisionTreeClassifier() accuracy 0.8037383177570093 random_state 12\n",
      "LogisticRegression() accuracy 0.8317757009345794 random_state 13\n",
      "DecisionTreeClassifier() accuracy 0.8317757009345794 random_state 13\n",
      "LogisticRegression() accuracy 0.8457943925233645 random_state 14\n",
      "DecisionTreeClassifier() accuracy 0.8598130841121495 random_state 14\n",
      "max_accuracy 0.8598130841121495 max_random_state 14\n",
      "LogisticRegression() accuracy 0.8457943925233645 random_state 15\n",
      "DecisionTreeClassifier() accuracy 0.8177570093457944 random_state 15\n",
      "LogisticRegression() accuracy 0.8364485981308412 random_state 16\n",
      "DecisionTreeClassifier() accuracy 0.822429906542056 random_state 16\n",
      "LogisticRegression() accuracy 0.8457943925233645 random_state 17\n",
      "DecisionTreeClassifier() accuracy 0.8598130841121495 random_state 17\n",
      "LogisticRegression() accuracy 0.8364485981308412 random_state 18\n",
      "DecisionTreeClassifier() accuracy 0.8457943925233645 random_state 18\n",
      "LogisticRegression() accuracy 0.7850467289719626 random_state 19\n",
      "DecisionTreeClassifier() accuracy 0.822429906542056 random_state 19\n",
      "LogisticRegression() accuracy 0.8130841121495327 random_state 20\n",
      "DecisionTreeClassifier() accuracy 0.7990654205607477 random_state 20\n",
      "LogisticRegression() accuracy 0.7990654205607477 random_state 21\n",
      "DecisionTreeClassifier() accuracy 0.794392523364486 random_state 21\n",
      "LogisticRegression() accuracy 0.794392523364486 random_state 22\n",
      "DecisionTreeClassifier() accuracy 0.7897196261682243 random_state 22\n",
      "LogisticRegression() accuracy 0.7850467289719626 random_state 23\n",
      "DecisionTreeClassifier() accuracy 0.8037383177570093 random_state 23\n",
      "LogisticRegression() accuracy 0.822429906542056 random_state 24\n",
      "DecisionTreeClassifier() accuracy 0.8084112149532711 random_state 24\n",
      "LogisticRegression() accuracy 0.8177570093457944 random_state 25\n",
      "DecisionTreeClassifier() accuracy 0.7897196261682243 random_state 25\n",
      "LogisticRegression() accuracy 0.780373831775701 random_state 26\n",
      "DecisionTreeClassifier() accuracy 0.7710280373831776 random_state 26\n",
      "LogisticRegression() accuracy 0.8084112149532711 random_state 27\n",
      "DecisionTreeClassifier() accuracy 0.7897196261682243 random_state 27\n",
      "LogisticRegression() accuracy 0.8317757009345794 random_state 28\n",
      "DecisionTreeClassifier() accuracy 0.822429906542056 random_state 28\n",
      "LogisticRegression() accuracy 0.8271028037383178 random_state 29\n",
      "DecisionTreeClassifier() accuracy 0.7990654205607477 random_state 29\n",
      "LogisticRegression() accuracy 0.7897196261682243 random_state 30\n",
      "DecisionTreeClassifier() accuracy 0.8177570093457944 random_state 30\n",
      "LogisticRegression() accuracy 0.8084112149532711 random_state 31\n",
      "DecisionTreeClassifier() accuracy 0.794392523364486 random_state 31\n",
      "LogisticRegression() accuracy 0.8177570093457944 random_state 32\n",
      "DecisionTreeClassifier() accuracy 0.7757009345794392 random_state 32\n",
      "LogisticRegression() accuracy 0.794392523364486 random_state 33\n",
      "DecisionTreeClassifier() accuracy 0.8177570093457944 random_state 33\n",
      "LogisticRegression() accuracy 0.7897196261682243 random_state 34\n",
      "DecisionTreeClassifier() accuracy 0.7523364485981309 random_state 34\n",
      "LogisticRegression() accuracy 0.8037383177570093 random_state 35\n",
      "DecisionTreeClassifier() accuracy 0.8551401869158879 random_state 35\n",
      "LogisticRegression() accuracy 0.8317757009345794 random_state 36\n",
      "DecisionTreeClassifier() accuracy 0.8317757009345794 random_state 36\n",
      "LogisticRegression() accuracy 0.8271028037383178 random_state 37\n",
      "DecisionTreeClassifier() accuracy 0.8130841121495327 random_state 37\n",
      "LogisticRegression() accuracy 0.8177570093457944 random_state 38\n",
      "DecisionTreeClassifier() accuracy 0.7710280373831776 random_state 38\n",
      "LogisticRegression() accuracy 0.8317757009345794 random_state 39\n",
      "DecisionTreeClassifier() accuracy 0.8364485981308412 random_state 39\n",
      "LogisticRegression() accuracy 0.8037383177570093 random_state 40\n",
      "DecisionTreeClassifier() accuracy 0.794392523364486 random_state 40\n",
      "LogisticRegression() accuracy 0.7663551401869159 random_state 41\n",
      "DecisionTreeClassifier() accuracy 0.7616822429906542 random_state 41\n",
      "LogisticRegression() accuracy 0.822429906542056 random_state 42\n",
      "DecisionTreeClassifier() accuracy 0.8130841121495327 random_state 42\n",
      "LogisticRegression() accuracy 0.8177570093457944 random_state 43\n",
      "DecisionTreeClassifier() accuracy 0.794392523364486 random_state 43\n",
      "LogisticRegression() accuracy 0.8317757009345794 random_state 44\n",
      "DecisionTreeClassifier() accuracy 0.7990654205607477 random_state 44\n",
      "LogisticRegression() accuracy 0.8457943925233645 random_state 45\n",
      "DecisionTreeClassifier() accuracy 0.8551401869158879 random_state 45\n",
      "LogisticRegression() accuracy 0.8177570093457944 random_state 46\n",
      "DecisionTreeClassifier() accuracy 0.794392523364486 random_state 46\n",
      "LogisticRegression() accuracy 0.7897196261682243 random_state 47\n",
      "DecisionTreeClassifier() accuracy 0.794392523364486 random_state 47\n",
      "LogisticRegression() accuracy 0.8084112149532711 random_state 48\n",
      "DecisionTreeClassifier() accuracy 0.8084112149532711 random_state 48\n",
      "LogisticRegression() accuracy 0.822429906542056 random_state 49\n",
      "DecisionTreeClassifier() accuracy 0.8084112149532711 random_state 49\n",
      "LogisticRegression() accuracy 0.7990654205607477 random_state 50\n",
      "DecisionTreeClassifier() accuracy 0.794392523364486 random_state 50\n",
      "LogisticRegression() accuracy 0.8084112149532711 random_state 51\n",
      "DecisionTreeClassifier() accuracy 0.8317757009345794 random_state 51\n",
      "LogisticRegression() accuracy 0.8317757009345794 random_state 52\n",
      "DecisionTreeClassifier() accuracy 0.8411214953271028 random_state 52\n",
      "LogisticRegression() accuracy 0.8457943925233645 random_state 53\n",
      "DecisionTreeClassifier() accuracy 0.8504672897196262 random_state 53\n",
      "LogisticRegression() accuracy 0.7990654205607477 random_state 54\n",
      "DecisionTreeClassifier() accuracy 0.8037383177570093 random_state 54\n",
      "LogisticRegression() accuracy 0.7616822429906542 random_state 55\n",
      "DecisionTreeClassifier() accuracy 0.8037383177570093 random_state 55\n",
      "LogisticRegression() accuracy 0.8317757009345794 random_state 56\n",
      "DecisionTreeClassifier() accuracy 0.8317757009345794 random_state 56\n",
      "LogisticRegression() accuracy 0.7990654205607477 random_state 57\n",
      "DecisionTreeClassifier() accuracy 0.8177570093457944 random_state 57\n",
      "LogisticRegression() accuracy 0.8177570093457944 random_state 58\n",
      "DecisionTreeClassifier() accuracy 0.8411214953271028 random_state 58\n",
      "LogisticRegression() accuracy 0.794392523364486 random_state 59\n",
      "DecisionTreeClassifier() accuracy 0.8084112149532711 random_state 59\n",
      "LogisticRegression() accuracy 0.794392523364486 random_state 60\n",
      "DecisionTreeClassifier() accuracy 0.7663551401869159 random_state 60\n",
      "LogisticRegression() accuracy 0.8177570093457944 random_state 61\n",
      "DecisionTreeClassifier() accuracy 0.7757009345794392 random_state 61\n",
      "LogisticRegression() accuracy 0.8084112149532711 random_state 62\n",
      "DecisionTreeClassifier() accuracy 0.7897196261682243 random_state 62\n",
      "LogisticRegression() accuracy 0.822429906542056 random_state 63\n",
      "DecisionTreeClassifier() accuracy 0.794392523364486 random_state 63\n",
      "LogisticRegression() accuracy 0.7990654205607477 random_state 64\n",
      "DecisionTreeClassifier() accuracy 0.8037383177570093 random_state 64\n",
      "LogisticRegression() accuracy 0.8504672897196262 random_state 65\n",
      "DecisionTreeClassifier() accuracy 0.8130841121495327 random_state 65\n",
      "LogisticRegression() accuracy 0.8411214953271028 random_state 66\n",
      "DecisionTreeClassifier() accuracy 0.8271028037383178 random_state 66\n",
      "LogisticRegression() accuracy 0.8177570093457944 random_state 67\n",
      "DecisionTreeClassifier() accuracy 0.7663551401869159 random_state 67\n",
      "LogisticRegression() accuracy 0.7710280373831776 random_state 68\n",
      "DecisionTreeClassifier() accuracy 0.8177570093457944 random_state 68\n",
      "LogisticRegression() accuracy 0.8084112149532711 random_state 69\n",
      "DecisionTreeClassifier() accuracy 0.8457943925233645 random_state 69\n",
      "LogisticRegression() accuracy 0.822429906542056 random_state 70\n",
      "DecisionTreeClassifier() accuracy 0.8457943925233645 random_state 70\n",
      "LogisticRegression() accuracy 0.822429906542056 random_state 71\n",
      "DecisionTreeClassifier() accuracy 0.8037383177570093 random_state 71\n",
      "LogisticRegression() accuracy 0.822429906542056 random_state 72\n",
      "DecisionTreeClassifier() accuracy 0.7897196261682243 random_state 72\n",
      "LogisticRegression() accuracy 0.8271028037383178 random_state 73\n",
      "DecisionTreeClassifier() accuracy 0.8598130841121495 random_state 73\n",
      "LogisticRegression() accuracy 0.8457943925233645 random_state 74\n",
      "DecisionTreeClassifier() accuracy 0.8411214953271028 random_state 74\n",
      "LogisticRegression() accuracy 0.794392523364486 random_state 75\n",
      "DecisionTreeClassifier() accuracy 0.8177570093457944 random_state 75\n",
      "LogisticRegression() accuracy 0.794392523364486 random_state 76\n",
      "DecisionTreeClassifier() accuracy 0.8271028037383178 random_state 76\n",
      "LogisticRegression() accuracy 0.8084112149532711 random_state 77\n",
      "DecisionTreeClassifier() accuracy 0.8177570093457944 random_state 77\n",
      "LogisticRegression() accuracy 0.7990654205607477 random_state 78\n",
      "DecisionTreeClassifier() accuracy 0.8317757009345794 random_state 78\n",
      "LogisticRegression() accuracy 0.8130841121495327 random_state 79\n",
      "DecisionTreeClassifier() accuracy 0.7990654205607477 random_state 79\n",
      "LogisticRegression() accuracy 0.8084112149532711 random_state 80\n",
      "DecisionTreeClassifier() accuracy 0.8317757009345794 random_state 80\n",
      "LogisticRegression() accuracy 0.7990654205607477 random_state 81\n",
      "DecisionTreeClassifier() accuracy 0.8317757009345794 random_state 81\n",
      "LogisticRegression() accuracy 0.8551401869158879 random_state 82\n",
      "DecisionTreeClassifier() accuracy 0.8551401869158879 random_state 82\n",
      "LogisticRegression() accuracy 0.8037383177570093 random_state 83\n",
      "DecisionTreeClassifier() accuracy 0.7897196261682243 random_state 83\n",
      "LogisticRegression() accuracy 0.794392523364486 random_state 84\n",
      "DecisionTreeClassifier() accuracy 0.7570093457943925 random_state 84\n",
      "LogisticRegression() accuracy 0.7570093457943925 random_state 85\n",
      "DecisionTreeClassifier() accuracy 0.780373831775701 random_state 85\n",
      "LogisticRegression() accuracy 0.8084112149532711 random_state 86\n",
      "DecisionTreeClassifier() accuracy 0.8130841121495327 random_state 86\n",
      "LogisticRegression() accuracy 0.8457943925233645 random_state 87\n",
      "DecisionTreeClassifier() accuracy 0.8411214953271028 random_state 87\n",
      "LogisticRegression() accuracy 0.7616822429906542 random_state 88\n",
      "DecisionTreeClassifier() accuracy 0.7990654205607477 random_state 88\n",
      "LogisticRegression() accuracy 0.780373831775701 random_state 89\n",
      "DecisionTreeClassifier() accuracy 0.7710280373831776 random_state 89\n",
      "LogisticRegression() accuracy 0.7850467289719626 random_state 90\n",
      "DecisionTreeClassifier() accuracy 0.822429906542056 random_state 90\n",
      "LogisticRegression() accuracy 0.822429906542056 random_state 91\n",
      "DecisionTreeClassifier() accuracy 0.8130841121495327 random_state 91\n",
      "LogisticRegression() accuracy 0.822429906542056 random_state 92\n",
      "DecisionTreeClassifier() accuracy 0.7850467289719626 random_state 92\n",
      "LogisticRegression() accuracy 0.7850467289719626 random_state 93\n",
      "DecisionTreeClassifier() accuracy 0.7710280373831776 random_state 93\n",
      "LogisticRegression() accuracy 0.8364485981308412 random_state 94\n",
      "DecisionTreeClassifier() accuracy 0.8364485981308412 random_state 94\n",
      "LogisticRegression() accuracy 0.8271028037383178 random_state 95\n",
      "DecisionTreeClassifier() accuracy 0.8457943925233645 random_state 95\n",
      "LogisticRegression() accuracy 0.822429906542056 random_state 96\n",
      "DecisionTreeClassifier() accuracy 0.822429906542056 random_state 96\n",
      "LogisticRegression() accuracy 0.7383177570093458 random_state 97\n",
      "DecisionTreeClassifier() accuracy 0.7616822429906542 random_state 97\n",
      "LogisticRegression() accuracy 0.8084112149532711 random_state 98\n",
      "DecisionTreeClassifier() accuracy 0.8037383177570093 random_state 98\n",
      "LogisticRegression() accuracy 0.7757009345794392 random_state 99\n",
      "DecisionTreeClassifier() accuracy 0.7616822429906542 random_state 99\n",
      "LogisticRegression() accuracy 0.7757009345794392 random_state 100\n",
      "DecisionTreeClassifier() accuracy 0.794392523364486 random_state 100\n",
      "LogisticRegression() accuracy 0.780373831775701 random_state 101\n",
      "DecisionTreeClassifier() accuracy 0.8177570093457944 random_state 101\n",
      "LogisticRegression() accuracy 0.8130841121495327 random_state 102\n",
      "DecisionTreeClassifier() accuracy 0.822429906542056 random_state 102\n",
      "LogisticRegression() accuracy 0.794392523364486 random_state 103\n",
      "DecisionTreeClassifier() accuracy 0.8037383177570093 random_state 103\n",
      "LogisticRegression() accuracy 0.7663551401869159 random_state 104\n",
      "DecisionTreeClassifier() accuracy 0.780373831775701 random_state 104\n",
      "LogisticRegression() accuracy 0.8084112149532711 random_state 105\n",
      "DecisionTreeClassifier() accuracy 0.8364485981308412 random_state 105\n",
      "LogisticRegression() accuracy 0.7850467289719626 random_state 106\n",
      "DecisionTreeClassifier() accuracy 0.794392523364486 random_state 106\n",
      "LogisticRegression() accuracy 0.822429906542056 random_state 107\n",
      "DecisionTreeClassifier() accuracy 0.8271028037383178 random_state 107\n",
      "LogisticRegression() accuracy 0.780373831775701 random_state 108\n",
      "DecisionTreeClassifier() accuracy 0.8364485981308412 random_state 108\n",
      "LogisticRegression() accuracy 0.7990654205607477 random_state 109\n",
      "DecisionTreeClassifier() accuracy 0.8130841121495327 random_state 109\n",
      "LogisticRegression() accuracy 0.8177570093457944 random_state 110\n",
      "DecisionTreeClassifier() accuracy 0.7990654205607477 random_state 110\n",
      "LogisticRegression() accuracy 0.8177570093457944 random_state 111\n",
      "DecisionTreeClassifier() accuracy 0.822429906542056 random_state 111\n",
      "LogisticRegression() accuracy 0.8177570093457944 random_state 112\n",
      "DecisionTreeClassifier() accuracy 0.8037383177570093 random_state 112\n",
      "LogisticRegression() accuracy 0.8364485981308412 random_state 113\n",
      "DecisionTreeClassifier() accuracy 0.794392523364486 random_state 113\n",
      "LogisticRegression() accuracy 0.8084112149532711 random_state 114\n",
      "DecisionTreeClassifier() accuracy 0.7990654205607477 random_state 114\n",
      "LogisticRegression() accuracy 0.8084112149532711 random_state 115\n",
      "DecisionTreeClassifier() accuracy 0.7850467289719626 random_state 115\n",
      "LogisticRegression() accuracy 0.794392523364486 random_state 116\n",
      "DecisionTreeClassifier() accuracy 0.8037383177570093 random_state 116\n",
      "LogisticRegression() accuracy 0.8457943925233645 random_state 117\n",
      "DecisionTreeClassifier() accuracy 0.8177570093457944 random_state 117\n",
      "LogisticRegression() accuracy 0.822429906542056 random_state 118\n",
      "DecisionTreeClassifier() accuracy 0.8598130841121495 random_state 118\n",
      "LogisticRegression() accuracy 0.8130841121495327 random_state 119\n",
      "DecisionTreeClassifier() accuracy 0.8317757009345794 random_state 119\n",
      "LogisticRegression() accuracy 0.794392523364486 random_state 120\n",
      "DecisionTreeClassifier() accuracy 0.8177570093457944 random_state 120\n",
      "LogisticRegression() accuracy 0.7570093457943925 random_state 121\n",
      "DecisionTreeClassifier() accuracy 0.8364485981308412 random_state 121\n",
      "LogisticRegression() accuracy 0.794392523364486 random_state 122\n",
      "DecisionTreeClassifier() accuracy 0.8411214953271028 random_state 122\n",
      "LogisticRegression() accuracy 0.7990654205607477 random_state 123\n",
      "DecisionTreeClassifier() accuracy 0.7990654205607477 random_state 123\n",
      "LogisticRegression() accuracy 0.8037383177570093 random_state 124\n",
      "DecisionTreeClassifier() accuracy 0.8130841121495327 random_state 124\n",
      "LogisticRegression() accuracy 0.8177570093457944 random_state 125\n",
      "DecisionTreeClassifier() accuracy 0.7990654205607477 random_state 125\n",
      "LogisticRegression() accuracy 0.8457943925233645 random_state 126\n",
      "DecisionTreeClassifier() accuracy 0.7897196261682243 random_state 126\n",
      "LogisticRegression() accuracy 0.794392523364486 random_state 127\n",
      "DecisionTreeClassifier() accuracy 0.8271028037383178 random_state 127\n",
      "LogisticRegression() accuracy 0.8037383177570093 random_state 128\n",
      "DecisionTreeClassifier() accuracy 0.794392523364486 random_state 128\n",
      "LogisticRegression() accuracy 0.8177570093457944 random_state 129\n",
      "DecisionTreeClassifier() accuracy 0.7850467289719626 random_state 129\n",
      "LogisticRegression() accuracy 0.780373831775701 random_state 130\n",
      "DecisionTreeClassifier() accuracy 0.8177570093457944 random_state 130\n",
      "LogisticRegression() accuracy 0.7663551401869159 random_state 131\n",
      "DecisionTreeClassifier() accuracy 0.7897196261682243 random_state 131\n",
      "LogisticRegression() accuracy 0.8177570093457944 random_state 132\n",
      "DecisionTreeClassifier() accuracy 0.8317757009345794 random_state 132\n",
      "LogisticRegression() accuracy 0.8644859813084113 random_state 133\n",
      "max_accuracy 0.8644859813084113 max_random_state 133\n",
      "DecisionTreeClassifier() accuracy 0.8364485981308412 random_state 133\n",
      "LogisticRegression() accuracy 0.7757009345794392 random_state 134\n",
      "DecisionTreeClassifier() accuracy 0.8130841121495327 random_state 134\n",
      "LogisticRegression() accuracy 0.8130841121495327 random_state 135\n",
      "DecisionTreeClassifier() accuracy 0.7757009345794392 random_state 135\n",
      "LogisticRegression() accuracy 0.8177570093457944 random_state 136\n",
      "DecisionTreeClassifier() accuracy 0.7476635514018691 random_state 136\n",
      "LogisticRegression() accuracy 0.8130841121495327 random_state 137\n",
      "DecisionTreeClassifier() accuracy 0.8037383177570093 random_state 137\n",
      "LogisticRegression() accuracy 0.794392523364486 random_state 138\n",
      "DecisionTreeClassifier() accuracy 0.794392523364486 random_state 138\n",
      "LogisticRegression() accuracy 0.822429906542056 random_state 139\n",
      "DecisionTreeClassifier() accuracy 0.8130841121495327 random_state 139\n",
      "LogisticRegression() accuracy 0.7616822429906542 random_state 140\n",
      "DecisionTreeClassifier() accuracy 0.8317757009345794 random_state 140\n",
      "LogisticRegression() accuracy 0.8317757009345794 random_state 141\n",
      "DecisionTreeClassifier() accuracy 0.8130841121495327 random_state 141\n",
      "LogisticRegression() accuracy 0.8084112149532711 random_state 142\n",
      "DecisionTreeClassifier() accuracy 0.822429906542056 random_state 142\n",
      "LogisticRegression() accuracy 0.780373831775701 random_state 143\n",
      "DecisionTreeClassifier() accuracy 0.794392523364486 random_state 143\n",
      "LogisticRegression() accuracy 0.780373831775701 random_state 144\n",
      "DecisionTreeClassifier() accuracy 0.7897196261682243 random_state 144\n",
      "LogisticRegression() accuracy 0.8364485981308412 random_state 145\n",
      "DecisionTreeClassifier() accuracy 0.8271028037383178 random_state 145\n",
      "LogisticRegression() accuracy 0.7990654205607477 random_state 146\n",
      "DecisionTreeClassifier() accuracy 0.8084112149532711 random_state 146\n",
      "LogisticRegression() accuracy 0.8551401869158879 random_state 147\n",
      "DecisionTreeClassifier() accuracy 0.8411214953271028 random_state 147\n",
      "LogisticRegression() accuracy 0.8644859813084113 random_state 148\n",
      "DecisionTreeClassifier() accuracy 0.8177570093457944 random_state 148\n",
      "LogisticRegression() accuracy 0.8364485981308412 random_state 149\n",
      "DecisionTreeClassifier() accuracy 0.8177570093457944 random_state 149\n",
      "LogisticRegression() accuracy 0.8177570093457944 random_state 150\n",
      "DecisionTreeClassifier() accuracy 0.7897196261682243 random_state 150\n",
      "LogisticRegression() accuracy 0.8130841121495327 random_state 151\n",
      "DecisionTreeClassifier() accuracy 0.8130841121495327 random_state 151\n",
      "LogisticRegression() accuracy 0.7757009345794392 random_state 152\n",
      "DecisionTreeClassifier() accuracy 0.8084112149532711 random_state 152\n",
      "LogisticRegression() accuracy 0.822429906542056 random_state 153\n",
      "DecisionTreeClassifier() accuracy 0.8598130841121495 random_state 153\n",
      "LogisticRegression() accuracy 0.8037383177570093 random_state 154\n",
      "DecisionTreeClassifier() accuracy 0.8130841121495327 random_state 154\n",
      "LogisticRegression() accuracy 0.8364485981308412 random_state 155\n",
      "DecisionTreeClassifier() accuracy 0.7850467289719626 random_state 155\n",
      "LogisticRegression() accuracy 0.8364485981308412 random_state 156\n",
      "DecisionTreeClassifier() accuracy 0.8317757009345794 random_state 156\n",
      "LogisticRegression() accuracy 0.7990654205607477 random_state 157\n",
      "DecisionTreeClassifier() accuracy 0.8084112149532711 random_state 157\n",
      "LogisticRegression() accuracy 0.8177570093457944 random_state 158\n",
      "DecisionTreeClassifier() accuracy 0.8411214953271028 random_state 158\n",
      "LogisticRegression() accuracy 0.8317757009345794 random_state 159\n",
      "DecisionTreeClassifier() accuracy 0.8457943925233645 random_state 159\n",
      "LogisticRegression() accuracy 0.794392523364486 random_state 160\n",
      "DecisionTreeClassifier() accuracy 0.8130841121495327 random_state 160\n",
      "LogisticRegression() accuracy 0.8504672897196262 random_state 161\n",
      "DecisionTreeClassifier() accuracy 0.8504672897196262 random_state 161\n",
      "LogisticRegression() accuracy 0.8271028037383178 random_state 162\n",
      "DecisionTreeClassifier() accuracy 0.822429906542056 random_state 162\n",
      "LogisticRegression() accuracy 0.8411214953271028 random_state 163\n",
      "DecisionTreeClassifier() accuracy 0.8177570093457944 random_state 163\n",
      "LogisticRegression() accuracy 0.7897196261682243 random_state 164\n",
      "DecisionTreeClassifier() accuracy 0.8457943925233645 random_state 164\n",
      "LogisticRegression() accuracy 0.8317757009345794 random_state 165\n",
      "DecisionTreeClassifier() accuracy 0.8271028037383178 random_state 165\n",
      "LogisticRegression() accuracy 0.8457943925233645 random_state 166\n",
      "DecisionTreeClassifier() accuracy 0.8411214953271028 random_state 166\n",
      "LogisticRegression() accuracy 0.7850467289719626 random_state 167\n",
      "DecisionTreeClassifier() accuracy 0.8551401869158879 random_state 167\n",
      "LogisticRegression() accuracy 0.8177570093457944 random_state 168\n",
      "DecisionTreeClassifier() accuracy 0.794392523364486 random_state 168\n",
      "LogisticRegression() accuracy 0.8411214953271028 random_state 169\n",
      "DecisionTreeClassifier() accuracy 0.8317757009345794 random_state 169\n",
      "LogisticRegression() accuracy 0.8271028037383178 random_state 170\n",
      "DecisionTreeClassifier() accuracy 0.8317757009345794 random_state 170\n",
      "LogisticRegression() accuracy 0.822429906542056 random_state 171\n",
      "DecisionTreeClassifier() accuracy 0.8271028037383178 random_state 171\n",
      "LogisticRegression() accuracy 0.8084112149532711 random_state 172\n",
      "DecisionTreeClassifier() accuracy 0.8271028037383178 random_state 172\n",
      "LogisticRegression() accuracy 0.8317757009345794 random_state 173\n",
      "DecisionTreeClassifier() accuracy 0.8084112149532711 random_state 173\n",
      "LogisticRegression() accuracy 0.7850467289719626 random_state 174\n",
      "DecisionTreeClassifier() accuracy 0.8130841121495327 random_state 174\n",
      "LogisticRegression() accuracy 0.8130841121495327 random_state 175\n",
      "DecisionTreeClassifier() accuracy 0.7897196261682243 random_state 175\n",
      "LogisticRegression() accuracy 0.8271028037383178 random_state 176\n",
      "DecisionTreeClassifier() accuracy 0.8084112149532711 random_state 176\n",
      "LogisticRegression() accuracy 0.8130841121495327 random_state 177\n",
      "DecisionTreeClassifier() accuracy 0.7476635514018691 random_state 177\n",
      "LogisticRegression() accuracy 0.7476635514018691 random_state 178\n",
      "DecisionTreeClassifier() accuracy 0.794392523364486 random_state 178\n",
      "LogisticRegression() accuracy 0.7990654205607477 random_state 179\n",
      "DecisionTreeClassifier() accuracy 0.8177570093457944 random_state 179\n",
      "LogisticRegression() accuracy 0.8364485981308412 random_state 180\n",
      "DecisionTreeClassifier() accuracy 0.8130841121495327 random_state 180\n",
      "LogisticRegression() accuracy 0.822429906542056 random_state 181\n",
      "DecisionTreeClassifier() accuracy 0.7757009345794392 random_state 181\n",
      "LogisticRegression() accuracy 0.780373831775701 random_state 182\n",
      "DecisionTreeClassifier() accuracy 0.7710280373831776 random_state 182\n",
      "LogisticRegression() accuracy 0.7850467289719626 random_state 183\n",
      "DecisionTreeClassifier() accuracy 0.780373831775701 random_state 183\n",
      "LogisticRegression() accuracy 0.7897196261682243 random_state 184\n",
      "DecisionTreeClassifier() accuracy 0.8411214953271028 random_state 184\n",
      "LogisticRegression() accuracy 0.8084112149532711 random_state 185\n",
      "DecisionTreeClassifier() accuracy 0.794392523364486 random_state 185\n",
      "LogisticRegression() accuracy 0.7897196261682243 random_state 186\n",
      "DecisionTreeClassifier() accuracy 0.7757009345794392 random_state 186\n",
      "LogisticRegression() accuracy 0.794392523364486 random_state 187\n",
      "DecisionTreeClassifier() accuracy 0.7990654205607477 random_state 187\n",
      "LogisticRegression() accuracy 0.7757009345794392 random_state 188\n",
      "DecisionTreeClassifier() accuracy 0.8785046728971962 random_state 188\n",
      "max_accuracy 0.8785046728971962 max_random_state 188\n",
      "LogisticRegression() accuracy 0.7897196261682243 random_state 189\n",
      "DecisionTreeClassifier() accuracy 0.8271028037383178 random_state 189\n",
      "LogisticRegression() accuracy 0.8130841121495327 random_state 190\n",
      "DecisionTreeClassifier() accuracy 0.822429906542056 random_state 190\n",
      "LogisticRegression() accuracy 0.8084112149532711 random_state 191\n",
      "DecisionTreeClassifier() accuracy 0.822429906542056 random_state 191\n",
      "LogisticRegression() accuracy 0.8084112149532711 random_state 192\n",
      "DecisionTreeClassifier() accuracy 0.8271028037383178 random_state 192\n",
      "LogisticRegression() accuracy 0.8317757009345794 random_state 193\n",
      "DecisionTreeClassifier() accuracy 0.8037383177570093 random_state 193\n",
      "LogisticRegression() accuracy 0.7850467289719626 random_state 194\n",
      "DecisionTreeClassifier() accuracy 0.794392523364486 random_state 194\n",
      "LogisticRegression() accuracy 0.8177570093457944 random_state 195\n",
      "DecisionTreeClassifier() accuracy 0.8411214953271028 random_state 195\n",
      "LogisticRegression() accuracy 0.7990654205607477 random_state 196\n",
      "DecisionTreeClassifier() accuracy 0.8177570093457944 random_state 196\n",
      "LogisticRegression() accuracy 0.8130841121495327 random_state 197\n",
      "DecisionTreeClassifier() accuracy 0.8271028037383178 random_state 197\n",
      "LogisticRegression() accuracy 0.8271028037383178 random_state 198\n",
      "DecisionTreeClassifier() accuracy 0.8130841121495327 random_state 198\n",
      "LogisticRegression() accuracy 0.8177570093457944 random_state 199\n",
      "DecisionTreeClassifier() accuracy 0.822429906542056 random_state 199\n"
     ]
    }
   ],
   "source": [
    "maxAccu=0\n",
    "maxRS=0\n",
    "model=[lg,dtc]\n",
    "\n",
    "for i in range(1,200):\n",
    "    for m in model:\n",
    "        x_train,x_test,y_train,y_test=train_test_split(x,y,test_size=.2,random_state=i)\n",
    "        m.fit(x_train,y_train)\n",
    "        m.score(x_train,y_train)\n",
    "        pred=m.predict(x_test)\n",
    "        acc=(accuracy_score(y_test,pred))\n",
    "        #print(confusion_matrix(y_test,pred))\n",
    "        #print(classification_report(y_test,pred))\n",
    "        print(m,'accuracy',acc,'random_state',i)\n",
    "        if acc>maxAccu:\n",
    "            maxAccu=acc\n",
    "            maxRS=i\n",
    "            print('max_accuracy',maxAccu,'max_random_state',i)\n",
    "            "
   ]
  },
  {
   "cell_type": "code",
   "execution_count": 189,
   "id": "044491bd",
   "metadata": {},
   "outputs": [
    {
     "name": "stdout",
     "output_type": "stream",
     "text": [
      "Best Accuracy is  0.8785046728971962 on random_state 188\n"
     ]
    }
   ],
   "source": [
    "print('Best Accuracy is ', maxAccu, 'on random_state',maxRS)"
   ]
  },
  {
   "cell_type": "markdown",
   "id": "7f378526",
   "metadata": {},
   "source": [
    "<span class=\"burk\">Train Test split</span>"
   ]
  },
  {
   "cell_type": "code",
   "execution_count": 190,
   "id": "f31a5cc5",
   "metadata": {},
   "outputs": [],
   "source": [
    "x_train,x_test,y_train,y_test=train_test_split(x,y,test_size=.2,random_state=45)"
   ]
  },
  {
   "cell_type": "code",
   "execution_count": 191,
   "id": "287ef4aa",
   "metadata": {},
   "outputs": [],
   "source": [
    "scaler = StandardScaler()\n",
    "x_train = scaler.fit_transform(x_train)\n",
    "x_test = scaler.transform(x_test)"
   ]
  },
  {
   "cell_type": "code",
   "execution_count": 192,
   "id": "d7134749",
   "metadata": {},
   "outputs": [],
   "source": [
    "def models(x_train,y_train):\n",
    "    from sklearn.neighbors import KNeighborsClassifier\n",
    "    knn=KNeighborsClassifier(n_neighbors=5,metric='minkowski',p=2)\n",
    "    knn.fit(x_train,y_train)\n",
    "    \n",
    "    from sklearn.linear_model import LogisticRegression\n",
    "    lg=LogisticRegression(random_state=0)\n",
    "    lg.fit(x_train,y_train)\n",
    "    \n",
    "    \n",
    "    from sklearn.svm import SVC\n",
    "    svc=SVC(kernel='rbf',random_state=0)\n",
    "    svc.fit(x_train,y_train)\n",
    "    \n",
    "    \n",
    "    from sklearn.svm import SVC\n",
    "    svc=SVC(kernel='linear',random_state=0)\n",
    "    svc.fit(x_train,y_train)\n",
    "    \n",
    "    \n",
    "    from sklearn.naive_bayes import GaussianNB\n",
    "    gnb=GaussianNB()\n",
    "    gnb.fit(x_train,y_train)\n",
    "    \n",
    "    \n",
    "    from sklearn.tree import DecisionTreeClassifier\n",
    "    dtc=DecisionTreeClassifier(criterion='entropy',random_state=0)\n",
    "    dtc.fit(x_train,y_train)\n",
    "    \n",
    "    \n",
    "    from sklearn.ensemble import RandomForestClassifier\n",
    "    rfc=RandomForestClassifier(n_estimators=10,criterion='entropy',random_state=0)\n",
    "    rfc.fit(x_train,y_train)\n",
    "    \n",
    "    #print model accuracy on training data\n",
    "\n",
    "    print(\"[0]KNeighbors Classifier Training Accuracy :\" ,knn.score(x_train,y_train))\n",
    "    print(\"[1]]Logistic Regression Training Accuracy :\" ,lg.score(x_train,y_train))\n",
    "    print(\"[2]SVC (rbf)Training Accuracy :\" ,svc.score(x_train,y_train))\n",
    "    print(\"[3]SVC (linear)Training Accuracy :\" ,svc.score(x_train,y_train))\n",
    "    print(\"[4]GaussianNB Training Accuracy :\" ,gnb.score(x_train,y_train))\n",
    "    print(\"[5]Decision Tree ClassifierTraining Accuracy :\" ,dtc.score(x_train,y_train))\n",
    "    print(\"[6]Random Forest Classifier Training Accuracy :\" ,rfc.score(x_train,y_train))\n",
    "    \n",
    "    return knn,lg,svc,svc,gnb,dtc,rfc"
   ]
  },
  {
   "cell_type": "code",
   "execution_count": 193,
   "id": "e45dfd71",
   "metadata": {},
   "outputs": [
    {
     "name": "stdout",
     "output_type": "stream",
     "text": [
      "[0]KNeighbors Classifier Training Accuracy : 0.8676814988290398\n",
      "[1]]Logistic Regression Training Accuracy : 0.8091334894613583\n",
      "[2]SVC (rbf)Training Accuracy : 0.7868852459016393\n",
      "[3]SVC (linear)Training Accuracy : 0.7868852459016393\n",
      "[4]GaussianNB Training Accuracy : 0.7939110070257611\n",
      "[5]Decision Tree ClassifierTraining Accuracy : 0.9836065573770492\n",
      "[6]Random Forest Classifier Training Accuracy : 0.9754098360655737\n"
     ]
    }
   ],
   "source": [
    "model=models(x_train,y_train)"
   ]
  },
  {
   "cell_type": "markdown",
   "id": "94744917",
   "metadata": {},
   "source": [
    "<span class=\"burk\">accuracy score,confusion_matrix</span>"
   ]
  },
  {
   "cell_type": "code",
   "execution_count": 194,
   "id": "38332928",
   "metadata": {},
   "outputs": [],
   "source": [
    "<div class=\"burk\">\n",
    "lg=LogisticRegression()\n",
    "dtc=DecisionTreeClassifier()\n",
    "gnb=GaussianNB()\n",
    "svc=SVC()\n",
    "knn=KNeighborsClassifier()\n",
    "rfc=RandomForestClassifier()</div><i class=\"fa fa-lightbulb-o \"></i>"
   ]
  },
  {
   "cell_type": "code",
   "execution_count": 195,
   "id": "d548cc88",
   "metadata": {},
   "outputs": [
    {
     "name": "stdout",
     "output_type": "stream",
     "text": [
      "0.8504672897196262\n",
      "[[90 12]\n",
      " [20 92]]\n",
      "              precision    recall  f1-score   support\n",
      "\n",
      "           0       0.82      0.88      0.85       102\n",
      "           1       0.88      0.82      0.85       112\n",
      "\n",
      "    accuracy                           0.85       214\n",
      "   macro avg       0.85      0.85      0.85       214\n",
      "weighted avg       0.85      0.85      0.85       214\n",
      "\n",
      "0.8644859813084113\n",
      "[[90 12]\n",
      " [17 95]]\n",
      "              precision    recall  f1-score   support\n",
      "\n",
      "           0       0.84      0.88      0.86       102\n",
      "           1       0.89      0.85      0.87       112\n",
      "\n",
      "    accuracy                           0.86       214\n",
      "   macro avg       0.86      0.87      0.86       214\n",
      "weighted avg       0.87      0.86      0.86       214\n",
      "\n",
      "0.8177570093457944\n",
      "[[84 18]\n",
      " [21 91]]\n",
      "              precision    recall  f1-score   support\n",
      "\n",
      "           0       0.80      0.82      0.81       102\n",
      "           1       0.83      0.81      0.82       112\n",
      "\n",
      "    accuracy                           0.82       214\n",
      "   macro avg       0.82      0.82      0.82       214\n",
      "weighted avg       0.82      0.82      0.82       214\n",
      "\n",
      "0.8644859813084113\n",
      "[[93  9]\n",
      " [20 92]]\n",
      "              precision    recall  f1-score   support\n",
      "\n",
      "           0       0.82      0.91      0.87       102\n",
      "           1       0.91      0.82      0.86       112\n",
      "\n",
      "    accuracy                           0.86       214\n",
      "   macro avg       0.87      0.87      0.86       214\n",
      "weighted avg       0.87      0.86      0.86       214\n",
      "\n",
      "0.8551401869158879\n",
      "[[88 14]\n",
      " [17 95]]\n",
      "              precision    recall  f1-score   support\n",
      "\n",
      "           0       0.84      0.86      0.85       102\n",
      "           1       0.87      0.85      0.86       112\n",
      "\n",
      "    accuracy                           0.86       214\n",
      "   macro avg       0.85      0.86      0.85       214\n",
      "weighted avg       0.86      0.86      0.86       214\n",
      "\n",
      "0.8504672897196262\n",
      "[[86 16]\n",
      " [16 96]]\n",
      "              precision    recall  f1-score   support\n",
      "\n",
      "           0       0.84      0.84      0.84       102\n",
      "           1       0.86      0.86      0.86       112\n",
      "\n",
      "    accuracy                           0.85       214\n",
      "   macro avg       0.85      0.85      0.85       214\n",
      "weighted avg       0.85      0.85      0.85       214\n",
      "\n"
     ]
    }
   ],
   "source": [
    "model=[lg,dtc,gnb,svc,knn,rfc]\n",
    "\n",
    "for i in model:\n",
    "    i.fit(x_train,y_train)\n",
    "    i.score(x_train,y_train)\n",
    "    pred=i.predict(x_test)\n",
    "    print(accuracy_score(y_test,pred))\n",
    "    print(confusion_matrix(y_test,pred))\n",
    "    print(classification_report(y_test,pred))"
   ]
  },
  {
   "cell_type": "markdown",
   "id": "0234c94b",
   "metadata": {},
   "source": [
    "<span class=\"burk\">Roc curve</span>"
   ]
  },
  {
   "cell_type": "code",
   "execution_count": 196,
   "id": "22ecd775",
   "metadata": {},
   "outputs": [
    {
     "data": {
      "image/png": "[encoded data removed]",
      "text/plain": [
       "<Figure size 432x288 with 1 Axes>"
      ]
     },
     "metadata": {
      "needs_background": "light"
     },
     "output_type": "display_data"
    },
    {
     "data": {
      "text/plain": [
       "0.9259453781512605"
      ]
     },
     "execution_count": 196,
     "metadata": {},
     "output_type": "execute_result"
    }
   ],
   "source": [
    "<div class=\"burk\">\n",
    "pred_p=rfc.predict_proba(x_test)[:,1]\n",
    "fpr,tpr,thresholds=roc_curve(y_test,pred_p)\n",
    "plt.plot([0,1],[0,1],\"k--\")\n",
    "plt.plot(fpr,tpr,label='RandomForestClassifier')\n",
    "plt.xlabel('false positive rate')\n",
    "plt.ylabel('true positive rate')\n",
    "plt.title('RandomForestClassifier')\n",
    "plt.show()\n",
    "auc_s=roc_auc_score(y_test,pred_p)\n",
    "auc_s</div><i class=\"fa fa-lightbulb-o \"></i>"
   ]
  },
  {
   "cell_type": "code",
   "execution_count": 197,
   "id": "518f4d23",
   "metadata": {},
   "outputs": [
    {
     "data": {
      "image/png": "[encoded data removed]",
      "text/plain": [
       "<Figure size 432x288 with 1 Axes>"
      ]
     },
     "metadata": {
      "needs_background": "light"
     },
     "output_type": "display_data"
    },
    {
     "data": {
      "text/plain": [
       "0.9146533613445379"
      ]
     },
     "execution_count": 197,
     "metadata": {},
     "output_type": "execute_result"
    }
   ],
   "source": [
    "pred_p=lg.predict_proba(x_test)[:,1]\n",
    "fpr,tpr,thresholds=roc_curve(y_test,pred_p)\n",
    "plt.plot([0,1],[0,1],\"k--\")\n",
    "plt.plot(fpr,tpr,label='LogisticRegression')\n",
    "plt.xlabel('false positive rate')\n",
    "plt.ylabel('true positive rate')\n",
    "plt.title('LogisticRegression')\n",
    "plt.show()\n",
    "auc_s=roc_auc_score(y_test,pred_p)\n",
    "auc_s"
   ]
  },
  {
   "cell_type": "code",
   "execution_count": 198,
   "id": "7fb41627",
   "metadata": {},
   "outputs": [
    {
     "data": {
      "image/png": "[encoded data removed]",
      "text/plain": [
       "<Figure size 432x288 with 1 Axes>"
      ]
     },
     "metadata": {
      "needs_background": "light"
     },
     "output_type": "display_data"
    },
    {
     "data": {
      "text/plain": [
       "0.885329131652661"
      ]
     },
     "execution_count": 198,
     "metadata": {},
     "output_type": "execute_result"
    }
   ],
   "source": [
    "<div class=\"mark\">\n",
    "dtc=DecisionTreeClassifier(criterion='entropy',max_depth=None,max_features=1,min_samples_leaf=7)\n",
    "dtc.fit(x_train,y_train)\n",
    "pred=dtc.predict(x_test)\n",
    "accuracy_score(y_test,pred)\n",
    "pred_p=dtc.predict_proba(x_test)[:,1]\n",
    "fpr,tpr,thresholds=roc_curve(y_test,pred_p)\n",
    "plt.plot([0,1],[0,1],\"k--\")\n",
    "plt.plot(fpr,tpr,label='Decision Tree Classifier')\n",
    "plt.xlabel('false positive rate')\n",
    "plt.ylabel('true positive rate')\n",
    "plt.title('DecisionTreeClassifier')\n",
    "plt.show()\n",
    "auc_s=roc_auc_score(y_test,pred_p)\n",
    "auc_s</div><i class=\"fa fa-lightbulb-o \"></i>"
   ]
  },
  {
   "cell_type": "markdown",
   "id": "d93565ff",
   "metadata": {},
   "source": [
    "<span class=\"burk\">cross validation score</span>"
   ]
  },
  {
   "cell_type": "code",
   "execution_count": 199,
   "id": "07fe5f79",
   "metadata": {},
   "outputs": [
    {
     "name": "stdout",
     "output_type": "stream",
     "text": [
      "cross validation score of Logistic Regression model : 0.8082182025352513\n"
     ]
    }
   ],
   "source": [
    "score=cross_val_score(lg,x,y,cv=9)\n",
    "print('cross validation score of Logistic Regression model :',score.mean())"
   ]
  },
  {
   "cell_type": "code",
   "execution_count": 200,
   "id": "5313a1a6",
   "metadata": {},
   "outputs": [
    {
     "name": "stdout",
     "output_type": "stream",
     "text": [
      "[0.72897196 0.81775701 0.74299065 0.82159624 0.82629108]\n",
      "0.7875213900223773\n",
      "0.04240141291685086\n"
     ]
    }
   ],
   "source": [
    "score=cross_val_score(dtc,x,y,cv=5)\n",
    "print(score)\n",
    "print(score.mean())\n",
    "print(score.std())"
   ]
  },
  {
   "cell_type": "code",
   "execution_count": 201,
   "id": "10925369",
   "metadata": {},
   "outputs": [
    {
     "name": "stdout",
     "output_type": "stream",
     "text": [
      "[0.6635514  0.71962617 0.80373832 0.80751174 0.76995305]\n",
      "0.7528761353165724\n",
      "0.05467741759076917\n"
     ]
    }
   ],
   "source": [
    "score=cross_val_score(knn,x,y,cv=5)\n",
    "print(score)\n",
    "print(score.mean())\n",
    "print(score.std())"
   ]
  },
  {
   "cell_type": "code",
   "execution_count": 202,
   "id": "e7484661",
   "metadata": {},
   "outputs": [
    {
     "name": "stdout",
     "output_type": "stream",
     "text": [
      "[0.55140187 0.6682243  0.72897196 0.72300469 0.66197183]\n",
      "0.6667149313325436\n",
      "0.06382217940385548\n"
     ]
    }
   ],
   "source": [
    "score=cross_val_score(svc,x,y,cv=5)\n",
    "print(score)\n",
    "print(score.mean())\n",
    "print(score.std())"
   ]
  },
  {
   "cell_type": "code",
   "execution_count": 203,
   "id": "de58339d",
   "metadata": {},
   "outputs": [
    {
     "name": "stdout",
     "output_type": "stream",
     "text": [
      "[0.71962617 0.78971963 0.73831776 0.85446009 0.87793427]\n",
      "0.7960115835198105\n",
      "0.06217789529556819\n"
     ]
    }
   ],
   "source": [
    "score=cross_val_score(gnb,x,y,cv=5)\n",
    "print(score)\n",
    "print(score.mean())\n",
    "print(score.std())"
   ]
  },
  {
   "cell_type": "code",
   "execution_count": 204,
   "id": "e0916f62",
   "metadata": {},
   "outputs": [
    {
     "name": "stdout",
     "output_type": "stream",
     "text": [
      "[0.77570093 0.8364486  0.81308411 0.88262911 0.87323944]\n",
      "0.8362204378921504\n",
      "0.039299167506216016\n"
     ]
    }
   ],
   "source": [
    "score=cross_val_score(rfc,x,y,cv=5)\n",
    "print(score)\n",
    "print(score.mean())\n",
    "print(score.std())"
   ]
  },
  {
   "cell_type": "markdown",
   "id": "a2c51414",
   "metadata": {},
   "source": [
    "<span class=\"burk\">GridSearchCV</span>"
   ]
  },
  {
   "cell_type": "code",
   "execution_count": 92,
   "id": "987cee22",
   "metadata": {},
   "outputs": [],
   "source": [
    "parameters={\"max_features\":['auto','sqrt','log2'],\n",
    "           'max_depth':[4,5,6,7,8],\n",
    "           'criterion':['gini','entropy'],\n",
    "           'n_estimators':[100,200,300,400,500]}"
   ]
  },
  {
   "cell_type": "code",
   "execution_count": 93,
   "id": "f758d4ea",
   "metadata": {},
   "outputs": [
    {
     "data": {
      "text/plain": [
       "{'criterion': 'gini',\n",
       " 'max_depth': 8,\n",
       " 'max_features': 'auto',\n",
       " 'n_estimators': 100}"
      ]
     },
     "execution_count": 93,
     "metadata": {},
     "output_type": "execute_result"
    }
   ],
   "source": [
    "gcv=GridSearchCV(RandomForestClassifier(),parameters,cv=7,scoring='accuracy')\n",
    "gcv.fit(x_train,y_train)\n",
    "gcv.best_params_"
   ]
  },
  {
   "cell_type": "code",
   "execution_count": 94,
   "id": "a0b614da",
   "metadata": {},
   "outputs": [
    {
     "data": {
      "text/plain": [
       "sklearn.model_selection._search.GridSearchCV"
      ]
     },
     "execution_count": 94,
     "metadata": {},
     "output_type": "execute_result"
    }
   ],
   "source": [
    "type(gcv)"
   ]
  },
  {
   "cell_type": "code",
   "execution_count": 95,
   "id": "fa352a76",
   "metadata": {},
   "outputs": [
    {
     "data": {
      "text/plain": [
       "0.8785046728971962"
      ]
     },
     "execution_count": 95,
     "metadata": {},
     "output_type": "execute_result"
    }
   ],
   "source": [
    "gcv_pred=gcv.best_estimator_.predict(x_test)\n",
    "accuracy_score(y_test,gcv_pred)"
   ]
  },
  {
   "cell_type": "code",
   "execution_count": 205,
   "id": "81713d1e",
   "metadata": {},
   "outputs": [
    {
     "name": "stdout",
     "output_type": "stream",
     "text": [
      "0.8785046728971962\n"
     ]
    }
   ],
   "source": [
    "filename = 'finalized_modelgcv.sav'\n",
    "pickle.dump(model, open(filename, 'wb'))\n",
    " \n",
    "# some time later...\n",
    " \n",
    "# load the model from disk\n",
    "loaded_model = pickle.load(open(filename, 'rb'))\n",
    "result = accuracy_score(y_test,gcv_pred)\n",
    "print(result)"
   ]
  },
  {
   "cell_type": "code",
   "execution_count": null,
   "id": "37b1f98a",
   "metadata": {},
   "outputs": [],
   "source": []
  }
 ],
 "metadata": {
  "hide_input": false,
  "kernelspec": {
   "display_name": "Python 3 (ipykernel)",
   "language": "python",
   "name": "python3"
  },
  "language_info": {
   "codemirror_mode": {
    "name": "ipython",
    "version": 3
   },
   "file_extension": ".py",
   "mimetype": "text/x-python",
   "name": "python",
   "nbconvert_exporter": "python",
   "pygments_lexer": "ipython3",
   "version": "3.9.7"
  },
  "latex_envs": {
   "LaTeX_envs_menu_present": true,
   "autoclose": false,
   "autocomplete": true,
   "bibliofile": "biblio.bib",
   "cite_by": "apalike",
   "current_citInitial": 1,
   "eqLabelWithNumbers": true,
   "eqNumInitial": 1,
   "hotkeys": {
    "equation": "Ctrl-E",
    "itemize": "Ctrl-I"
   },
   "labels_anchors": false,
   "latex_user_defs": false,
   "report_style_numbering": false,
   "user_envs_cfg": false
  },
  "varInspector": {
   "cols": {
    "lenName": 16,
    "lenType": 16,
    "lenVar": 40
   },
   "kernels_config": {
    "python": {
     "delete_cmd_postfix": "",
     "delete_cmd_prefix": "del ",
     "library": "var_list.py",
     "varRefreshCmd": "print(var_dic_list())"
    },
    "r": {
     "delete_cmd_postfix": ") ",
     "delete_cmd_prefix": "rm(",
     "library": "var_list.r",
     "varRefreshCmd": "cat(var_dic_list()) "
    }
   },
   "types_to_exclude": [
    "module",
    "function",
    "builtin_function_or_method",
    "instance",
    "_Feature"
   ],
   "window_display": false
  }
 },
 "nbformat": 4,
 "nbformat_minor": 5
}
